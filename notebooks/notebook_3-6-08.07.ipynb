{
 "cells": [
  {
   "cell_type": "markdown",
   "metadata": {
    "collapsed": true
   },
   "source": [
    "# STSA Python pattern: Houston Flood data\n",
    "\n",
    "\n",
    "![Hurricane Harvey](https://github.com/scottdangelo/houston-flood-2017/blob/master/doc/source/images/Harvey.png)\n",
    "\n",
    "NASA TERRA MODIS INFRARED IMAGE OF HARVEY AT 0419 UTC 26 AUGUST 2017 JUST AFTER LANDFALL AS A\n",
    "CATEGORY 4 HURRICANE IN TEXAS. IMAGE COURTESY OF UW/CIMSS. g"
   ]
  },
  {
   "cell_type": "markdown",
   "metadata": {},
   "source": [
    "## 1.0 Install dependencies and import packages"
   ]
  },
  {
   "cell_type": "markdown",
   "metadata": {},
   "source": [
    "### 1.1 Install pixiedust\n",
    "\n",
    "We install the prerequisites using the `!pip install` syntax here.\n",
    "In some cases, running pip install from a notebook may require a one-time kernel restart. Check the output for messages.\n",
    "If instructed to restart the kernel, from the notebook toolbar menu: • Go to > Kernel > Restart • Click Restart in the confirmation dialog\n",
    "> Note: The status of the kernel briefly flashes near the upper right corner, alerting when it is Not Connected, Restarting, Ready, etc. "
   ]
  },
  {
   "cell_type": "code",
   "execution_count": 1,
   "metadata": {},
   "outputs": [
    {
     "name": "stdout",
     "output_type": "stream",
     "text": [
      "Requirement already up-to-date: pixiedust in /gpfs/global_fs01/sym_shared/YPProdSpark/user/s49d-fa6eebe94d4691-2ef1a5e3ed71/.local/lib/python3.5/site-packages (1.1.15)\n",
      "Requirement not upgraded as not directly required: colour in /usr/local/src/conda3_runtime.v51/home/envs/DSX-Python35-Spark/lib/python3.5/site-packages (from pixiedust) (0.1.5)\n",
      "Requirement not upgraded as not directly required: lxml in /usr/local/src/conda3_runtime.v51/home/envs/DSX-Python35-Spark/lib/python3.5/site-packages (from pixiedust) (4.1.0)\n",
      "Requirement not upgraded as not directly required: geojson in /usr/local/src/conda3_runtime.v51/home/envs/DSX-Python35-Spark/lib/python3.5/site-packages (from pixiedust) (1.3.5)\n",
      "Requirement not upgraded as not directly required: astunparse in /usr/local/src/conda3_runtime.v51/home/envs/DSX-Python35-Spark/lib/python3.5/site-packages (from pixiedust) (1.5.0)\n",
      "Requirement not upgraded as not directly required: requests in /usr/local/src/conda3_runtime.v51/home/envs/DSX-Python35-Spark/lib/python3.5/site-packages (from pixiedust) (2.18.4)\n",
      "Requirement not upgraded as not directly required: markdown in /usr/local/src/conda3_runtime.v51/home/envs/DSX-Python35-Spark/lib/python3.5/site-packages (from pixiedust) (2.6.9)\n",
      "Requirement not upgraded as not directly required: mpld3 in /usr/local/src/conda3_runtime.v51/home/envs/DSX-Python35-Spark/lib/python3.5/site-packages (from pixiedust) (0.3)\n",
      "Requirement not upgraded as not directly required: wheel<1.0,>=0.23.0 in /usr/local/src/conda3_runtime.v51/home/envs/DSX-Python35-Spark/lib/python3.5/site-packages (from astunparse->pixiedust) (0.31.1)\n",
      "Requirement not upgraded as not directly required: six<2.0,>=1.6.1 in /usr/local/src/conda3_runtime.v51/home/envs/DSX-Python35-Spark/lib/python3.5/site-packages (from astunparse->pixiedust) (1.11.0)\n",
      "Requirement not upgraded as not directly required: chardet<3.1.0,>=3.0.2 in /usr/local/src/conda3_runtime.v51/home/envs/DSX-Python35-Spark/lib/python3.5/site-packages (from requests->pixiedust) (3.0.4)\n",
      "Requirement not upgraded as not directly required: idna<2.7,>=2.5 in /usr/local/src/conda3_runtime.v51/home/envs/DSX-Python35-Spark/lib/python3.5/site-packages (from requests->pixiedust) (2.6)\n",
      "Requirement not upgraded as not directly required: urllib3<1.23,>=1.21.1 in /usr/local/src/conda3_runtime.v51/home/envs/DSX-Python35-Spark/lib/python3.5/site-packages (from requests->pixiedust) (1.22)\n",
      "Requirement not upgraded as not directly required: certifi>=2017.4.17 in /usr/local/src/conda3_runtime.v51/home/envs/DSX-Python35-Spark/lib/python3.5/site-packages (from requests->pixiedust) (2018.11.29)\n",
      "\u001b[31mnotebook 5.0.0 requires nbconvert, which is not installed.\u001b[0m\n",
      "\u001b[31mipywidgets 6.0.0 requires widgetsnbextension~=2.0.0, which is not installed.\u001b[0m\n",
      "\u001b[31mtensorflow 1.3.0 requires tensorflow-tensorboard<0.2.0,>=0.1.0, which is not installed.\u001b[0m\n"
     ]
    }
   ],
   "source": [
    "!pip install --upgrade pixiedust"
   ]
  },
  {
   "cell_type": "markdown",
   "metadata": {},
   "source": [
    "### 1.2 Import the packages\n",
    "Numpy is a package for scientific computing in Python.  \n",
    "Pandas helps with data structures.  \n",
    "[Pixiedust](https://pixiedust.github.io/pixiedust/) is a Python helper library for Jupyter notebooks."
   ]
  },
  {
   "cell_type": "code",
   "execution_count": 2,
   "metadata": {},
   "outputs": [
    {
     "name": "stdout",
     "output_type": "stream",
     "text": [
      "Pixiedust database opened successfully\n"
     ]
    },
    {
     "data": {
      "text/html": [
       "\n",
       "        <div style=\"margin:10px\">\n",
       "            <a href=\"https://github.com/ibm-watson-data-lab/pixiedust\" target=\"_new\">\n",
       "                <img src=\"https://github.com/ibm-watson-data-lab/pixiedust/raw/master/docs/_static/pd_icon32.png\" style=\"float:left;margin-right:10px\"/>\n",
       "            </a>\n",
       "            <span>Pixiedust version 1.1.15</span>\n",
       "        </div>\n",
       "        "
      ],
      "text/plain": [
       "<IPython.core.display.HTML object>"
      ]
     },
     "metadata": {},
     "output_type": "display_data"
    }
   ],
   "source": [
    "import pandas as pd\n",
    "import numpy as np\n",
    "import pixiedust"
   ]
  },
  {
   "cell_type": "markdown",
   "metadata": {},
   "source": [
    "## 2.0 Obtain and curate data"
   ]
  },
  {
   "cell_type": "markdown",
   "metadata": {},
   "source": [
    "In order to do data science, or data engineering, we'll need some data.\n",
    "So, what problem are we trying to solve?\n",
    "\n",
    "### Where in Houston does flooding occur, and which specific adresses are vulnerable?"
   ]
  },
  {
   "cell_type": "markdown",
   "metadata": {},
   "source": [
    "### 2.1 Search for data\n",
    "We are interested in the flooding in Houston on August, 2017, as a result of Hurricane Harvey.\n",
    "Using a search engine, we can try `houston flood 2017 data`.  \n",
    "That gave many results, mostly news stories. But there are some promising sites, many from US government agencies:  \n",
    "* https://www.weather.gov\n",
    "* https://txpub.usgs.gov/floodwatch/#page-top\n",
    "* https://water.weather.gov/ahps2/index.php?wfo=hgx\n",
    "* https://www.nhc.noaa.gov/data/tcr/AL092017_Harvey.pdf\n",
    "* https://stn.wim.usgs.gov/STNDataPortal/#\n",
    "* https://streamstats.usgs.gov/ss/\n",
    "\n",
    "That's just the beginning, but hopefully it can lead to some data we can use."
   ]
  },
  {
   "cell_type": "code",
   "execution_count": null,
   "metadata": {},
   "outputs": [],
   "source": []
  },
  {
   "cell_type": "markdown",
   "metadata": {},
   "source": [
    "### 2.2 Download and examine data\n",
    "\n",
    "We'll use some data that has been cleaned up a bit to expedite things.\n",
    "* Column headers have been renamed to make more sense\n",
    "* Unimportant features (columns) have been removed\n",
    "* Latitude and longitude have been added\n",
    "* Location name has been added"
   ]
  },
  {
   "cell_type": "code",
   "execution_count": 3,
   "metadata": {},
   "outputs": [
    {
     "name": "stdout",
     "output_type": "stream",
     "text": [
      "--2019-03-05 17:11:57--  https://www.dropbox.com/s/hrxu2qwcsosrxf5/HuntingBayou.csv?dl=0\n",
      "Resolving www.dropbox.com (www.dropbox.com)... 162.125.8.1, 2620:100:601b:1::a27d:801\n",
      "Connecting to www.dropbox.com (www.dropbox.com)|162.125.8.1|:443... connected.\n",
      "HTTP request sent, awaiting response... 301 Moved Permanently\n",
      "Location: /s/raw/hrxu2qwcsosrxf5/HuntingBayou.csv [following]\n",
      "--2019-03-05 17:11:57--  https://www.dropbox.com/s/raw/hrxu2qwcsosrxf5/HuntingBayou.csv\n",
      "Reusing existing connection to www.dropbox.com:443.\n",
      "HTTP request sent, awaiting response... 302 Found\n",
      "Location: https://ucb53af2ca12cec17135c0d25df7.dl.dropboxusercontent.com/cd/0/inline/AchLCE3BJ-1lL-Ksnp14i9WPdp2W-7CKf2eMJbUkhBsUds29L7hz16BCCtotlO0J-yvdn8FMeD1wd65bjgiQzmWJl1dTvs7Zz4sD7kSq6zIDoSxbw00DxF9lEV-ruUBp7GU/file# [following]\n",
      "--2019-03-05 17:11:57--  https://ucb53af2ca12cec17135c0d25df7.dl.dropboxusercontent.com/cd/0/inline/AchLCE3BJ-1lL-Ksnp14i9WPdp2W-7CKf2eMJbUkhBsUds29L7hz16BCCtotlO0J-yvdn8FMeD1wd65bjgiQzmWJl1dTvs7Zz4sD7kSq6zIDoSxbw00DxF9lEV-ruUBp7GU/file\n",
      "Resolving ucb53af2ca12cec17135c0d25df7.dl.dropboxusercontent.com (ucb53af2ca12cec17135c0d25df7.dl.dropboxusercontent.com)... 162.125.8.6, 2620:100:601b:6::a27d:806\n",
      "Connecting to ucb53af2ca12cec17135c0d25df7.dl.dropboxusercontent.com (ucb53af2ca12cec17135c0d25df7.dl.dropboxusercontent.com)|162.125.8.6|:443... connected.\n",
      "HTTP request sent, awaiting response... 200 OK\n",
      "Length: 59655 (58K) [text/plain]\n",
      "Saving to: ‘HuntingBayou.csv?dl=0’\n",
      "\n",
      "100%[======================================>] 59,655      --.-K/s   in 0.001s  \n",
      "\n",
      "2019-03-05 17:11:57 (97.4 MB/s) - ‘HuntingBayou.csv?dl=0’ saved [59655/59655]\n",
      "\n"
     ]
    }
   ],
   "source": [
    "!wget 'https://www.dropbox.com/s/hrxu2qwcsosrxf5/HuntingBayou.csv?dl=0'"
   ]
  },
  {
   "cell_type": "code",
   "execution_count": 4,
   "metadata": {},
   "outputs": [
    {
     "name": "stdout",
     "output_type": "stream",
     "text": [
      "additional_feedback_data.json\t\tgerman_credit_feed.json\r\n",
      "german_credit_data_biased_training.csv\tHuntingBayou.csv\r\n"
     ]
    }
   ],
   "source": [
    "!mv HuntingBayou.csv?dl=0 HuntingBayou.csv\n",
    "!ls"
   ]
  },
  {
   "cell_type": "code",
   "execution_count": 5,
   "metadata": {},
   "outputs": [
    {
     "name": "stdout",
     "output_type": "stream",
     "text": [
      "--2019-03-05 17:12:09--  https://www.dropbox.com/s/5cy0bnw2g62k0w1/WhiteoakBayou.csv?dl=0\n",
      "Resolving www.dropbox.com (www.dropbox.com)... 162.125.8.1, 2620:100:601b:1::a27d:801\n",
      "Connecting to www.dropbox.com (www.dropbox.com)|162.125.8.1|:443... connected.\n",
      "HTTP request sent, awaiting response... 301 Moved Permanently\n",
      "Location: /s/raw/5cy0bnw2g62k0w1/WhiteoakBayou.csv [following]\n",
      "--2019-03-05 17:12:09--  https://www.dropbox.com/s/raw/5cy0bnw2g62k0w1/WhiteoakBayou.csv\n",
      "Reusing existing connection to www.dropbox.com:443.\n",
      "HTTP request sent, awaiting response... 302 Found\n",
      "Location: https://ucc1a03afb794caba4c30b7f1bc9.dl.dropboxusercontent.com/cd/0/inline/AcgKSneZx3NU65RT6aEeaDvKthaielIPL32jUkb-jPGvut7YWMfMEX_D5_gsjJKTFrKWLk6RR8x3ITf_mTHPgoPfbi9qf36oyAIddaCMyXT74HHMb4dK490-QaHuCW0cWGs/file# [following]\n",
      "--2019-03-05 17:12:09--  https://ucc1a03afb794caba4c30b7f1bc9.dl.dropboxusercontent.com/cd/0/inline/AcgKSneZx3NU65RT6aEeaDvKthaielIPL32jUkb-jPGvut7YWMfMEX_D5_gsjJKTFrKWLk6RR8x3ITf_mTHPgoPfbi9qf36oyAIddaCMyXT74HHMb4dK490-QaHuCW0cWGs/file\n",
      "Resolving ucc1a03afb794caba4c30b7f1bc9.dl.dropboxusercontent.com (ucc1a03afb794caba4c30b7f1bc9.dl.dropboxusercontent.com)... 162.125.8.6, 2620:100:601b:6::a27d:806\n",
      "Connecting to ucc1a03afb794caba4c30b7f1bc9.dl.dropboxusercontent.com (ucc1a03afb794caba4c30b7f1bc9.dl.dropboxusercontent.com)|162.125.8.6|:443... connected.\n",
      "HTTP request sent, awaiting response... 200 OK\n",
      "Length: 32786 (32K) [text/plain]\n",
      "Saving to: ‘WhiteoakBayou.csv?dl=0’\n",
      "\n",
      "100%[======================================>] 32,786      --.-K/s   in 0s      \n",
      "\n",
      "2019-03-05 17:12:10 (100 MB/s) - ‘WhiteoakBayou.csv?dl=0’ saved [32786/32786]\n",
      "\n"
     ]
    }
   ],
   "source": [
    "!wget 'https://www.dropbox.com/s/5cy0bnw2g62k0w1/WhiteoakBayou.csv?dl=0'"
   ]
  },
  {
   "cell_type": "code",
   "execution_count": 6,
   "metadata": {},
   "outputs": [
    {
     "name": "stdout",
     "output_type": "stream",
     "text": [
      "additional_feedback_data.json\t\tHuntingBayou.csv\r\n",
      "german_credit_data_biased_training.csv\tWhiteoakBayou.csv\r\n",
      "german_credit_feed.json\r\n"
     ]
    }
   ],
   "source": [
    "!mv WhiteoakBayou.csv?dl=0 WhiteoakBayou.csv\n",
    "!ls"
   ]
  },
  {
   "cell_type": "markdown",
   "metadata": {},
   "source": [
    "### 2.3 Load data into a Pandas dataframe"
   ]
  },
  {
   "cell_type": "code",
   "execution_count": 10,
   "metadata": {},
   "outputs": [],
   "source": [
    "whiteoak = pd.read_csv('WhiteoakBayou.csv')\n",
    "hunting = pd.read_csv('HuntingBayou.csv')"
   ]
  },
  {
   "cell_type": "markdown",
   "metadata": {},
   "source": [
    "### 2.4 Use pixiedust `display()` to  explore the schema and browse the data\n",
    "\n",
    "#### 2.4.1 Select _DataFrame Table_ icon in the display widget to see the data in tabular form\n",
    "\n",
    "![pixiedust dataframe icon](https://github.com/scottdangelo/houston-flood-2017/blob/master/doc/source/images/pixieDataFrameIcon.png)\n",
    "\n",
    "#### 2.4.2 Select the chart icon to pull down and choose `line chart`. Click the `Options` button, and then for `Keys` drag and drop `datetime` and for `Values` drag and drop `Discharge`. This will display the water discharge at this stream gauge in cubic feet per second.\n",
    "\n",
    "![pixie choose line chart](https://github.com/scottdangelo/houston-flood-2017/blob/master/doc/source/images/pixieChooseLineChart.png)\n",
    "\n",
    "![pixie options datetime discharge](https://github.com/scottdangelo/houston-flood-2017/blob/master/doc/source/images/pixieOptionsDatetimeDischarge.png)\n",
    "\n",
    "#### 2.4.3 Look at the diferences in the display of the graph when the `Renderer` is switched from `matplotlib` to `bokeh`. (Note that `brunel` will throw an error)\n",
    "\n",
    "![pixie change renderer](https://github.com/scottdangelo/houston-flood-2017/blob/master/doc/source/images/pixieChangeRenderer.png)\n",
    "\n",
    "#### 2.4.4  Click the `Options` button, and then for `Keys` drag and drop `datetime` and for `Values` drag and drop `Gauge_Height`. This will display the height of the water at this stream gauge, in feet.\n"
   ]
  },
  {
   "cell_type": "code",
   "execution_count": 8,
   "metadata": {
    "pixiedust": {
     "displayParams": {
      "aggregation": "MAX",
      "chartsize": "100",
      "handlerId": "mapView",
      "keyFields": "latitude,longitude",
      "mapboxtoken": "pk.eyJ1IjoibWFwYm94IiwiYSI6ImNpejY4M29iazA2Z2gycXA4N2pmbDZmangifQ.-g_vE53SD2WrJ6tFX7QHmA",
      "rendererId": "matplotlib",
      "timeseries": "true",
      "valueFields": "Gage_Height(feet),Discharge(cfs)"
     }
    }
   },
   "outputs": [
    {
     "data": {
      "text/html": [
       "<style type=\"text/css\">.pd_warning{display:none;}</style><div class=\"pd_warning\"><em>Hey, there's something awesome here! To see it, open this notebook outside GitHub, in a viewer like Jupyter</em></div>\n",
       "        <div class=\"pd_save is-viewer-good\" style=\"padding-right:10px;text-align: center;line-height:initial !important;font-size: xx-large;font-weight: 500;color: coral;\">\n",
       "            \n",
       "        </div>\n",
       "    <div id=\"chartFigure4ae57d6b\" class=\"pd_save is-viewer-good\" style=\"overflow-x:auto\">\n",
       "            <script>\n",
       "  window.iframeLoaded = window.iframeLoaded || function(iframe) {\n",
       "    try {\n",
       "      iframe.contentWindow.pdMessageListeners = [];\n",
       "      iframe.contentWindow[\"addPDMessageListener\"] = function(listener){\n",
       "        iframe.contentWindow.pdMessageListeners.push(listener);\n",
       "      }\n",
       "      iframe.contentWindow.addEventListener(\"message\", function(event){\n",
       "        iframe.contentWindow.pdMessageListeners.forEach(function(listener){\n",
       "          listener(event);\n",
       "        });\n",
       "      }, false);\n",
       "      iframe.contentWindow.ready = true;\n",
       "      iframe.contentWindow[\"triggerPDEvent\"] = function(eventInfo) {\n",
       "        $(document).trigger('pd_event', eventInfo);\n",
       "      }\n",
       "    } catch (e) {\n",
       "      console.log(e)\n",
       "    }\n",
       "  }\n",
       "\n",
       "  \n",
       "</script>\n",
       "<iframe id=\"mapframe4ae57d6b\" style=\"width:800.0px;height:500px\" srcdoc=\"<!DOCTYPE html>\n",
       "<html lang=&quot;en&quot;>\n",
       "<head>\n",
       "    <meta charset=&quot;UTF-8&quot;>\n",
       "    <meta name=&quot;viewport&quot; content=&quot;width=device-width, initial-scale=1&quot;>\n",
       "    <title>Pixiedust Mapbox map</title>\n",
       "    <script src=&quot;https://api.tiles.mapbox.com/mapbox-gl-js/v0.32.1/mapbox-gl.js&quot;></script>\n",
       "    <link href=&quot;https://api.tiles.mapbox.com/mapbox-gl-js/v0.32.1/mapbox-gl.css&quot; rel=&quot;stylesheet&quot; />\n",
       "    <style>\n",
       "    .mapboxgl-popup-content h3 { \n",
       "        margin: 2px 0 2px 0;\n",
       "        font-style: italic;\n",
       "    }\n",
       "    .mapboxgl-popup {\n",
       "        max-width: 200px;\n",
       "    }\n",
       "    #map canvas {\n",
       "        cursor: crosshair;\n",
       "    }\n",
       "    .legend {\n",
       "        background-color: rgba(255,255,255, 0.75);\n",
       "        border-radius: 3px;\n",
       "        position: absolute;\n",
       "        left: 14px;\n",
       "        top: 14px;\n",
       "        box-shadow: 0 1px 2px rgba(0,0,0,0.10);\n",
       "        font-size: 12px;\n",
       "        line-height: 18px;\n",
       "        padding: 10px;\n",
       "        z-index: 1;\n",
       "    }\n",
       "    .legend h4 {\n",
       "        margin: 0 0 10px;\n",
       "    }\n",
       "    .legend div span {\n",
       "        border-radius: 50%;\n",
       "        display: inline-block;\n",
       "        height: 10px;\n",
       "        margin-right: 5px;\n",
       "        width: 10px;\n",
       "    }\n",
       "    body { \n",
       "        background-color:#333; \n",
       "        margin:0px !important; \n",
       "        overflow: hidden;\n",
       "        font-family: &quot;Helvetica Neue&quot;, Arial, Helvetica, sans-serif;\n",
       "    }\n",
       "    </style>\n",
       "</head>\n",
       "<body>\n",
       "<div id=&quot;map-4ae57d6b-3e70a606&quot; style=&quot;width:calc(800.0px - 4px);height:calc(500px - 4px)&quot; />\n",
       "\n",
       "\n",
       "<script>\n",
       "    !function(e){if(&quot;object&quot;==typeof exports&amp;&amp;&quot;undefined&quot;!=typeof module)module.exports=e();else if(&quot;function&quot;==typeof define&amp;&amp;define.amd)define([],e);else{var n;&quot;undefined&quot;!=typeof window?n=window:&quot;undefined&quot;!=typeof global?n=global:&quot;undefined&quot;!=typeof self&amp;&amp;(n=self),n.geojsonExtent=e()}}(function(){return function e(t,n,r){function s(o,u){if(!n[o]){if(!t[o]){var a=&quot;function&quot;==typeof require&amp;&amp;require;if(!u&amp;&amp;a)return a(o,!0);if(i)return i(o,!0);var f=new Error(&quot;Cannot find module &quot;+o+&quot;&quot;);throw f.code=&quot;MODULE_NOT_FOUND&quot;,f}var l=n[o]={exports:{}};t[o][0].call(l.exports,function(e){var n=t[o][1][e];return s(n?n:e)},l,l.exports,e,t,n,r)}return n[o].exports}for(var i=&quot;function&quot;==typeof require&amp;&amp;require,o=0;o<r.length;o++)s(r[o]);return s}({1:[function(require,module){function getExtent(_){for(var ext=extent(),coords=geojsonCoords(_),i=0;i<coords.length;i++)ext.include(coords[i]);return ext}var geojsonCoords=require(&quot;geojson-coords&quot;),traverse=require(&quot;traverse&quot;),extent=require(&quot;extent&quot;),geojsonTypes=[&quot;Point&quot;,&quot;MultiPoint&quot;,&quot;LineString&quot;,&quot;MultiLineString&quot;,&quot;Polygon&quot;,&quot;MultiPolygon&quot;,&quot;Feature&quot;,&quot;FeatureCollection&quot;,&quot;GeometryCollection&quot;];module.exports=function(_){return getExtent(_).bbox()},module.exports.polygon=function(_){return getExtent(_).polygon()},module.exports.bboxify=function(_){return traverse(_).map(function(value){value&amp;&amp;-1!==typeof geojsonTypes.indexOf(value.type)&amp;&amp;(console.log(value.type,value),value.bbox=getExtent(value).bbox(),this.update(value))})}},{extent:2,&quot;geojson-coords&quot;:4,traverse:7}],2:[function(require,module){function Extent(){return this instanceof Extent?(this._bbox=[1/0,1/0,-(1/0),-(1/0)],void(this._valid=!1)):new Extent}module.exports=Extent,Extent.prototype.include=function(ll){return this._valid=!0,this._bbox[0]=Math.min(this._bbox[0],ll[0]),this._bbox[1]=Math.min(this._bbox[1],ll[1]),this._bbox[2]=Math.max(this._bbox[2],ll[0]),this._bbox[3]=Math.max(this._bbox[3],ll[1]),this},Extent.prototype.union=function(other){return this._valid=!0,this._bbox[0]=Math.min(this._bbox[0],other[0]),this._bbox[1]=Math.min(this._bbox[1],other[1]),this._bbox[2]=Math.max(this._bbox[2],other[2]),this._bbox[3]=Math.max(this._bbox[3],other[3]),this},Extent.prototype.bbox=function(){return this._valid?this._bbox:null},Extent.prototype.contains=function(ll){return this._valid?this._bbox[0]<=ll[0]&amp;&amp;this._bbox[1]<=ll[1]&amp;&amp;this._bbox[2]>=ll[0]&amp;&amp;this._bbox[3]>=ll[1]:null},Extent.prototype.polygon=function(){return this._valid?{type:&quot;Polygon&quot;,coordinates:[[[this._bbox[0],this._bbox[1]],[this._bbox[2],this._bbox[1]],[this._bbox[2],this._bbox[3]],[this._bbox[0],this._bbox[3]],[this._bbox[0],this._bbox[1]]]]}:null}},{}],3:[function(require,module){module.exports=function(list){function _flatten(list){return Array.isArray(list)&amp;&amp;list.length&amp;&amp;&quot;number&quot;==typeof list[0]?[list]:list.reduce(function(acc,item){return Array.isArray(item)&amp;&amp;Array.isArray(item[0])?acc.concat(_flatten(item)):(acc.push(item),acc)},[])}return _flatten(list)}},{}],4:[function(require,module){var geojsonNormalize=require(&quot;geojson-normalize&quot;),geojsonFlatten=require(&quot;geojson-flatten&quot;),flatten=require(&quot;./flatten&quot;);module.exports=function(_){if(!_)return[];var normalized=geojsonFlatten(geojsonNormalize(_)),coordinates=[];return normalized.features.forEach(function(feature){feature.geometry&amp;&amp;(coordinates=coordinates.concat(flatten(feature.geometry.coordinates)))}),coordinates}},{&quot;./flatten&quot;:3,&quot;geojson-flatten&quot;:5,&quot;geojson-normalize&quot;:6}],5:[function(require,module){function flatten(gj){switch(gj&amp;&amp;gj.type||null){case&quot;FeatureCollection&quot;:return gj.features=gj.features.reduce(function(mem,feature){return mem.concat(flatten(feature))},[]),gj;case&quot;Feature&quot;:return flatten(gj.geometry).map(function(geom){return{type:&quot;Feature&quot;,properties:JSON.parse(JSON.stringify(gj.properties)),geometry:geom}});case&quot;MultiPoint&quot;:return gj.coordinates.map(function(_){return{type:&quot;Point&quot;,coordinates:_}});case&quot;MultiPolygon&quot;:return gj.coordinates.map(function(_){return{type:&quot;Polygon&quot;,coordinates:_}});case&quot;MultiLineString&quot;:return gj.coordinates.map(function(_){return{type:&quot;LineString&quot;,coordinates:_}});case&quot;GeometryCollection&quot;:return gj.geometries;case&quot;Point&quot;:case&quot;Polygon&quot;:case&quot;LineString&quot;:return[gj];default:return gj}}module.exports=flatten},{}],6:[function(require,module){function normalize(gj){if(!gj||!gj.type)return null;var type=types[gj.type];return type?&quot;geometry&quot;===type?{type:&quot;FeatureCollection&quot;,features:[{type:&quot;Feature&quot;,properties:{},geometry:gj}]}:&quot;feature&quot;===type?{type:&quot;FeatureCollection&quot;,features:[gj]}:&quot;featurecollection&quot;===type?gj:void 0:null}module.exports=normalize;var types={Point:&quot;geometry&quot;,MultiPoint:&quot;geometry&quot;,LineString:&quot;geometry&quot;,MultiLineString:&quot;geometry&quot;,Polygon:&quot;geometry&quot;,MultiPolygon:&quot;geometry&quot;,GeometryCollection:&quot;geometry&quot;,Feature:&quot;feature&quot;,FeatureCollection:&quot;featurecollection&quot;}},{}],7:[function(require,module){function Traverse(obj){this.value=obj}function walk(root,cb,immutable){var path=[],parents=[],alive=!0;return function walker(node_){function updateState(){if(&quot;object&quot;==typeof state.node&amp;&amp;null!==state.node){state.keys&amp;&amp;state.node_===state.node||(state.keys=objectKeys(state.node)),state.isLeaf=0==state.keys.length;for(var i=0;i<parents.length;i++)if(parents[i].node_===node_){state.circular=parents[i];break}}else state.isLeaf=!0,state.keys=null;state.notLeaf=!state.isLeaf,state.notRoot=!state.isRoot}var node=immutable?copy(node_):node_,modifiers={},keepGoing=!0,state={node:node,node_:node_,path:[].concat(path),parent:parents[parents.length-1],parents:parents,key:path.slice(-1)[0],isRoot:0===path.length,level:path.length,circular:null,update:function(x,stopHere){state.isRoot||(state.parent.node[state.key]=x),state.node=x,stopHere&amp;&amp;(keepGoing=!1)},&quot;delete&quot;:function(stopHere){delete state.parent.node[state.key],stopHere&amp;&amp;(keepGoing=!1)},remove:function(stopHere){isArray(state.parent.node)?state.parent.node.splice(state.key,1):delete state.parent.node[state.key],stopHere&amp;&amp;(keepGoing=!1)},keys:null,before:function(f){modifiers.before=f},after:function(f){modifiers.after=f},pre:function(f){modifiers.pre=f},post:function(f){modifiers.post=f},stop:function(){alive=!1},block:function(){keepGoing=!1}};if(!alive)return state;updateState();var ret=cb.call(state,state.node);return void 0!==ret&amp;&amp;state.update&amp;&amp;state.update(ret),modifiers.before&amp;&amp;modifiers.before.call(state,state.node),keepGoing?(&quot;object&quot;!=typeof state.node||null===state.node||state.circular||(parents.push(state),updateState(),forEach(state.keys,function(key,i){path.push(key),modifiers.pre&amp;&amp;modifiers.pre.call(state,state.node[key],key);var child=walker(state.node[key]);immutable&amp;&amp;hasOwnProperty.call(state.node,key)&amp;&amp;(state.node[key]=child.node),child.isLast=i==state.keys.length-1,child.isFirst=0==i,modifiers.post&amp;&amp;modifiers.post.call(state,child),path.pop()}),parents.pop()),modifiers.after&amp;&amp;modifiers.after.call(state,state.node),state):state}(root).node}function copy(src){if(&quot;object&quot;==typeof src&amp;&amp;null!==src){var dst;if(isArray(src))dst=[];else if(isDate(src))dst=new Date(src.getTime?src.getTime():src);else if(isRegExp(src))dst=new RegExp(src);else if(isError(src))dst={message:src.message};else if(isBoolean(src))dst=new Boolean(src);else if(isNumber(src))dst=new Number(src);else if(isString(src))dst=new String(src);else if(Object.create&amp;&amp;Object.getPrototypeOf)dst=Object.create(Object.getPrototypeOf(src));else if(src.constructor===Object)dst={};else{var proto=src.constructor&amp;&amp;src.constructor.prototype||src.__proto__||{},T=function(){};T.prototype=proto,dst=new T}return forEach(objectKeys(src),function(key){dst[key]=src[key]}),dst}return src}function toS(obj){return Object.prototype.toString.call(obj)}function isDate(obj){return&quot;[object Date]&quot;===toS(obj)}function isRegExp(obj){return&quot;[object RegExp]&quot;===toS(obj)}function isError(obj){return&quot;[object Error]&quot;===toS(obj)}function isBoolean(obj){return&quot;[object Boolean]&quot;===toS(obj)}function isNumber(obj){return&quot;[object Number]&quot;===toS(obj)}function isString(obj){return&quot;[object String]&quot;===toS(obj)}var traverse=module.exports=function(obj){return new Traverse(obj)};Traverse.prototype.get=function(ps){for(var node=this.value,i=0;i<ps.length;i++){var key=ps[i];if(!node||!hasOwnProperty.call(node,key)){node=void 0;break}node=node[key]}return node},Traverse.prototype.has=function(ps){for(var node=this.value,i=0;i<ps.length;i++){var key=ps[i];if(!node||!hasOwnProperty.call(node,key))return!1;node=node[key]}return!0},Traverse.prototype.set=function(ps,value){for(var node=this.value,i=0;i<ps.length-1;i++){var key=ps[i];hasOwnProperty.call(node,key)||(node[key]={}),node=node[key]}return node[ps[i]]=value,value},Traverse.prototype.map=function(cb){return walk(this.value,cb,!0)},Traverse.prototype.forEach=function(cb){return this.value=walk(this.value,cb,!1),this.value},Traverse.prototype.reduce=function(cb,init){var skip=1===arguments.length,acc=skip?this.value:init;return this.forEach(function(x){this.isRoot&amp;&amp;skip||(acc=cb.call(this,acc,x))}),acc},Traverse.prototype.paths=function(){var acc=[];return this.forEach(function(){acc.push(this.path)}),acc},Traverse.prototype.nodes=function(){var acc=[];return this.forEach(function(){acc.push(this.node)}),acc},Traverse.prototype.clone=function(){var parents=[],nodes=[];return function clone(src){for(var i=0;i<parents.length;i++)if(parents[i]===src)return nodes[i];if(&quot;object&quot;==typeof src&amp;&amp;null!==src){var dst=copy(src);return parents.push(src),nodes.push(dst),forEach(objectKeys(src),function(key){dst[key]=clone(src[key])}),parents.pop(),nodes.pop(),dst}return src}(this.value)};var objectKeys=Object.keys||function(obj){var res=[];for(var key in obj)res.push(key);return res},isArray=Array.isArray||function(xs){return&quot;[object Array]&quot;===Object.prototype.toString.call(xs)},forEach=function(xs,fn){if(xs.forEach)return xs.forEach(fn);for(var i=0;i<xs.length;i++)fn(xs[i],i,xs)};forEach(objectKeys(Traverse.prototype),function(key){traverse[key]=function(obj){var args=[].slice.call(arguments,1),t=new Traverse(obj);return t[key].apply(t,args)}});var hasOwnProperty=Object.hasOwnProperty||function(obj,key){return key in obj}},{}]},{},[1])(1)});    \n",
       "    var comment = &quot;&quot;;\n",
       "    mapboxgl.accessToken=&quot;pk.eyJ1IjoibWFwYm94IiwiYSI6ImNpejY4M29iazA2Z2gycXA4N2pmbDZmangifQ.-g_vE53SD2WrJ6tFX7QHmA&quot;;\n",
       "    var mapdata = null;\n",
       "    var map = new mapboxgl.Map({\n",
       "        container: &quot;map-4ae57d6b-3e70a606&quot;,\n",
       "        style: &quot;mapbox://styles/mapbox/light-v9&quot;\n",
       "    });\n",
       "\n",
       "    setTimeout(function(){\n",
       "        if (window.addPDMessageListener){\n",
       "            window.addPDMessageListener(function(event){\n",
       "                streamingLayer = map.getSource(&quot;streamingLayer&quot;);\n",
       "                if (streamingLayer){\n",
       "                    streamingLayer.setData(event.data.data);\n",
       "                }else{\n",
       "                    map.addLayer({\n",
       "                        &quot;id&quot;: &quot;streamingLayer&quot;,\n",
       "                        &quot;maptype&quot;: &quot;mapbox&quot;,\n",
       "                        &quot;type&quot;: event.data.type,\n",
       "                        &quot;source&quot;: { type: &quot;geojson&quot;, data: event.data.data },\n",
       "                        &quot;layout&quot;: event.data.layout || {},\n",
       "                        &quot;paint&quot;: event.data.paint || {}\n",
       "                    });\n",
       "                    if (event.data.fitbounds &amp;&amp; event.data.data.features){\n",
       "                        function updateBounds(res, ar){\n",
       "                            if (ar[0].length >=2 &amp;&amp; ar[1].length >= 2 ){\n",
       "                                if (!res){\n",
       "                                    return ar;\n",
       "                                }\n",
       "                                return [ \n",
       "                                    [Math.min( ar[0][0]-0.1, res[0][0]), Math.min( ar[0][1]-0.1, res[0][1])],\n",
       "                                    [Math.max( ar[1][0]+0.1, res[1][0]), Math.max( ar[1][1]+0.1, res[1][1])]\n",
       "                                ]\n",
       "                            }\n",
       "                            return null;\n",
       "                        }\n",
       "                        var bbox = event.data.data.features.reduce(function(res, value){\n",
       "                            var coord = value.geometry.coordinates;\n",
       "                            if (coord.length >= 2 ){\n",
       "                                res = updateBounds( res, [coord[0], coord[1]]);\n",
       "                            }\n",
       "                            return res;\n",
       "                        }, null);\n",
       "                        if (bbox){\n",
       "                            map.fitBounds(bbox);\n",
       "                        }\n",
       "                    }\n",
       "                }\n",
       "            });\n",
       "        };\n",
       "    },100);\n",
       "\n",
       "    var popup = new mapboxgl.Popup({closeButton: false,closeOnClick: true});\n",
       "\n",
       "    function divineGeometryType(mapdata) {\n",
       "        comment = &quot;check type of first geometry. Later expand to check all geometries and make a good decision&quot;;\n",
       "        return mapdata.features[0].geometry.type;\n",
       "    }\n",
       "    \n",
       "    map.on(&quot;mousemove&quot;, function (e) {\n",
       "        var fs = map.queryRenderedFeatures(e.point,{layers:[&quot;pxlayer&quot;]});\n",
       "        if (!fs || !fs.length) {popup.remove();return;};\n",
       "        popuphtml = &quot;&quot;;\n",
       "        var hr = false;\n",
       "        fs.forEach(function(f){\n",
       "            if (hr){ \n",
       "                popuphtml += &quot;<hr>\\n&quot;;\n",
       "            }\n",
       "            hr=true;\n",
       "            popuphtml += &quot;<h3>&quot;+f.layer.id.toUpperCase()+&quot;</h3>\\n&quot;;\n",
       "            var keylength = Object.keys(f.properties).length;\n",
       "            for (var key in f.properties) {\n",
       "                popuphtml += &quot;<b>&quot;+key+&quot;: </b> &quot;+f.properties[key]+&quot;<br/>\\n&quot;;\n",
       "            }\n",
       "        });\n",
       "        popup.setLngLat(e.lngLat).setHTML(popuphtml).addTo(map);\n",
       "    });\n",
       "    \n",
       "    map.on(&quot;click&quot;, function (e) {\n",
       "        var fs = map.queryRenderedFeatures(e.point, { layers: [&quot;pxlayer&quot;] });\n",
       "        if (fs &amp;&amp; fs.length) {\n",
       "            var f = fs[0];\n",
       "            console.log(&quot;clicked&quot;, f);\n",
       "            var keylength = Object.keys(f.properties).length;\n",
       "            var payload = {type:&quot;select&quot;, targetDivId: &quot;&quot; };\n",
       "\n",
       "            for (var key in f.properties) {\n",
       "                payload[key] = f.properties[key];\n",
       "            }\n",
       "\n",
       "            if (window.triggerPDEvent) {\n",
       "                window.triggerPDEvent(payload);\n",
       "            }\n",
       "        }\n",
       "    });\n",
       "        \n",
       "    map.on(&quot;load&quot;, function() {\n",
       "        \n",
       "        mapdata={&quot;features&quot;: [{&quot;geometry&quot;: {&quot;coordinates&quot;: [-95.39694399999999, 29.775], &quot;type&quot;: &quot;Point&quot;}, &quot;type&quot;: &quot;Feature&quot;, &quot;properties&quot;: {&quot;Discharge(cfs)&quot;: 47.7, &quot;Gage_Height(feet)&quot;: 7.85}}, {&quot;geometry&quot;: {&quot;coordinates&quot;: [-95.39694399999999, 29.775], &quot;type&quot;: &quot;Point&quot;}, &quot;type&quot;: &quot;Feature&quot;, &quot;properties&quot;: {&quot;Discharge(cfs)&quot;: 866.0, &quot;Gage_Height(feet)&quot;: 12.73}}, {&quot;geometry&quot;: {&quot;coordinates&quot;: [-95.39694399999999, 29.775], &quot;type&quot;: &quot;Point&quot;}, &quot;type&quot;: &quot;Feature&quot;, &quot;properties&quot;: {&quot;Discharge(cfs)&quot;: 45.6, &quot;Gage_Height(feet)&quot;: 7.83}}, {&quot;geometry&quot;: {&quot;coordinates&quot;: [-95.39694399999999, 29.775], &quot;type&quot;: &quot;Point&quot;}, &quot;type&quot;: &quot;Feature&quot;, &quot;properties&quot;: {&quot;Discharge(cfs)&quot;: 928.0, &quot;Gage_Height(feet)&quot;: 12.99}}, {&quot;geometry&quot;: {&quot;coordinates&quot;: [-95.39694399999999, 29.775], &quot;type&quot;: &quot;Point&quot;}, &quot;type&quot;: &quot;Feature&quot;, &quot;properties&quot;: {&quot;Discharge(cfs)&quot;: 42.7, &quot;Gage_Height(feet)&quot;: 7.77}}, {&quot;geometry&quot;: {&quot;coordinates&quot;: [-95.39694399999999, 29.775], &quot;type&quot;: &quot;Point&quot;}, &quot;type&quot;: &quot;Feature&quot;, &quot;properties&quot;: {&quot;Discharge(cfs)&quot;: 46.4, &quot;Gage_Height(feet)&quot;: 7.83}}, {&quot;geometry&quot;: {&quot;coordinates&quot;: [-95.39694399999999, 29.775], &quot;type&quot;: &quot;Point&quot;}, &quot;type&quot;: &quot;Feature&quot;, &quot;properties&quot;: {&quot;Discharge(cfs)&quot;: 41.6, &quot;Gage_Height(feet)&quot;: 7.75}}, {&quot;geometry&quot;: {&quot;coordinates&quot;: [-95.39694399999999, 29.775], &quot;type&quot;: &quot;Point&quot;}, &quot;type&quot;: &quot;Feature&quot;, &quot;properties&quot;: {&quot;Discharge(cfs)&quot;: 847.0, &quot;Gage_Height(feet)&quot;: 12.65}}, {&quot;geometry&quot;: {&quot;coordinates&quot;: [-95.39694399999999, 29.775], &quot;type&quot;: &quot;Point&quot;}, &quot;type&quot;: &quot;Feature&quot;, &quot;properties&quot;: {&quot;Discharge(cfs)&quot;: 44.8, &quot;Gage_Height(feet)&quot;: 7.81}}, {&quot;geometry&quot;: {&quot;coordinates&quot;: [-95.39694399999999, 29.775], &quot;type&quot;: &quot;Point&quot;}, &quot;type&quot;: &quot;Feature&quot;, &quot;properties&quot;: {&quot;Discharge(cfs)&quot;: 47.8, &quot;Gage_Height(feet)&quot;: 7.85}}, {&quot;geometry&quot;: {&quot;coordinates&quot;: [-95.39694399999999, 29.775], &quot;type&quot;: &quot;Point&quot;}, &quot;type&quot;: &quot;Feature&quot;, &quot;properties&quot;: {&quot;Discharge(cfs)&quot;: 166.0, &quot;Gage_Height(feet)&quot;: 8.72}}, {&quot;geometry&quot;: {&quot;coordinates&quot;: [-95.39694399999999, 29.775], &quot;type&quot;: &quot;Point&quot;}, &quot;type&quot;: &quot;Feature&quot;, &quot;properties&quot;: {&quot;Discharge(cfs)&quot;: 1480.0, &quot;Gage_Height(feet)&quot;: 14.86}}, {&quot;geometry&quot;: {&quot;coordinates&quot;: [-95.39694399999999, 29.775], &quot;type&quot;: &quot;Point&quot;}, &quot;type&quot;: &quot;Feature&quot;, &quot;properties&quot;: {&quot;Discharge(cfs)&quot;: 861.0, &quot;Gage_Height(feet)&quot;: 12.71}}, {&quot;geometry&quot;: {&quot;coordinates&quot;: [-95.39694399999999, 29.775], &quot;type&quot;: &quot;Point&quot;}, &quot;type&quot;: &quot;Feature&quot;, &quot;properties&quot;: {&quot;Discharge(cfs)&quot;: 47.4, &quot;Gage_Height(feet)&quot;: 7.85}}, {&quot;geometry&quot;: {&quot;coordinates&quot;: [-95.39694399999999, 29.775], &quot;type&quot;: &quot;Point&quot;}, &quot;type&quot;: &quot;Feature&quot;, &quot;properties&quot;: {&quot;Discharge(cfs)&quot;: 184.0, &quot;Gage_Height(feet)&quot;: 8.85}}, {&quot;geometry&quot;: {&quot;coordinates&quot;: [-95.39694399999999, 29.775], &quot;type&quot;: &quot;Point&quot;}, &quot;type&quot;: &quot;Feature&quot;, &quot;properties&quot;: {&quot;Discharge(cfs)&quot;: 134.0, &quot;Gage_Height(feet)&quot;: 8.53}}, {&quot;geometry&quot;: {&quot;coordinates&quot;: [-95.39694399999999, 29.775], &quot;type&quot;: &quot;Point&quot;}, &quot;type&quot;: &quot;Feature&quot;, &quot;properties&quot;: {&quot;Discharge(cfs)&quot;: 206.0, &quot;Gage_Height(feet)&quot;: 9.03}}, {&quot;geometry&quot;: {&quot;coordinates&quot;: [-95.39694399999999, 29.775], &quot;type&quot;: &quot;Point&quot;}, &quot;type&quot;: &quot;Feature&quot;, &quot;properties&quot;: {&quot;Discharge(cfs)&quot;: 46.9, &quot;Gage_Height(feet)&quot;: 7.85}}, {&quot;geometry&quot;: {&quot;coordinates&quot;: [-95.39694399999999, 29.775], &quot;type&quot;: &quot;Point&quot;}, &quot;type&quot;: &quot;Feature&quot;, &quot;properties&quot;: {&quot;Discharge(cfs)&quot;: 55.5, &quot;Gage_Height(feet)&quot;: 7.98}}, {&quot;geometry&quot;: {&quot;coordinates&quot;: [-95.39694399999999, 29.775], &quot;type&quot;: &quot;Point&quot;}, &quot;type&quot;: &quot;Feature&quot;, &quot;properties&quot;: {&quot;Discharge(cfs)&quot;: 307.0, &quot;Gage_Height(feet)&quot;: 9.84}}, {&quot;geometry&quot;: {&quot;coordinates&quot;: [-95.39694399999999, 29.775], &quot;type&quot;: &quot;Point&quot;}, &quot;type&quot;: &quot;Feature&quot;, &quot;properties&quot;: {&quot;Discharge(cfs)&quot;: 716.0, &quot;Gage_Height(feet)&quot;: 12.11}}, {&quot;geometry&quot;: {&quot;coordinates&quot;: [-95.39694399999999, 29.775], &quot;type&quot;: &quot;Point&quot;}, &quot;type&quot;: &quot;Feature&quot;, &quot;properties&quot;: {&quot;Discharge(cfs)&quot;: 219.0, &quot;Gage_Height(feet)&quot;: 9.15}}, {&quot;geometry&quot;: {&quot;coordinates&quot;: [-95.39694399999999, 29.775], &quot;type&quot;: &quot;Point&quot;}, &quot;type&quot;: &quot;Feature&quot;, &quot;properties&quot;: {&quot;Discharge(cfs)&quot;: 2040.0, &quot;Gage_Height(feet)&quot;: 16.34}}, {&quot;geometry&quot;: {&quot;coordinates&quot;: [-95.39694399999999, 29.775], &quot;type&quot;: &quot;Point&quot;}, &quot;type&quot;: &quot;Feature&quot;, &quot;properties&quot;: {&quot;Discharge(cfs)&quot;: 43.9, &quot;Gage_Height(feet)&quot;: 7.8}}, {&quot;geometry&quot;: {&quot;coordinates&quot;: [-95.39694399999999, 29.775], &quot;type&quot;: &quot;Point&quot;}, &quot;type&quot;: &quot;Feature&quot;, &quot;properties&quot;: {&quot;Discharge(cfs)&quot;: 275.0, &quot;Gage_Height(feet)&quot;: 9.62}}, {&quot;geometry&quot;: {&quot;coordinates&quot;: [-95.39694399999999, 29.775], &quot;type&quot;: &quot;Point&quot;}, &quot;type&quot;: &quot;Feature&quot;, &quot;properties&quot;: {&quot;Discharge(cfs)&quot;: 46.4, &quot;Gage_Height(feet)&quot;: 7.84}}, {&quot;geometry&quot;: {&quot;coordinates&quot;: [-95.39694399999999, 29.775], &quot;type&quot;: &quot;Point&quot;}, &quot;type&quot;: &quot;Feature&quot;, &quot;properties&quot;: {&quot;Discharge(cfs)&quot;: 48.2, &quot;Gage_Height(feet)&quot;: 7.87}}, {&quot;geometry&quot;: {&quot;coordinates&quot;: [-95.39694399999999, 29.775], &quot;type&quot;: &quot;Point&quot;}, &quot;type&quot;: &quot;Feature&quot;, &quot;properties&quot;: {&quot;Discharge(cfs)&quot;: 47.5, &quot;Gage_Height(feet)&quot;: 7.86}}, {&quot;geometry&quot;: {&quot;coordinates&quot;: [-95.39694399999999, 29.775], &quot;type&quot;: &quot;Point&quot;}, &quot;type&quot;: &quot;Feature&quot;, &quot;properties&quot;: {&quot;Discharge(cfs)&quot;: 3610.0, &quot;Gage_Height(feet)&quot;: 19.57}}, {&quot;geometry&quot;: {&quot;coordinates&quot;: [-95.39694399999999, 29.775], &quot;type&quot;: &quot;Point&quot;}, &quot;type&quot;: &quot;Feature&quot;, &quot;properties&quot;: {&quot;Discharge(cfs)&quot;: 82.2, &quot;Gage_Height(feet)&quot;: 8.25}}, {&quot;geometry&quot;: {&quot;coordinates&quot;: [-95.39694399999999, 29.775], &quot;type&quot;: &quot;Point&quot;}, &quot;type&quot;: &quot;Feature&quot;, &quot;properties&quot;: {&quot;Discharge(cfs)&quot;: 314.0, &quot;Gage_Height(feet)&quot;: 9.89}}, {&quot;geometry&quot;: {&quot;coordinates&quot;: [-95.39694399999999, 29.775], &quot;type&quot;: &quot;Point&quot;}, &quot;type&quot;: &quot;Feature&quot;, &quot;properties&quot;: {&quot;Discharge(cfs)&quot;: 44.4, &quot;Gage_Height(feet)&quot;: 7.81}}, {&quot;geometry&quot;: {&quot;coordinates&quot;: [-95.39694399999999, 29.775], &quot;type&quot;: &quot;Point&quot;}, &quot;type&quot;: &quot;Feature&quot;, &quot;properties&quot;: {&quot;Discharge(cfs)&quot;: 47.5, &quot;Gage_Height(feet)&quot;: 7.86}}, {&quot;geometry&quot;: {&quot;coordinates&quot;: [-95.39694399999999, 29.775], &quot;type&quot;: &quot;Point&quot;}, &quot;type&quot;: &quot;Feature&quot;, &quot;properties&quot;: {&quot;Discharge(cfs)&quot;: 46.2, &quot;Gage_Height(feet)&quot;: 7.84}}, {&quot;geometry&quot;: {&quot;coordinates&quot;: [-95.39694399999999, 29.775], &quot;type&quot;: &quot;Point&quot;}, &quot;type&quot;: &quot;Feature&quot;, &quot;properties&quot;: {&quot;Discharge(cfs)&quot;: 46.9, &quot;Gage_Height(feet)&quot;: 7.85}}, {&quot;geometry&quot;: {&quot;coordinates&quot;: [-95.39694399999999, 29.775], &quot;type&quot;: &quot;Point&quot;}, &quot;type&quot;: &quot;Feature&quot;, &quot;properties&quot;: {&quot;Discharge(cfs)&quot;: 864.0, &quot;Gage_Height(feet)&quot;: 12.72}}, {&quot;geometry&quot;: {&quot;coordinates&quot;: [-95.39694399999999, 29.775], &quot;type&quot;: &quot;Point&quot;}, &quot;type&quot;: &quot;Feature&quot;, &quot;properties&quot;: {&quot;Discharge(cfs)&quot;: 402.0, &quot;Gage_Height(feet)&quot;: 10.47}}, {&quot;geometry&quot;: {&quot;coordinates&quot;: [-95.39694399999999, 29.775], &quot;type&quot;: &quot;Point&quot;}, &quot;type&quot;: &quot;Feature&quot;, &quot;properties&quot;: {&quot;Discharge(cfs)&quot;: 55.0, &quot;Gage_Height(feet)&quot;: 7.97}}, {&quot;geometry&quot;: {&quot;coordinates&quot;: [-95.39694399999999, 29.775], &quot;type&quot;: &quot;Point&quot;}, &quot;type&quot;: &quot;Feature&quot;, &quot;properties&quot;: {&quot;Discharge(cfs)&quot;: 43.3, &quot;Gage_Height(feet)&quot;: 7.79}}, {&quot;geometry&quot;: {&quot;coordinates&quot;: [-95.39694399999999, 29.775], &quot;type&quot;: &quot;Point&quot;}, &quot;type&quot;: &quot;Feature&quot;, &quot;properties&quot;: {&quot;Discharge(cfs)&quot;: 830.0, &quot;Gage_Height(feet)&quot;: 12.58}}, {&quot;geometry&quot;: {&quot;coordinates&quot;: [-95.39694399999999, 29.775], &quot;type&quot;: &quot;Point&quot;}, &quot;type&quot;: &quot;Feature&quot;, &quot;properties&quot;: {&quot;Discharge(cfs)&quot;: 44.4, &quot;Gage_Height(feet)&quot;: 7.81}}, {&quot;geometry&quot;: {&quot;coordinates&quot;: [-95.39694399999999, 29.775], &quot;type&quot;: &quot;Point&quot;}, &quot;type&quot;: &quot;Feature&quot;, &quot;properties&quot;: {&quot;Discharge(cfs)&quot;: 807.0, &quot;Gage_Height(feet)&quot;: 12.51}}, {&quot;geometry&quot;: {&quot;coordinates&quot;: [-95.39694399999999, 29.775], &quot;type&quot;: &quot;Point&quot;}, &quot;type&quot;: &quot;Feature&quot;, &quot;properties&quot;: {&quot;Discharge(cfs)&quot;: 50.2, &quot;Gage_Height(feet)&quot;: 7.9}}, {&quot;geometry&quot;: {&quot;coordinates&quot;: [-95.39694399999999, 29.775], &quot;type&quot;: &quot;Point&quot;}, &quot;type&quot;: &quot;Feature&quot;, &quot;properties&quot;: {&quot;Discharge(cfs)&quot;: 4080.0, &quot;Gage_Height(feet)&quot;: 20.38}}, {&quot;geometry&quot;: {&quot;coordinates&quot;: [-95.39694399999999, 29.775], &quot;type&quot;: &quot;Point&quot;}, &quot;type&quot;: &quot;Feature&quot;, &quot;properties&quot;: {&quot;Discharge(cfs)&quot;: 259.0, &quot;Gage_Height(feet)&quot;: 9.5}}, {&quot;geometry&quot;: {&quot;coordinates&quot;: [-95.39694399999999, 29.775], &quot;type&quot;: &quot;Point&quot;}, &quot;type&quot;: &quot;Feature&quot;, &quot;properties&quot;: {&quot;Discharge(cfs)&quot;: 30300.0, &quot;Gage_Height(feet)&quot;: 39.38}}, {&quot;geometry&quot;: {&quot;coordinates&quot;: [-95.39694399999999, 29.775], &quot;type&quot;: &quot;Point&quot;}, &quot;type&quot;: &quot;Feature&quot;, &quot;properties&quot;: {&quot;Discharge(cfs)&quot;: 809.0, &quot;Gage_Height(feet)&quot;: 12.49}}, {&quot;geometry&quot;: {&quot;coordinates&quot;: [-95.39694399999999, 29.775], &quot;type&quot;: &quot;Point&quot;}, &quot;type&quot;: &quot;Feature&quot;, &quot;properties&quot;: {&quot;Discharge(cfs)&quot;: 3010.0, &quot;Gage_Height(feet)&quot;: 18.45}}, {&quot;geometry&quot;: {&quot;coordinates&quot;: [-95.39694399999999, 29.775], &quot;type&quot;: &quot;Point&quot;}, &quot;type&quot;: &quot;Feature&quot;, &quot;properties&quot;: {&quot;Discharge(cfs)&quot;: 283.0, &quot;Gage_Height(feet)&quot;: 9.68}}, {&quot;geometry&quot;: {&quot;coordinates&quot;: [-95.39694399999999, 29.775], &quot;type&quot;: &quot;Point&quot;}, &quot;type&quot;: &quot;Feature&quot;, &quot;properties&quot;: {&quot;Discharge(cfs)&quot;: 44.4, &quot;Gage_Height(feet)&quot;: 7.81}}, {&quot;geometry&quot;: {&quot;coordinates&quot;: [-95.39694399999999, 29.775], &quot;type&quot;: &quot;Point&quot;}, &quot;type&quot;: &quot;Feature&quot;, &quot;properties&quot;: {&quot;Discharge(cfs)&quot;: 1050.0, &quot;Gage_Height(feet)&quot;: 13.46}}, {&quot;geometry&quot;: {&quot;coordinates&quot;: [-95.39694399999999, 29.775], &quot;type&quot;: &quot;Point&quot;}, &quot;type&quot;: &quot;Feature&quot;, &quot;properties&quot;: {&quot;Discharge(cfs)&quot;: 1330.0, &quot;Gage_Height(feet)&quot;: 14.39}}, {&quot;geometry&quot;: {&quot;coordinates&quot;: [-95.39694399999999, 29.775], &quot;type&quot;: &quot;Point&quot;}, &quot;type&quot;: &quot;Feature&quot;, &quot;properties&quot;: {&quot;Discharge(cfs)&quot;: 45.0, &quot;Gage_Height(feet)&quot;: 7.82}}, {&quot;geometry&quot;: {&quot;coordinates&quot;: [-95.39694399999999, 29.775], &quot;type&quot;: &quot;Point&quot;}, &quot;type&quot;: &quot;Feature&quot;, &quot;properties&quot;: {&quot;Discharge(cfs)&quot;: 281.0, &quot;Gage_Height(feet)&quot;: 9.66}}, {&quot;geometry&quot;: {&quot;coordinates&quot;: [-95.39694399999999, 29.775], &quot;type&quot;: &quot;Point&quot;}, &quot;type&quot;: &quot;Feature&quot;, &quot;properties&quot;: {&quot;Discharge(cfs)&quot;: 45.0, &quot;Gage_Height(feet)&quot;: 7.82}}, {&quot;geometry&quot;: {&quot;coordinates&quot;: [-95.39694399999999, 29.775], &quot;type&quot;: &quot;Point&quot;}, &quot;type&quot;: &quot;Feature&quot;, &quot;properties&quot;: {&quot;Discharge(cfs)&quot;: 46.9, &quot;Gage_Height(feet)&quot;: 7.85}}, {&quot;geometry&quot;: {&quot;coordinates&quot;: [-95.39694399999999, 29.775], &quot;type&quot;: &quot;Point&quot;}, &quot;type&quot;: &quot;Feature&quot;, &quot;properties&quot;: {&quot;Discharge(cfs)&quot;: 80.0, &quot;Gage_Height(feet)&quot;: 8.22}}, {&quot;geometry&quot;: {&quot;coordinates&quot;: [-95.39694399999999, 29.775], &quot;type&quot;: &quot;Point&quot;}, &quot;type&quot;: &quot;Feature&quot;, &quot;properties&quot;: {&quot;Discharge(cfs)&quot;: 3910.0, &quot;Gage_Height(feet)&quot;: 20.1}}, {&quot;geometry&quot;: {&quot;coordinates&quot;: [-95.39694399999999, 29.775], &quot;type&quot;: &quot;Point&quot;}, &quot;type&quot;: &quot;Feature&quot;, &quot;properties&quot;: {&quot;Discharge(cfs)&quot;: 3530.0, &quot;Gage_Height(feet)&quot;: 19.43}}, {&quot;geometry&quot;: {&quot;coordinates&quot;: [-95.39694399999999, 29.775], &quot;type&quot;: &quot;Point&quot;}, &quot;type&quot;: &quot;Feature&quot;, &quot;properties&quot;: {&quot;Discharge(cfs)&quot;: 119.0, &quot;Gage_Height(feet)&quot;: 8.45}}, {&quot;geometry&quot;: {&quot;coordinates&quot;: [-95.39694399999999, 29.775], &quot;type&quot;: &quot;Point&quot;}, &quot;type&quot;: &quot;Feature&quot;, &quot;properties&quot;: {&quot;Discharge(cfs)&quot;: 67.3, &quot;Gage_Height(feet)&quot;: 8.1}}, {&quot;geometry&quot;: {&quot;coordinates&quot;: [-95.39694399999999, 29.775], &quot;type&quot;: &quot;Point&quot;}, &quot;type&quot;: &quot;Feature&quot;, &quot;properties&quot;: {&quot;Discharge(cfs)&quot;: 44.7, &quot;Gage_Height(feet)&quot;: 7.81}}, {&quot;geometry&quot;: {&quot;coordinates&quot;: [-95.39694399999999, 29.775], &quot;type&quot;: &quot;Point&quot;}, &quot;type&quot;: &quot;Feature&quot;, &quot;properties&quot;: {&quot;Discharge(cfs)&quot;: 833.0, &quot;Gage_Height(feet)&quot;: 12.59}}, {&quot;geometry&quot;: {&quot;coordinates&quot;: [-95.39694399999999, 29.775], &quot;type&quot;: &quot;Point&quot;}, &quot;type&quot;: &quot;Feature&quot;, &quot;properties&quot;: {&quot;Discharge(cfs)&quot;: 43.7, &quot;Gage_Height(feet)&quot;: 7.79}}, {&quot;geometry&quot;: {&quot;coordinates&quot;: [-95.39694399999999, 29.775], &quot;type&quot;: &quot;Point&quot;}, &quot;type&quot;: &quot;Feature&quot;, &quot;properties&quot;: {&quot;Discharge(cfs)&quot;: 2100.0, &quot;Gage_Height(feet)&quot;: 16.48}}, {&quot;geometry&quot;: {&quot;coordinates&quot;: [-95.39694399999999, 29.775], &quot;type&quot;: &quot;Point&quot;}, &quot;type&quot;: &quot;Feature&quot;, &quot;properties&quot;: {&quot;Discharge(cfs)&quot;: 198.0, &quot;Gage_Height(feet)&quot;: 8.95}}, {&quot;geometry&quot;: {&quot;coordinates&quot;: [-95.39694399999999, 29.775], &quot;type&quot;: &quot;Point&quot;}, &quot;type&quot;: &quot;Feature&quot;, &quot;properties&quot;: {&quot;Discharge(cfs)&quot;: 43.9, &quot;Gage_Height(feet)&quot;: 7.8}}, {&quot;geometry&quot;: {&quot;coordinates&quot;: [-95.39694399999999, 29.775], &quot;type&quot;: &quot;Point&quot;}, &quot;type&quot;: &quot;Feature&quot;, &quot;properties&quot;: {&quot;Discharge(cfs)&quot;: 1240.0, &quot;Gage_Height(feet)&quot;: 14.09}}, {&quot;geometry&quot;: {&quot;coordinates&quot;: [-95.39694399999999, 29.775], &quot;type&quot;: &quot;Point&quot;}, &quot;type&quot;: &quot;Feature&quot;, &quot;properties&quot;: {&quot;Discharge(cfs)&quot;: 45.2, &quot;Gage_Height(feet)&quot;: 7.81}}, {&quot;geometry&quot;: {&quot;coordinates&quot;: [-95.39694399999999, 29.775], &quot;type&quot;: &quot;Point&quot;}, &quot;type&quot;: &quot;Feature&quot;, &quot;properties&quot;: {&quot;Discharge(cfs)&quot;: 43.3, &quot;Gage_Height(feet)&quot;: 7.78}}, {&quot;geometry&quot;: {&quot;coordinates&quot;: [-95.39694399999999, 29.775], &quot;type&quot;: &quot;Point&quot;}, &quot;type&quot;: &quot;Feature&quot;, &quot;properties&quot;: {&quot;Discharge(cfs)&quot;: 852.0, &quot;Gage_Height(feet)&quot;: 12.67}}, {&quot;geometry&quot;: {&quot;coordinates&quot;: [-95.39694399999999, 29.775], &quot;type&quot;: &quot;Point&quot;}, &quot;type&quot;: &quot;Feature&quot;, &quot;properties&quot;: {&quot;Discharge(cfs)&quot;: 198.0, &quot;Gage_Height(feet)&quot;: 8.95}}, {&quot;geometry&quot;: {&quot;coordinates&quot;: [-95.39694399999999, 29.775], &quot;type&quot;: &quot;Point&quot;}, &quot;type&quot;: &quot;Feature&quot;, &quot;properties&quot;: {&quot;Discharge(cfs)&quot;: 1090.0, &quot;Gage_Height(feet)&quot;: 13.59}}, {&quot;geometry&quot;: {&quot;coordinates&quot;: [-95.39694399999999, 29.775], &quot;type&quot;: &quot;Point&quot;}, &quot;type&quot;: &quot;Feature&quot;, &quot;properties&quot;: {&quot;Discharge(cfs)&quot;: 196.0, &quot;Gage_Height(feet)&quot;: 8.93}}, {&quot;geometry&quot;: {&quot;coordinates&quot;: [-95.39694399999999, 29.775], &quot;type&quot;: &quot;Point&quot;}, &quot;type&quot;: &quot;Feature&quot;, &quot;properties&quot;: {&quot;Discharge(cfs)&quot;: 48.1, &quot;Gage_Height(feet)&quot;: 7.87}}, {&quot;geometry&quot;: {&quot;coordinates&quot;: [-95.39694399999999, 29.775], &quot;type&quot;: &quot;Point&quot;}, &quot;type&quot;: &quot;Feature&quot;, &quot;properties&quot;: {&quot;Discharge(cfs)&quot;: 54.8, &quot;Gage_Height(feet)&quot;: 7.97}}, {&quot;geometry&quot;: {&quot;coordinates&quot;: [-95.39694399999999, 29.775], &quot;type&quot;: &quot;Point&quot;}, &quot;type&quot;: &quot;Feature&quot;, &quot;properties&quot;: {&quot;Discharge(cfs)&quot;: 25700.0, &quot;Gage_Height(feet)&quot;: 37.74}}, {&quot;geometry&quot;: {&quot;coordinates&quot;: [-95.39694399999999, 29.775], &quot;type&quot;: &quot;Point&quot;}, &quot;type&quot;: &quot;Feature&quot;, &quot;properties&quot;: {&quot;Discharge(cfs)&quot;: 52.7, &quot;Gage_Height(feet)&quot;: 7.94}}, {&quot;geometry&quot;: {&quot;coordinates&quot;: [-95.39694399999999, 29.775], &quot;type&quot;: &quot;Point&quot;}, &quot;type&quot;: &quot;Feature&quot;, &quot;properties&quot;: {&quot;Discharge(cfs)&quot;: 1180.0, &quot;Gage_Height(feet)&quot;: 13.91}}, {&quot;geometry&quot;: {&quot;coordinates&quot;: [-95.39694399999999, 29.775], &quot;type&quot;: &quot;Point&quot;}, &quot;type&quot;: &quot;Feature&quot;, &quot;properties&quot;: {&quot;Discharge(cfs)&quot;: 399.0, &quot;Gage_Height(feet)&quot;: 10.45}}, {&quot;geometry&quot;: {&quot;coordinates&quot;: [-95.39694399999999, 29.775], &quot;type&quot;: &quot;Point&quot;}, &quot;type&quot;: &quot;Feature&quot;, &quot;properties&quot;: {&quot;Discharge(cfs)&quot;: 252.0, &quot;Gage_Height(feet)&quot;: 9.44}}, {&quot;geometry&quot;: {&quot;coordinates&quot;: [-95.39694399999999, 29.775], &quot;type&quot;: &quot;Point&quot;}, &quot;type&quot;: &quot;Feature&quot;, &quot;properties&quot;: {&quot;Discharge(cfs)&quot;: 797.0, &quot;Gage_Height(feet)&quot;: 12.44}}, {&quot;geometry&quot;: {&quot;coordinates&quot;: [-95.39694399999999, 29.775], &quot;type&quot;: &quot;Point&quot;}, &quot;type&quot;: &quot;Feature&quot;, &quot;properties&quot;: {&quot;Discharge(cfs)&quot;: 21700.0, &quot;Gage_Height(feet)&quot;: 35.98}}, {&quot;geometry&quot;: {&quot;coordinates&quot;: [-95.39694399999999, 29.775], &quot;type&quot;: &quot;Point&quot;}, &quot;type&quot;: &quot;Feature&quot;, &quot;properties&quot;: {&quot;Discharge(cfs)&quot;: 6270.0, &quot;Gage_Height(feet)&quot;: 23.57}}, {&quot;geometry&quot;: {&quot;coordinates&quot;: [-95.39694399999999, 29.775], &quot;type&quot;: &quot;Point&quot;}, &quot;type&quot;: &quot;Feature&quot;, &quot;properties&quot;: {&quot;Discharge(cfs)&quot;: 1660.0, &quot;Gage_Height(feet)&quot;: 15.35}}, {&quot;geometry&quot;: {&quot;coordinates&quot;: [-95.39694399999999, 29.775], &quot;type&quot;: &quot;Point&quot;}, &quot;type&quot;: &quot;Feature&quot;, &quot;properties&quot;: {&quot;Discharge(cfs)&quot;: 196.0, &quot;Gage_Height(feet)&quot;: 8.93}}, {&quot;geometry&quot;: {&quot;coordinates&quot;: [-95.39694399999999, 29.775], &quot;type&quot;: &quot;Point&quot;}, &quot;type&quot;: &quot;Feature&quot;, &quot;properties&quot;: {&quot;Discharge(cfs)&quot;: 49.4, &quot;Gage_Height(feet)&quot;: 7.89}}, {&quot;geometry&quot;: {&quot;coordinates&quot;: [-95.39694399999999, 29.775], &quot;type&quot;: &quot;Point&quot;}, &quot;type&quot;: &quot;Feature&quot;, &quot;properties&quot;: {&quot;Discharge(cfs)&quot;: 282.0, &quot;Gage_Height(feet)&quot;: 9.67}}, {&quot;geometry&quot;: {&quot;coordinates&quot;: [-95.39694399999999, 29.775], &quot;type&quot;: &quot;Point&quot;}, &quot;type&quot;: &quot;Feature&quot;, &quot;properties&quot;: {&quot;Discharge(cfs)&quot;: 302.0, &quot;Gage_Height(feet)&quot;: 9.81}}, {&quot;geometry&quot;: {&quot;coordinates&quot;: [-95.39694399999999, 29.775], &quot;type&quot;: &quot;Point&quot;}, &quot;type&quot;: &quot;Feature&quot;, &quot;properties&quot;: {&quot;Discharge(cfs)&quot;: 44.9, &quot;Gage_Height(feet)&quot;: 7.81}}, {&quot;geometry&quot;: {&quot;coordinates&quot;: [-95.39694399999999, 29.775], &quot;type&quot;: &quot;Point&quot;}, &quot;type&quot;: &quot;Feature&quot;, &quot;properties&quot;: {&quot;Discharge(cfs)&quot;: 17600.0, &quot;Gage_Height(feet)&quot;: 33.78}}, {&quot;geometry&quot;: {&quot;coordinates&quot;: [-95.39694399999999, 29.775], &quot;type&quot;: &quot;Point&quot;}, &quot;type&quot;: &quot;Feature&quot;, &quot;properties&quot;: {&quot;Discharge(cfs)&quot;: 46.8, &quot;Gage_Height(feet)&quot;: 7.84}}, {&quot;geometry&quot;: {&quot;coordinates&quot;: [-95.39694399999999, 29.775], &quot;type&quot;: &quot;Point&quot;}, &quot;type&quot;: &quot;Feature&quot;, &quot;properties&quot;: {&quot;Discharge(cfs)&quot;: 52.9, &quot;Gage_Height(feet)&quot;: 7.94}}, {&quot;geometry&quot;: {&quot;coordinates&quot;: [-95.39694399999999, 29.775], &quot;type&quot;: &quot;Point&quot;}, &quot;type&quot;: &quot;Feature&quot;, &quot;properties&quot;: {&quot;Discharge(cfs)&quot;: 47.7, &quot;Gage_Height(feet)&quot;: 7.85}}, {&quot;geometry&quot;: {&quot;coordinates&quot;: [-95.39694399999999, 29.775], &quot;type&quot;: &quot;Point&quot;}, &quot;type&quot;: &quot;Feature&quot;, &quot;properties&quot;: {&quot;Discharge(cfs)&quot;: 1160.0, &quot;Gage_Height(feet)&quot;: 13.82}}, {&quot;geometry&quot;: {&quot;coordinates&quot;: [-95.39694399999999, 29.775], &quot;type&quot;: &quot;Point&quot;}, &quot;type&quot;: &quot;Feature&quot;, &quot;properties&quot;: {&quot;Discharge(cfs)&quot;: 49.6, &quot;Gage_Height(feet)&quot;: 7.89}}, {&quot;geometry&quot;: {&quot;coordinates&quot;: [-95.39694399999999, 29.775], &quot;type&quot;: &quot;Point&quot;}, &quot;type&quot;: &quot;Feature&quot;, &quot;properties&quot;: {&quot;Discharge(cfs)&quot;: 52.7, &quot;Gage_Height(feet)&quot;: 7.94}}, {&quot;geometry&quot;: {&quot;coordinates&quot;: [-95.39694399999999, 29.775], &quot;type&quot;: &quot;Point&quot;}, &quot;type&quot;: &quot;Feature&quot;, &quot;properties&quot;: {&quot;Discharge(cfs)&quot;: 45.0, &quot;Gage_Height(feet)&quot;: 7.82}}, {&quot;geometry&quot;: {&quot;coordinates&quot;: [-95.39694399999999, 29.775], &quot;type&quot;: &quot;Point&quot;}, &quot;type&quot;: &quot;Feature&quot;, &quot;properties&quot;: {&quot;Discharge(cfs)&quot;: 203.0, &quot;Gage_Height(feet)&quot;: 9.0}}, {&quot;geometry&quot;: {&quot;coordinates&quot;: [-95.39694399999999, 29.775], &quot;type&quot;: &quot;Point&quot;}, &quot;type&quot;: &quot;Feature&quot;, &quot;properties&quot;: {&quot;Discharge(cfs)&quot;: 14100.0, &quot;Gage_Height(feet)&quot;: 31.39}}], &quot;type&quot;: &quot;FeatureCollection&quot;};\n",
       "        geomtype = divineGeometryType(mapdata);\n",
       "        \n",
       "            var ds = {\n",
       "                &quot;type&quot;:&quot;geojson&quot;,\n",
       "                &quot;data&quot;:mapdata\n",
       "            };\n",
       "            var clusterme = false;\n",
       "            if (geomtype.substr(-5,5) == &quot;Point&quot;) {\n",
       "                \n",
       "                    clusterme = true;\n",
       "                    ds[&quot;cluster&quot;] = true;\n",
       "                    ds[&quot;clusterMaxZoom&quot;] = 14;\n",
       "                    ds[&quot;clusterRadius&quot;] = 20;\n",
       "                    console.log(&quot;IM CLUSTERED&quot;);\n",
       "                \n",
       "            }\n",
       "            map.addSource(&quot;pxdatasource&quot;, ds);\n",
       "\n",
       "            var maplayertype = &quot;circle&quot;;\n",
       "            if (geomtype.substr(-7,7) == &quot;Polygon&quot;) \n",
       "                maplayertype = &quot;fill&quot;;\n",
       "            else if (geomtype.substr(-10,10) == &quot;LineString&quot;)\n",
       "                maplayertype = &quot;line&quot;;\n",
       "            map.addLayer({\n",
       "                &quot;id&quot;:&quot;pxlayer&quot;,\n",
       "                &quot;type&quot;:maplayertype, \n",
       "                &quot;source&quot;: &quot;pxdatasource&quot;, \n",
       "                &quot;paint&quot;: {&quot;circle-opacity&quot;: 0.25, &quot;circle-color&quot;: {&quot;property&quot;: &quot;Gage_Height(feet)&quot;, &quot;stops&quot;: [[7.75, &quot;#ffffcc&quot;], [7.85, &quot;#acf98d&quot;], [8.93, &quot;#56ec97&quot;], [12.68, &quot;#26bdd7&quot;], [39.38, &quot;#253494&quot;]]}, &quot;circle-radius&quot;: 12}\n",
       "            });\n",
       "            \n",
       "            if (clusterme &amp;&amp; geomtype.substr(-5,5) == &quot;Point&quot;) {\n",
       "                map.addLayer({\n",
       "                    &quot;id&quot;: &quot;cluster-count-labels&quot;, \n",
       "                    &quot;type&quot;: &quot;symbol&quot;, \n",
       "                    &quot;source&quot;: &quot;pxdatasource&quot;, \n",
       "                    &quot;paint&quot;: {\n",
       "                        &quot;text-color&quot;: &quot;#FFF&quot;\n",
       "                    },\n",
       "                    &quot;layout&quot;: {\n",
       "                        &quot;text-field&quot;: &quot;{point_count}&quot;, \n",
       "                        &quot;text-font&quot;: [\n",
       "                            &quot;DIN Offc Pro Medium&quot;, \n",
       "                            &quot;Arial Unicode MS Bold&quot;\n",
       "                        ],\n",
       "                        &quot;text-size&quot;: 12\n",
       "                    }\n",
       "                });\n",
       "            }\n",
       "        \n",
       "        \n",
       "\n",
       "        comment = &quot;Add user layers&quot;;\n",
       "        var layers = [];\n",
       "        \n",
       "        layers.sort(function(a,b) {\n",
       "            return a[1] - b[1];\n",
       "        });\n",
       "        for (layersi=layers.length-1; layersi>=0; layersi--) {\n",
       "            map.addLayer(layers[layersi][0]);\n",
       "            comment = &quot;User layer legend&quot;;\n",
       "            \n",
       "        }\n",
       "        \n",
       "        map.fitBounds([[-95.39694399999999, 29.775], [-95.39694399999999, 29.775]]);\n",
       "        \n",
       "        \n",
       "    });\n",
       "</script>\n",
       "</body>\n",
       "</html>\" onload=\"iframeLoaded(this)\"></iframe>\n",
       "<script>\n",
       "  var iframe = document.getElementById('mapframe4ae57d6b');\n",
       "  iframe.setAttribute('srcdoc', atob('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'));\n",
       "</script>\n",
       "\n",
       "        </div>"
      ],
      "text/plain": [
       "<IPython.core.display.HTML object>"
      ]
     },
     "metadata": {},
     "output_type": "display_data"
    }
   ],
   "source": [
    "display(whiteoak)"
   ]
  },
  {
   "cell_type": "code",
   "execution_count": 11,
   "metadata": {
    "pixiedust": {
     "displayParams": {
      "aggregation": "SUM",
      "colorrampname": "Orange to Purple",
      "handlerId": "lineChart",
      "keyFields": "date",
      "mapboxtoken": "pk.eyJ1IjoibWFwYm94IiwiYSI6ImNpejY4M29iazA2Z2gycXA4N2pmbDZmangifQ.-g_vE53SD2WrJ6tFX7QHmA",
      "timeseries": "true",
      "valueFields": "Discharge(cfs)"
     }
    }
   },
   "outputs": [
    {
     "data": {
      "text/html": [
       "<style type=\"text/css\">.pd_warning{display:none;}</style><div class=\"pd_warning\"><em>Hey, there's something awesome here! To see it, open this notebook outside GitHub, in a viewer like Jupyter</em></div>\n",
       "        <div class=\"pd_save is-viewer-good\" style=\"padding-right:10px;text-align: center;line-height:initial !important;font-size: xx-large;font-weight: 500;color: coral;\">\n",
       "            \n",
       "        </div>\n",
       "    <div id=\"chartFigure40c38cae\" class=\"pd_save is-viewer-good\" style=\"overflow-x:auto\">\n",
       "            \n",
       "                    \n",
       "                            <center><img style=\"max-width:initial !important\" src=\"data:image/png;base64,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\" class=\"pd_save\"></center>\n",
       "                        \n",
       "                    \n",
       "                \n",
       "        </div>"
      ],
      "text/plain": [
       "<IPython.core.display.HTML object>"
      ]
     },
     "metadata": {},
     "output_type": "display_data"
    }
   ],
   "source": [
    "display(hunting)"
   ]
  },
  {
   "cell_type": "code",
   "execution_count": 32,
   "metadata": {},
   "outputs": [
    {
     "name": "stdout",
     "output_type": "stream",
     "text": [
      "--2019-03-04 22:51:10--  https://www.dropbox.com/s/smvfax2br0ez4bv/houston.geojson?dl=0\n",
      "Resolving www.dropbox.com (www.dropbox.com)... 162.125.8.1, 2620:100:601b:1::a27d:801\n",
      "Connecting to www.dropbox.com (www.dropbox.com)|162.125.8.1|:443... connected.\n",
      "HTTP request sent, awaiting response... 301 Moved Permanently\n",
      "Location: /s/raw/smvfax2br0ez4bv/houston.geojson [following]\n",
      "--2019-03-04 22:51:10--  https://www.dropbox.com/s/raw/smvfax2br0ez4bv/houston.geojson\n",
      "Reusing existing connection to www.dropbox.com:443.\n",
      "HTTP request sent, awaiting response... 302 Found\n",
      "Location: https://ucb5aa3231d428ba9a083d935362.dl.dropboxusercontent.com/cd/0/inline/Ace3OaGOa-MvTP-RRKl9R50cPRd34Jm06achR9AfHnKTNLQ2hj0RdykUelFesZWlvER5J-6rf36BU8KcPBC6XOKG3sNC8ITZBm2Vf4sDAPwjyt5dqwZzHp7QJZxm95SDX3E/file# [following]\n",
      "--2019-03-04 22:51:11--  https://ucb5aa3231d428ba9a083d935362.dl.dropboxusercontent.com/cd/0/inline/Ace3OaGOa-MvTP-RRKl9R50cPRd34Jm06achR9AfHnKTNLQ2hj0RdykUelFesZWlvER5J-6rf36BU8KcPBC6XOKG3sNC8ITZBm2Vf4sDAPwjyt5dqwZzHp7QJZxm95SDX3E/file\n",
      "Resolving ucb5aa3231d428ba9a083d935362.dl.dropboxusercontent.com (ucb5aa3231d428ba9a083d935362.dl.dropboxusercontent.com)... 162.125.8.6, 2620:100:601b:6::a27d:806\n",
      "Connecting to ucb5aa3231d428ba9a083d935362.dl.dropboxusercontent.com (ucb5aa3231d428ba9a083d935362.dl.dropboxusercontent.com)|162.125.8.6|:443... connected.\n",
      "HTTP request sent, awaiting response... 200 OK\n",
      "Length: 942513 (920K) [text/plain]\n",
      "Saving to: ‘houston.geojson?dl=0’\n",
      "\n",
      "100%[======================================>] 942,513     --.-K/s   in 0.008s  \n",
      "\n",
      "2019-03-04 22:51:11 (107 MB/s) - ‘houston.geojson?dl=0’ saved [942513/942513]\n",
      "\n"
     ]
    }
   ],
   "source": [
    "!wget \"https://www.dropbox.com/s/smvfax2br0ez4bv/houston.geojson?dl=0\""
   ]
  },
  {
   "cell_type": "code",
   "execution_count": 34,
   "metadata": {},
   "outputs": [
    {
     "name": "stdout",
     "output_type": "stream",
     "text": [
      "fHuntingBayou.csv?dl=0\thouston.geojson   WhiteoakBayou.csv\r\n",
      "foo.csv\t\t\tHuntingBayou.csv\r\n"
     ]
    }
   ],
   "source": [
    "!mv houston.geojson?dl=0 houston.geojson\n",
    "!ls"
   ]
  },
  {
   "cell_type": "code",
   "execution_count": 18,
   "metadata": {},
   "outputs": [
    {
     "name": "stdout",
     "output_type": "stream",
     "text": [
      "--2019-03-05 17:38:24--  https://www.dropbox.com/s/dxr0fis01iudpog/maxFlood.csv?dl=0\n",
      "Resolving www.dropbox.com (www.dropbox.com)... 162.125.8.1, 2620:100:601b:1::a27d:801\n",
      "Connecting to www.dropbox.com (www.dropbox.com)|162.125.8.1|:443... connected.\n",
      "HTTP request sent, awaiting response... 301 Moved Permanently\n",
      "Location: /s/raw/dxr0fis01iudpog/maxFlood.csv [following]\n",
      "--2019-03-05 17:38:24--  https://www.dropbox.com/s/raw/dxr0fis01iudpog/maxFlood.csv\n",
      "Reusing existing connection to www.dropbox.com:443.\n",
      "HTTP request sent, awaiting response... 302 Found\n",
      "Location: https://ucc5d188295eff93c4c809cb9325.dl.dropboxusercontent.com/cd/0/inline/AcgQOdG_zp_mQLnExh1Tp6jalnRHmfctuK9k6otmRWlXZRe9BxbPJNvh5M_ndochKHuVRBwOHkTkkCW-kM1V5PUacQQA8ni4yCTWF9QxFMB5ZXeV7xnk6UxDF3G7PHdHAHU/file# [following]\n",
      "--2019-03-05 17:38:25--  https://ucc5d188295eff93c4c809cb9325.dl.dropboxusercontent.com/cd/0/inline/AcgQOdG_zp_mQLnExh1Tp6jalnRHmfctuK9k6otmRWlXZRe9BxbPJNvh5M_ndochKHuVRBwOHkTkkCW-kM1V5PUacQQA8ni4yCTWF9QxFMB5ZXeV7xnk6UxDF3G7PHdHAHU/file\n",
      "Resolving ucc5d188295eff93c4c809cb9325.dl.dropboxusercontent.com (ucc5d188295eff93c4c809cb9325.dl.dropboxusercontent.com)... 162.125.8.6, 2620:100:601b:6::a27d:806\n",
      "Connecting to ucc5d188295eff93c4c809cb9325.dl.dropboxusercontent.com (ucc5d188295eff93c4c809cb9325.dl.dropboxusercontent.com)|162.125.8.6|:443... connected.\n",
      "HTTP request sent, awaiting response... 200 OK\n",
      "Length: 229 [text/plain]\n",
      "Saving to: ‘maxFlood.csv?dl=0’\n",
      "\n",
      "100%[======================================>] 229         --.-K/s   in 0s      \n",
      "\n",
      "2019-03-05 17:38:25 (39.0 MB/s) - ‘maxFlood.csv?dl=0’ saved [229/229]\n",
      "\n"
     ]
    }
   ],
   "source": [
    "!wget \"https://www.dropbox.com/s/dxr0fis01iudpog/maxFlood.csv?dl=0\""
   ]
  },
  {
   "cell_type": "code",
   "execution_count": 19,
   "metadata": {},
   "outputs": [
    {
     "name": "stdout",
     "output_type": "stream",
     "text": [
      "additional_feedback_data.json\t\tHuntingBayou.csv\r\n",
      "german_credit_data_biased_training.csv\tmaxFlood.csv\r\n",
      "german_credit_feed.json\t\t\tWhiteoakBayou.csv\r\n"
     ]
    }
   ],
   "source": [
    "!mv maxFlood.csv?dl=0 maxFlood.csv\n",
    "!ls"
   ]
  },
  {
   "cell_type": "code",
   "execution_count": 20,
   "metadata": {},
   "outputs": [],
   "source": [
    "maxFlood = pd.read_csv('maxFlood.csv')"
   ]
  },
  {
   "cell_type": "code",
   "execution_count": 21,
   "metadata": {},
   "outputs": [
    {
     "data": {
      "text/html": [
       "<div>\n",
       "<style scoped>\n",
       "    .dataframe tbody tr th:only-of-type {\n",
       "        vertical-align: middle;\n",
       "    }\n",
       "\n",
       "    .dataframe tbody tr th {\n",
       "        vertical-align: top;\n",
       "    }\n",
       "\n",
       "    .dataframe thead th {\n",
       "        text-align: right;\n",
       "    }\n",
       "</style>\n",
       "<table border=\"1\" class=\"dataframe\">\n",
       "  <thead>\n",
       "    <tr style=\"text-align: right;\">\n",
       "      <th></th>\n",
       "      <th>site_no</th>\n",
       "      <th>date</th>\n",
       "      <th>time</th>\n",
       "      <th>tz_cd</th>\n",
       "      <th>Discharge(cfs)</th>\n",
       "      <th>Gage_Height(feet)</th>\n",
       "      <th>location_name</th>\n",
       "      <th>latitude</th>\n",
       "      <th>longitude</th>\n",
       "    </tr>\n",
       "  </thead>\n",
       "  <tbody>\n",
       "    <tr>\n",
       "      <th>0</th>\n",
       "      <td>8075770</td>\n",
       "      <td>8/27/17</td>\n",
       "      <td>7:30</td>\n",
       "      <td>CDT</td>\n",
       "      <td>6640</td>\n",
       "      <td>37.10</td>\n",
       "      <td>HuntingBayou</td>\n",
       "      <td>29.808611</td>\n",
       "      <td>-95.313056</td>\n",
       "    </tr>\n",
       "    <tr>\n",
       "      <th>1</th>\n",
       "      <td>8074500</td>\n",
       "      <td>8/27/17</td>\n",
       "      <td>5:30</td>\n",
       "      <td>CDT</td>\n",
       "      <td>30700</td>\n",
       "      <td>39.54</td>\n",
       "      <td>WhiteoakBayou</td>\n",
       "      <td>29.775000</td>\n",
       "      <td>-95.396944</td>\n",
       "    </tr>\n",
       "  </tbody>\n",
       "</table>\n",
       "</div>"
      ],
      "text/plain": [
       "   site_no     date   time tz_cd  Discharge(cfs)  Gage_Height(feet)  \\\n",
       "0  8075770  8/27/17   7:30   CDT            6640              37.10   \n",
       "1  8074500  8/27/17   5:30   CDT           30700              39.54   \n",
       "\n",
       "   location_name   latitude  longitude  \n",
       "0   HuntingBayou  29.808611 -95.313056  \n",
       "1  WhiteoakBayou  29.775000 -95.396944  "
      ]
     },
     "execution_count": 21,
     "metadata": {},
     "output_type": "execute_result"
    }
   ],
   "source": [
    "maxFlood"
   ]
  },
  {
   "cell_type": "code",
   "execution_count": 25,
   "metadata": {
    "pixiedust": {
     "displayParams": {
      "coloropacity": "100",
      "colorrampname": "Green to Purple",
      "handlerId": "mapView",
      "keyFields": "latitude,longitude",
      "kind": "simple",
      "mapboxtoken": "pk.eyJ1IjoibWFwYm94IiwiYSI6ImNpejY4M29iazA2Z2gycXA4N2pmbDZmangifQ.-g_vE53SD2WrJ6tFX7QHmA",
      "valueFields": "Gage_Height(feet),Discharge(cfs),date,time"
     }
    }
   },
   "outputs": [
    {
     "data": {
      "text/html": [
       "<style type=\"text/css\">.pd_warning{display:none;}</style><div class=\"pd_warning\"><em>Hey, there's something awesome here! To see it, open this notebook outside GitHub, in a viewer like Jupyter</em></div>"
      ],
      "text/plain": [
       "<IPython.core.display.HTML object>"
      ]
     },
     "metadata": {},
     "output_type": "display_data"
    }
   ],
   "source": [
    "display(maxFlood)"
   ]
  },
  {
   "cell_type": "code",
   "execution_count": 27,
   "metadata": {
    "pixiedust": {
     "displayParams": {}
    }
   },
   "outputs": [
    {
     "data": {
      "text/html": [
       "<style type=\"text/css\">.pd_warning{display:none;}</style><div class=\"pd_warning\"><em>Hey, there's something awesome here! To see it, open this notebook outside GitHub, in a viewer like Jupyter</em></div>"
      ],
      "text/plain": [
       "<IPython.core.display.HTML object>"
      ]
     },
     "metadata": {},
     "output_type": "display_data"
    }
   ],
   "source": [
    "from pixiedust.display.app import *\n",
    "from pixiedust.apps.mapboxBase import MapboxBase\n",
    "\n",
    "@PixieApp\n",
    "class HoustonDashboard(MapboxBase):\n",
    "    def setup(self):\n",
    "        self.mapJSONOptions = {\n",
    "      \"colorrampname\": \"Green to Purple\",\n",
    "      \"coloropacity\": \"100\",\n",
    "      \"handlerId\": \"mapView\",\n",
    "      \"kind\": \"simple\",\n",
    "      \"mapboxtoken\": \"pk.eyJ1IjoibWFwYm94IiwiYSI6ImNpejY4M29iazA2Z2gycXA4N2pmbDZmangifQ.-g_vE53SD2WrJ6tFX7QHmA\",\n",
    "      \"keyFields\": \"latitude,longitude\",\n",
    "      \"valueFields\": \"Gage_Height(feet),Discharge(cfs),date,time\"\n",
    "    }\n",
    "        \n",
    "\n",
    "        self.setLayers([\n",
    "        {\n",
    "            \"name\": \"Houston Flood\",\n",
    "            \"url\": \"https://www.dropbox.com/s/smvfax2br0ez4bv/houston.geojson?dl=0\",\n",
    "            \"type\": \"LineString\"\n",
    "        }\n",
    "        ])\n",
    "    def formatOptions(self,options):\n",
    "        return ';'.join([\"{}={}\".format(key,value) for (key, value) in iteritems(options)])\n",
    "\n",
    "    @route()\n",
    "    def mainScreen(self):\n",
    "        return \"\"\"\n",
    "<div class=\"well\">\n",
    "    <center><span style=\"font-size:x-large\">Analyzing Houston Flood data with PixieDust</span></center>\n",
    "</div>\n",
    "<div class=\"row\">\n",
    "    <div class=\"form-group col-sm-2\" style=\"padding-right:10px;\">\n",
    "        <div><strong>Layers</strong></div>\n",
    "        {% for layer in this.layers %}\n",
    "        <div class=\"rendererOpt checkbox checkbox-primary\">\n",
    "            <input type=\"checkbox\" pd_refresh=\"map{{prefix}}\" pd_script=\"self.toggleLayer({{loop.index0}})\">\n",
    "            <label>{{layer[\"name\"]}}</label>\n",
    "        </div>\n",
    "        {%endfor%}\n",
    "    </div>\n",
    "    <div class=\"form-group col-sm-10\">\n",
    "        <div id=\"map{{prefix}}\" pd_entity pd_options=\"{{this.formatOptions(this.mapJSONOptions)}}\"/>\n",
    "    </div>\n",
    "</div>\n",
    "\"\"\"\n",
    "\n",
    "HoustonDashboard().run(maxFlood,runInDialog=\"false\")\n"
   ]
  }
 ],
 "metadata": {
  "celltoolbar": "Edit Metadata",
  "kernelspec": {
   "display_name": "Python 3.5 with Spark 2.1",
   "language": "python",
   "name": "python3-spark21"
  },
  "language_info": {
   "codemirror_mode": {
    "name": "ipython",
    "version": 3
   },
   "file_extension": ".py",
   "mimetype": "text/x-python",
   "name": "python",
   "nbconvert_exporter": "python",
   "pygments_lexer": "ipython3",
   "version": "3.5.4"
  }
 },
 "nbformat": 4,
 "nbformat_minor": 1
}
