{
 "cells": [
  {
   "cell_type": "markdown",
   "metadata": {
    "collapsed": true
   },
   "source": [
    "# STSA Python pattern: Houston Flood data"
   ]
  },
  {
   "cell_type": "markdown",
   "metadata": {},
   "source": [
    "## 2.0 Install dependenies and import packages"
   ]
  },
  {
   "cell_type": "markdown",
   "metadata": {},
   "source": [
    "We install the prerequisites using the `!pip install` syntax here.\n",
    "In some cases, running pip install from a notebook may require a one-time kernel restart. Check the output for messages.\n",
    "If instructed to restart the kernel, from the notebook toolbar menu: • Go to > Kernel > Restart • Click Restart in the confirmation dialog\n",
    "> Note: The status of the kernel briefly flashes near the upper right corner, alerting when it is Not Connected, Restarting, Ready, etc. "
   ]
  },
  {
   "cell_type": "code",
   "execution_count": null,
   "metadata": {},
   "outputs": [],
   "source": [
    "!pip install --upgrade pixiedust"
   ]
  },
  {
   "cell_type": "markdown",
   "metadata": {},
   "source": [
    "### 1.2 Import the packages"
   ]
  },
  {
   "cell_type": "code",
   "execution_count": null,
   "metadata": {},
   "outputs": [],
   "source": [
    "import pandas as pd\n",
    "import pixiedust"
   ]
  },
  {
   "cell_type": "markdown",
   "metadata": {},
   "source": [
    "## 1.0 Obtain and curate data"
   ]
  },
  {
   "cell_type": "markdown",
   "metadata": {},
   "source": [
    "In order to do data science, or data engineering, we'll need some data.\n",
    "So, what problem are we trying to solve?\n",
    "\n",
    "### Where in Houston does flooding occur, and which specific adresses are vulnerable?"
   ]
  },
  {
   "cell_type": "markdown",
   "metadata": {},
   "source": [
    "### 1.1 Search for data"
   ]
  },
  {
   "cell_type": "markdown",
   "metadata": {},
   "source": [
    "### 1.2 Download and examine data\n",
    "\n",
    "We'll use some data that has been cleaned up a bit to expedite things.\n",
    "* Column headers have been renamed to make more sense\n",
    "* Unimportant features (columns) have been removed\n",
    "* Latitude and longitude have been added\n",
    "* Location name has been added"
   ]
  },
  {
   "cell_type": "code",
   "execution_count": 27,
   "metadata": {},
   "outputs": [
    {
     "name": "stdout",
     "output_type": "stream",
     "text": [
      "--2019-03-04 20:11:55--  https://www.dropbox.com/s/hrxu2qwcsosrxf5/HuntingBayou.csv?dl=0\n",
      "Resolving www.dropbox.com (www.dropbox.com)... 162.125.8.1, 2620:100:601b:1::a27d:801\n",
      "Connecting to www.dropbox.com (www.dropbox.com)|162.125.8.1|:443... connected.\n",
      "HTTP request sent, awaiting response... 301 Moved Permanently\n",
      "Location: /s/raw/hrxu2qwcsosrxf5/HuntingBayou.csv [following]\n",
      "--2019-03-04 20:11:55--  https://www.dropbox.com/s/raw/hrxu2qwcsosrxf5/HuntingBayou.csv\n",
      "Reusing existing connection to www.dropbox.com:443.\n",
      "HTTP request sent, awaiting response... 302 Found\n",
      "Location: https://ucb646d50b5509e3dc8d025a4625.dl.dropboxusercontent.com/cd/0/inline/Acd86k0kVUPUHUPmSg0hY66qY8-hp2gIZ2UiyE3dQJlLC_tdmzE1Pz_FdHfzuIrE4ky4DImxKVAKLWceUsuCPi9bLYVBdyurPpejcxNsEBBKh5RcJpSpCVu2MF5j3YW4Az4/file# [following]\n",
      "--2019-03-04 20:11:55--  https://ucb646d50b5509e3dc8d025a4625.dl.dropboxusercontent.com/cd/0/inline/Acd86k0kVUPUHUPmSg0hY66qY8-hp2gIZ2UiyE3dQJlLC_tdmzE1Pz_FdHfzuIrE4ky4DImxKVAKLWceUsuCPi9bLYVBdyurPpejcxNsEBBKh5RcJpSpCVu2MF5j3YW4Az4/file\n",
      "Resolving ucb646d50b5509e3dc8d025a4625.dl.dropboxusercontent.com (ucb646d50b5509e3dc8d025a4625.dl.dropboxusercontent.com)... 162.125.8.6, 2620:100:601b:6::a27d:806\n",
      "Connecting to ucb646d50b5509e3dc8d025a4625.dl.dropboxusercontent.com (ucb646d50b5509e3dc8d025a4625.dl.dropboxusercontent.com)|162.125.8.6|:443... connected.\n",
      "HTTP request sent, awaiting response... 200 OK\n",
      "Length: 59655 (58K) [text/plain]\n",
      "Saving to: ‘HuntingBayou.csv?dl=0’\n",
      "\n",
      "100%[======================================>] 59,655      --.-K/s   in 0.004s  \n",
      "\n",
      "2019-03-04 20:11:56 (16.2 MB/s) - ‘HuntingBayou.csv?dl=0’ saved [59655/59655]\n",
      "\n"
     ]
    }
   ],
   "source": [
    "!wget 'https://www.dropbox.com/s/hrxu2qwcsosrxf5/HuntingBayou.csv?dl=0'"
   ]
  },
  {
   "cell_type": "code",
   "execution_count": 28,
   "metadata": {},
   "outputs": [
    {
     "name": "stdout",
     "output_type": "stream",
     "text": [
      "fHuntingBayou.csv?dl=0\tfoo.csv  HuntingBayou.csv  WhiteoakBayou.csv\r\n"
     ]
    }
   ],
   "source": [
    "!mv HuntingBayou.csv?dl=0 HuntingBayou.csv\n",
    "!ls"
   ]
  },
  {
   "cell_type": "code",
   "execution_count": 19,
   "metadata": {},
   "outputs": [
    {
     "name": "stdout",
     "output_type": "stream",
     "text": [
      "--2019-03-04 19:12:34--  https://www.dropbox.com/s/5cy0bnw2g62k0w1/WhiteoakBayou.csv?dl=0\n",
      "Resolving www.dropbox.com (www.dropbox.com)... 162.125.8.1, 2620:100:601b:1::a27d:801\n",
      "Connecting to www.dropbox.com (www.dropbox.com)|162.125.8.1|:443... connected.\n",
      "HTTP request sent, awaiting response... 301 Moved Permanently\n",
      "Location: /s/raw/5cy0bnw2g62k0w1/WhiteoakBayou.csv [following]\n",
      "--2019-03-04 19:12:35--  https://www.dropbox.com/s/raw/5cy0bnw2g62k0w1/WhiteoakBayou.csv\n",
      "Reusing existing connection to www.dropbox.com:443.\n",
      "HTTP request sent, awaiting response... 302 Found\n",
      "Location: https://ucfc0daa0df1977b2214fa572c29.dl.dropboxusercontent.com/cd/0/inline/AcezBtyI50FZr917bjjrUjg_srnixdx4rzDs8ne6rA14il3iVHnkeeGB5UqIcqMBJWXx6Cyq4PJFQTVRApYicOLgewTz8ZsfAqds19gVA5faj9GVpNIcPDBAoNzQlUIJmy8/file# [following]\n",
      "--2019-03-04 19:12:35--  https://ucfc0daa0df1977b2214fa572c29.dl.dropboxusercontent.com/cd/0/inline/AcezBtyI50FZr917bjjrUjg_srnixdx4rzDs8ne6rA14il3iVHnkeeGB5UqIcqMBJWXx6Cyq4PJFQTVRApYicOLgewTz8ZsfAqds19gVA5faj9GVpNIcPDBAoNzQlUIJmy8/file\n",
      "Resolving ucfc0daa0df1977b2214fa572c29.dl.dropboxusercontent.com (ucfc0daa0df1977b2214fa572c29.dl.dropboxusercontent.com)... 162.125.6.6, 2620:100:601c:6::a27d:606\n",
      "Connecting to ucfc0daa0df1977b2214fa572c29.dl.dropboxusercontent.com (ucfc0daa0df1977b2214fa572c29.dl.dropboxusercontent.com)|162.125.6.6|:443... connected.\n",
      "HTTP request sent, awaiting response... 200 OK\n",
      "Length: 32786 (32K) [text/plain]\n",
      "Saving to: ‘WhiteoakBayou.csv?dl=0’\n",
      "\n",
      "100%[======================================>] 32,786      --.-K/s   in 0.03s   \n",
      "\n",
      "2019-03-04 19:12:36 (1.02 MB/s) - ‘WhiteoakBayou.csv?dl=0’ saved [32786/32786]\n",
      "\n"
     ]
    }
   ],
   "source": [
    "!wget 'https://www.dropbox.com/s/5cy0bnw2g62k0w1/WhiteoakBayou.csv?dl=0'"
   ]
  },
  {
   "cell_type": "code",
   "execution_count": 20,
   "metadata": {},
   "outputs": [
    {
     "name": "stdout",
     "output_type": "stream",
     "text": [
      "foo.csv  WhiteoakBayou.csv\r\n"
     ]
    }
   ],
   "source": [
    "!mv WhiteoakBayou.csv?dl=0 WhiteoakBayou.csv\n",
    "!ls"
   ]
  },
  {
   "cell_type": "markdown",
   "metadata": {},
   "source": [
    "### 2.3 Load data into a Pandas dataframe"
   ]
  },
  {
   "cell_type": "code",
   "execution_count": 21,
   "metadata": {},
   "outputs": [],
   "source": [
    "whiteoak = pd.read_csv('WhiteoakBayou.csv')"
   ]
  },
  {
   "cell_type": "markdown",
   "metadata": {},
   "source": [
    "### 2.4 Use pixiedust `display()` to  explore the schema and browse the data\n",
    "\n",
    "#### 2.4.1 Select _DataFrame Table_ icon in the display widget to see the data in tabular form\n",
    "\n",
    "![pixiedust dataframe icon]()\n",
    "\n",
    "#### 2.4.2 Select the chart icon to pull down and choose `line chart`. Click the `Options` button, and then for `Keys` drag and drop `datetime` and for `Values` drag and drop `Discharge`.\n",
    "\n",
    "![pixie choose line chart]()\n",
    "\n",
    "![pixie options datetime discharge]()"
   ]
  },
  {
   "cell_type": "code",
   "execution_count": 23,
   "metadata": {
    "pixiedust": {
     "displayParams": {
      "chartsize": "75",
      "handlerId": "lineChart",
      "keyFields": "datetime",
      "mapboxtoken": "pk.eyJ1IjoibWFwYm94IiwiYSI6ImNpejY4M29iazA2Z2gycXA4N2pmbDZmangifQ.-g_vE53SD2WrJ6tFX7QHmA",
      "valueFields": "Discharge(cfs)"
     }
    }
   },
   "outputs": [
    {
     "data": {
      "text/html": [
       "<style type=\"text/css\">.pd_warning{display:none;}</style><div class=\"pd_warning\"><em>Hey, there's something awesome here! To see it, open this notebook outside GitHub, in a viewer like Jupyter</em></div>"
      ],
      "text/plain": [
       "<IPython.core.display.HTML object>"
      ]
     },
     "metadata": {
      "pixieapp_metadata": null
     },
     "output_type": "display_data"
    }
   ],
   "source": [
    "display(whiteoak)"
   ]
  },
  {
   "cell_type": "code",
   "execution_count": 7,
   "metadata": {},
   "outputs": [
    {
     "name": "stdout",
     "output_type": "stream",
     "text": [
      "foo.csv\r\n"
     ]
    }
   ],
   "source": [
    "!mv foo.csv?dl=0 foo.csv\n",
    "!ls"
   ]
  },
  {
   "cell_type": "code",
   "execution_count": 8,
   "metadata": {},
   "outputs": [],
   "source": [
    "import pandas as pd\n",
    "\n",
    "hunting = pd.read_csv('./foo.csv')"
   ]
  },
  {
   "cell_type": "code",
   "execution_count": 9,
   "metadata": {
    "pixiedust": {
     "displayParams": {
      "chartsize": "62",
      "handlerId": "mapView",
      "keyFields": "latitude,longitude",
      "mapboxtoken": "pk.eyJ1IjoibWFwYm94IiwiYSI6ImNpejY4M29iazA2Z2gycXA4N2pmbDZmangifQ.-g_vE53SD2WrJ6tFX7QHmA",
      "rendererId": "bokeh",
      "valueFields": "site_no,Discharge(cfs),Gage_Height(feet)"
     }
    }
   },
   "outputs": [
    {
     "data": {
      "text/html": [
       "<style type=\"text/css\">.pd_warning{display:none;}</style><div class=\"pd_warning\"><em>Hey, there's something awesome here! To see it, open this notebook outside GitHub, in a viewer like Jupyter</em></div>\n",
       "        <div class=\"pd_save is-viewer-good\" style=\"padding-right:10px;text-align: center;line-height:initial !important;font-size: xx-large;font-weight: 500;color: coral;\">\n",
       "            \n",
       "        </div>\n",
       "    <div id=\"chartFigureaae979a0\" class=\"pd_save is-viewer-good\" style=\"overflow-x:auto\">\n",
       "            <script>\n",
       "  window.iframeLoaded = window.iframeLoaded || function(iframe) {\n",
       "    try {\n",
       "      iframe.contentWindow.pdMessageListeners = [];\n",
       "      iframe.contentWindow[\"addPDMessageListener\"] = function(listener){\n",
       "        iframe.contentWindow.pdMessageListeners.push(listener);\n",
       "      }\n",
       "      iframe.contentWindow.addEventListener(\"message\", function(event){\n",
       "        iframe.contentWindow.pdMessageListeners.forEach(function(listener){\n",
       "          listener(event);\n",
       "        });\n",
       "      }, false);\n",
       "      iframe.contentWindow.ready = true;\n",
       "      iframe.contentWindow[\"triggerPDEvent\"] = function(eventInfo) {\n",
       "        $(document).trigger('pd_event', eventInfo);\n",
       "      }\n",
       "    } catch (e) {\n",
       "      console.log(e)\n",
       "    }\n",
       "  }\n",
       "\n",
       "  \n",
       "</script>\n",
       "<iframe id=\"mapframeaae979a0\" style=\"width:496.0px;height:372.0px\" srcdoc=\"<!DOCTYPE html>\n",
       "<html lang=&quot;en&quot;>\n",
       "<head>\n",
       "    <meta charset=&quot;UTF-8&quot;>\n",
       "    <meta name=&quot;viewport&quot; content=&quot;width=device-width, initial-scale=1&quot;>\n",
       "    <title>Pixiedust Mapbox map</title>\n",
       "    <script src=&quot;https://api.tiles.mapbox.com/mapbox-gl-js/v0.32.1/mapbox-gl.js&quot;></script>\n",
       "    <link href=&quot;https://api.tiles.mapbox.com/mapbox-gl-js/v0.32.1/mapbox-gl.css&quot; rel=&quot;stylesheet&quot; />\n",
       "    <style>\n",
       "    .mapboxgl-popup-content h3 { \n",
       "        margin: 2px 0 2px 0;\n",
       "        font-style: italic;\n",
       "    }\n",
       "    .mapboxgl-popup {\n",
       "        max-width: 200px;\n",
       "    }\n",
       "    #map canvas {\n",
       "        cursor: crosshair;\n",
       "    }\n",
       "    .legend {\n",
       "        background-color: rgba(255,255,255, 0.75);\n",
       "        border-radius: 3px;\n",
       "        position: absolute;\n",
       "        left: 14px;\n",
       "        top: 14px;\n",
       "        box-shadow: 0 1px 2px rgba(0,0,0,0.10);\n",
       "        font-size: 12px;\n",
       "        line-height: 18px;\n",
       "        padding: 10px;\n",
       "        z-index: 1;\n",
       "    }\n",
       "    .legend h4 {\n",
       "        margin: 0 0 10px;\n",
       "    }\n",
       "    .legend div span {\n",
       "        border-radius: 50%;\n",
       "        display: inline-block;\n",
       "        height: 10px;\n",
       "        margin-right: 5px;\n",
       "        width: 10px;\n",
       "    }\n",
       "    body { \n",
       "        background-color:#333; \n",
       "        margin:0px !important; \n",
       "        overflow: hidden;\n",
       "        font-family: &quot;Helvetica Neue&quot;, Arial, Helvetica, sans-serif;\n",
       "    }\n",
       "    </style>\n",
       "</head>\n",
       "<body>\n",
       "<div id=&quot;map-aae979a0-b6f799d8&quot; style=&quot;width:calc(496.0px - 4px);height:calc(372.0px - 4px)&quot; />\n",
       "\n",
       "\n",
       "<script>\n",
       "    !function(e){if(&quot;object&quot;==typeof exports&amp;&amp;&quot;undefined&quot;!=typeof module)module.exports=e();else if(&quot;function&quot;==typeof define&amp;&amp;define.amd)define([],e);else{var n;&quot;undefined&quot;!=typeof window?n=window:&quot;undefined&quot;!=typeof global?n=global:&quot;undefined&quot;!=typeof self&amp;&amp;(n=self),n.geojsonExtent=e()}}(function(){return function e(t,n,r){function s(o,u){if(!n[o]){if(!t[o]){var a=&quot;function&quot;==typeof require&amp;&amp;require;if(!u&amp;&amp;a)return a(o,!0);if(i)return i(o,!0);var f=new Error(&quot;Cannot find module &quot;+o+&quot;&quot;);throw f.code=&quot;MODULE_NOT_FOUND&quot;,f}var l=n[o]={exports:{}};t[o][0].call(l.exports,function(e){var n=t[o][1][e];return s(n?n:e)},l,l.exports,e,t,n,r)}return n[o].exports}for(var i=&quot;function&quot;==typeof require&amp;&amp;require,o=0;o<r.length;o++)s(r[o]);return s}({1:[function(require,module){function getExtent(_){for(var ext=extent(),coords=geojsonCoords(_),i=0;i<coords.length;i++)ext.include(coords[i]);return ext}var geojsonCoords=require(&quot;geojson-coords&quot;),traverse=require(&quot;traverse&quot;),extent=require(&quot;extent&quot;),geojsonTypes=[&quot;Point&quot;,&quot;MultiPoint&quot;,&quot;LineString&quot;,&quot;MultiLineString&quot;,&quot;Polygon&quot;,&quot;MultiPolygon&quot;,&quot;Feature&quot;,&quot;FeatureCollection&quot;,&quot;GeometryCollection&quot;];module.exports=function(_){return getExtent(_).bbox()},module.exports.polygon=function(_){return getExtent(_).polygon()},module.exports.bboxify=function(_){return traverse(_).map(function(value){value&amp;&amp;-1!==typeof geojsonTypes.indexOf(value.type)&amp;&amp;(console.log(value.type,value),value.bbox=getExtent(value).bbox(),this.update(value))})}},{extent:2,&quot;geojson-coords&quot;:4,traverse:7}],2:[function(require,module){function Extent(){return this instanceof Extent?(this._bbox=[1/0,1/0,-(1/0),-(1/0)],void(this._valid=!1)):new Extent}module.exports=Extent,Extent.prototype.include=function(ll){return this._valid=!0,this._bbox[0]=Math.min(this._bbox[0],ll[0]),this._bbox[1]=Math.min(this._bbox[1],ll[1]),this._bbox[2]=Math.max(this._bbox[2],ll[0]),this._bbox[3]=Math.max(this._bbox[3],ll[1]),this},Extent.prototype.union=function(other){return this._valid=!0,this._bbox[0]=Math.min(this._bbox[0],other[0]),this._bbox[1]=Math.min(this._bbox[1],other[1]),this._bbox[2]=Math.max(this._bbox[2],other[2]),this._bbox[3]=Math.max(this._bbox[3],other[3]),this},Extent.prototype.bbox=function(){return this._valid?this._bbox:null},Extent.prototype.contains=function(ll){return this._valid?this._bbox[0]<=ll[0]&amp;&amp;this._bbox[1]<=ll[1]&amp;&amp;this._bbox[2]>=ll[0]&amp;&amp;this._bbox[3]>=ll[1]:null},Extent.prototype.polygon=function(){return this._valid?{type:&quot;Polygon&quot;,coordinates:[[[this._bbox[0],this._bbox[1]],[this._bbox[2],this._bbox[1]],[this._bbox[2],this._bbox[3]],[this._bbox[0],this._bbox[3]],[this._bbox[0],this._bbox[1]]]]}:null}},{}],3:[function(require,module){module.exports=function(list){function _flatten(list){return Array.isArray(list)&amp;&amp;list.length&amp;&amp;&quot;number&quot;==typeof list[0]?[list]:list.reduce(function(acc,item){return Array.isArray(item)&amp;&amp;Array.isArray(item[0])?acc.concat(_flatten(item)):(acc.push(item),acc)},[])}return _flatten(list)}},{}],4:[function(require,module){var geojsonNormalize=require(&quot;geojson-normalize&quot;),geojsonFlatten=require(&quot;geojson-flatten&quot;),flatten=require(&quot;./flatten&quot;);module.exports=function(_){if(!_)return[];var normalized=geojsonFlatten(geojsonNormalize(_)),coordinates=[];return normalized.features.forEach(function(feature){feature.geometry&amp;&amp;(coordinates=coordinates.concat(flatten(feature.geometry.coordinates)))}),coordinates}},{&quot;./flatten&quot;:3,&quot;geojson-flatten&quot;:5,&quot;geojson-normalize&quot;:6}],5:[function(require,module){function flatten(gj){switch(gj&amp;&amp;gj.type||null){case&quot;FeatureCollection&quot;:return gj.features=gj.features.reduce(function(mem,feature){return mem.concat(flatten(feature))},[]),gj;case&quot;Feature&quot;:return flatten(gj.geometry).map(function(geom){return{type:&quot;Feature&quot;,properties:JSON.parse(JSON.stringify(gj.properties)),geometry:geom}});case&quot;MultiPoint&quot;:return gj.coordinates.map(function(_){return{type:&quot;Point&quot;,coordinates:_}});case&quot;MultiPolygon&quot;:return gj.coordinates.map(function(_){return{type:&quot;Polygon&quot;,coordinates:_}});case&quot;MultiLineString&quot;:return gj.coordinates.map(function(_){return{type:&quot;LineString&quot;,coordinates:_}});case&quot;GeometryCollection&quot;:return gj.geometries;case&quot;Point&quot;:case&quot;Polygon&quot;:case&quot;LineString&quot;:return[gj];default:return gj}}module.exports=flatten},{}],6:[function(require,module){function normalize(gj){if(!gj||!gj.type)return null;var type=types[gj.type];return type?&quot;geometry&quot;===type?{type:&quot;FeatureCollection&quot;,features:[{type:&quot;Feature&quot;,properties:{},geometry:gj}]}:&quot;feature&quot;===type?{type:&quot;FeatureCollection&quot;,features:[gj]}:&quot;featurecollection&quot;===type?gj:void 0:null}module.exports=normalize;var types={Point:&quot;geometry&quot;,MultiPoint:&quot;geometry&quot;,LineString:&quot;geometry&quot;,MultiLineString:&quot;geometry&quot;,Polygon:&quot;geometry&quot;,MultiPolygon:&quot;geometry&quot;,GeometryCollection:&quot;geometry&quot;,Feature:&quot;feature&quot;,FeatureCollection:&quot;featurecollection&quot;}},{}],7:[function(require,module){function Traverse(obj){this.value=obj}function walk(root,cb,immutable){var path=[],parents=[],alive=!0;return function walker(node_){function updateState(){if(&quot;object&quot;==typeof state.node&amp;&amp;null!==state.node){state.keys&amp;&amp;state.node_===state.node||(state.keys=objectKeys(state.node)),state.isLeaf=0==state.keys.length;for(var i=0;i<parents.length;i++)if(parents[i].node_===node_){state.circular=parents[i];break}}else state.isLeaf=!0,state.keys=null;state.notLeaf=!state.isLeaf,state.notRoot=!state.isRoot}var node=immutable?copy(node_):node_,modifiers={},keepGoing=!0,state={node:node,node_:node_,path:[].concat(path),parent:parents[parents.length-1],parents:parents,key:path.slice(-1)[0],isRoot:0===path.length,level:path.length,circular:null,update:function(x,stopHere){state.isRoot||(state.parent.node[state.key]=x),state.node=x,stopHere&amp;&amp;(keepGoing=!1)},&quot;delete&quot;:function(stopHere){delete state.parent.node[state.key],stopHere&amp;&amp;(keepGoing=!1)},remove:function(stopHere){isArray(state.parent.node)?state.parent.node.splice(state.key,1):delete state.parent.node[state.key],stopHere&amp;&amp;(keepGoing=!1)},keys:null,before:function(f){modifiers.before=f},after:function(f){modifiers.after=f},pre:function(f){modifiers.pre=f},post:function(f){modifiers.post=f},stop:function(){alive=!1},block:function(){keepGoing=!1}};if(!alive)return state;updateState();var ret=cb.call(state,state.node);return void 0!==ret&amp;&amp;state.update&amp;&amp;state.update(ret),modifiers.before&amp;&amp;modifiers.before.call(state,state.node),keepGoing?(&quot;object&quot;!=typeof state.node||null===state.node||state.circular||(parents.push(state),updateState(),forEach(state.keys,function(key,i){path.push(key),modifiers.pre&amp;&amp;modifiers.pre.call(state,state.node[key],key);var child=walker(state.node[key]);immutable&amp;&amp;hasOwnProperty.call(state.node,key)&amp;&amp;(state.node[key]=child.node),child.isLast=i==state.keys.length-1,child.isFirst=0==i,modifiers.post&amp;&amp;modifiers.post.call(state,child),path.pop()}),parents.pop()),modifiers.after&amp;&amp;modifiers.after.call(state,state.node),state):state}(root).node}function copy(src){if(&quot;object&quot;==typeof src&amp;&amp;null!==src){var dst;if(isArray(src))dst=[];else if(isDate(src))dst=new Date(src.getTime?src.getTime():src);else if(isRegExp(src))dst=new RegExp(src);else if(isError(src))dst={message:src.message};else if(isBoolean(src))dst=new Boolean(src);else if(isNumber(src))dst=new Number(src);else if(isString(src))dst=new String(src);else if(Object.create&amp;&amp;Object.getPrototypeOf)dst=Object.create(Object.getPrototypeOf(src));else if(src.constructor===Object)dst={};else{var proto=src.constructor&amp;&amp;src.constructor.prototype||src.__proto__||{},T=function(){};T.prototype=proto,dst=new T}return forEach(objectKeys(src),function(key){dst[key]=src[key]}),dst}return src}function toS(obj){return Object.prototype.toString.call(obj)}function isDate(obj){return&quot;[object Date]&quot;===toS(obj)}function isRegExp(obj){return&quot;[object RegExp]&quot;===toS(obj)}function isError(obj){return&quot;[object Error]&quot;===toS(obj)}function isBoolean(obj){return&quot;[object Boolean]&quot;===toS(obj)}function isNumber(obj){return&quot;[object Number]&quot;===toS(obj)}function isString(obj){return&quot;[object String]&quot;===toS(obj)}var traverse=module.exports=function(obj){return new Traverse(obj)};Traverse.prototype.get=function(ps){for(var node=this.value,i=0;i<ps.length;i++){var key=ps[i];if(!node||!hasOwnProperty.call(node,key)){node=void 0;break}node=node[key]}return node},Traverse.prototype.has=function(ps){for(var node=this.value,i=0;i<ps.length;i++){var key=ps[i];if(!node||!hasOwnProperty.call(node,key))return!1;node=node[key]}return!0},Traverse.prototype.set=function(ps,value){for(var node=this.value,i=0;i<ps.length-1;i++){var key=ps[i];hasOwnProperty.call(node,key)||(node[key]={}),node=node[key]}return node[ps[i]]=value,value},Traverse.prototype.map=function(cb){return walk(this.value,cb,!0)},Traverse.prototype.forEach=function(cb){return this.value=walk(this.value,cb,!1),this.value},Traverse.prototype.reduce=function(cb,init){var skip=1===arguments.length,acc=skip?this.value:init;return this.forEach(function(x){this.isRoot&amp;&amp;skip||(acc=cb.call(this,acc,x))}),acc},Traverse.prototype.paths=function(){var acc=[];return this.forEach(function(){acc.push(this.path)}),acc},Traverse.prototype.nodes=function(){var acc=[];return this.forEach(function(){acc.push(this.node)}),acc},Traverse.prototype.clone=function(){var parents=[],nodes=[];return function clone(src){for(var i=0;i<parents.length;i++)if(parents[i]===src)return nodes[i];if(&quot;object&quot;==typeof src&amp;&amp;null!==src){var dst=copy(src);return parents.push(src),nodes.push(dst),forEach(objectKeys(src),function(key){dst[key]=clone(src[key])}),parents.pop(),nodes.pop(),dst}return src}(this.value)};var objectKeys=Object.keys||function(obj){var res=[];for(var key in obj)res.push(key);return res},isArray=Array.isArray||function(xs){return&quot;[object Array]&quot;===Object.prototype.toString.call(xs)},forEach=function(xs,fn){if(xs.forEach)return xs.forEach(fn);for(var i=0;i<xs.length;i++)fn(xs[i],i,xs)};forEach(objectKeys(Traverse.prototype),function(key){traverse[key]=function(obj){var args=[].slice.call(arguments,1),t=new Traverse(obj);return t[key].apply(t,args)}});var hasOwnProperty=Object.hasOwnProperty||function(obj,key){return key in obj}},{}]},{},[1])(1)});    \n",
       "    var comment = &quot;&quot;;\n",
       "    mapboxgl.accessToken=&quot;pk.eyJ1IjoibWFwYm94IiwiYSI6ImNpejY4M29iazA2Z2gycXA4N2pmbDZmangifQ.-g_vE53SD2WrJ6tFX7QHmA&quot;;\n",
       "    var mapdata = null;\n",
       "    var map = new mapboxgl.Map({\n",
       "        container: &quot;map-aae979a0-b6f799d8&quot;,\n",
       "        style: &quot;mapbox://styles/mapbox/light-v9&quot;\n",
       "    });\n",
       "\n",
       "    setTimeout(function(){\n",
       "        if (window.addPDMessageListener){\n",
       "            window.addPDMessageListener(function(event){\n",
       "                streamingLayer = map.getSource(&quot;streamingLayer&quot;);\n",
       "                if (streamingLayer){\n",
       "                    streamingLayer.setData(event.data.data);\n",
       "                }else{\n",
       "                    map.addLayer({\n",
       "                        &quot;id&quot;: &quot;streamingLayer&quot;,\n",
       "                        &quot;maptype&quot;: &quot;mapbox&quot;,\n",
       "                        &quot;type&quot;: event.data.type,\n",
       "                        &quot;source&quot;: { type: &quot;geojson&quot;, data: event.data.data },\n",
       "                        &quot;layout&quot;: event.data.layout || {},\n",
       "                        &quot;paint&quot;: event.data.paint || {}\n",
       "                    });\n",
       "                    if (event.data.fitbounds &amp;&amp; event.data.data.features){\n",
       "                        function updateBounds(res, ar){\n",
       "                            if (ar[0].length >=2 &amp;&amp; ar[1].length >= 2 ){\n",
       "                                if (!res){\n",
       "                                    return ar;\n",
       "                                }\n",
       "                                return [ \n",
       "                                    [Math.min( ar[0][0]-0.1, res[0][0]), Math.min( ar[0][1]-0.1, res[0][1])],\n",
       "                                    [Math.max( ar[1][0]+0.1, res[1][0]), Math.max( ar[1][1]+0.1, res[1][1])]\n",
       "                                ]\n",
       "                            }\n",
       "                            return null;\n",
       "                        }\n",
       "                        var bbox = event.data.data.features.reduce(function(res, value){\n",
       "                            var coord = value.geometry.coordinates;\n",
       "                            if (coord.length >= 2 ){\n",
       "                                res = updateBounds( res, [coord[0], coord[1]]);\n",
       "                            }\n",
       "                            return res;\n",
       "                        }, null);\n",
       "                        if (bbox){\n",
       "                            map.fitBounds(bbox);\n",
       "                        }\n",
       "                    }\n",
       "                }\n",
       "            });\n",
       "        };\n",
       "    },100);\n",
       "\n",
       "    var popup = new mapboxgl.Popup({closeButton: false,closeOnClick: true});\n",
       "\n",
       "    function divineGeometryType(mapdata) {\n",
       "        comment = &quot;check type of first geometry. Later expand to check all geometries and make a good decision&quot;;\n",
       "        return mapdata.features[0].geometry.type;\n",
       "    }\n",
       "    \n",
       "    map.on(&quot;mousemove&quot;, function (e) {\n",
       "        var fs = map.queryRenderedFeatures(e.point,{layers:[&quot;pxlayer&quot;]});\n",
       "        if (!fs || !fs.length) {popup.remove();return;};\n",
       "        popuphtml = &quot;&quot;;\n",
       "        var hr = false;\n",
       "        fs.forEach(function(f){\n",
       "            if (hr){ \n",
       "                popuphtml += &quot;<hr>\\n&quot;;\n",
       "            }\n",
       "            hr=true;\n",
       "            popuphtml += &quot;<h3>&quot;+f.layer.id.toUpperCase()+&quot;</h3>\\n&quot;;\n",
       "            var keylength = Object.keys(f.properties).length;\n",
       "            for (var key in f.properties) {\n",
       "                popuphtml += &quot;<b>&quot;+key+&quot;: </b> &quot;+f.properties[key]+&quot;<br/>\\n&quot;;\n",
       "            }\n",
       "        });\n",
       "        popup.setLngLat(e.lngLat).setHTML(popuphtml).addTo(map);\n",
       "    });\n",
       "    \n",
       "    map.on(&quot;click&quot;, function (e) {\n",
       "        var fs = map.queryRenderedFeatures(e.point, { layers: [&quot;pxlayer&quot;] });\n",
       "        if (fs &amp;&amp; fs.length) {\n",
       "            var f = fs[0];\n",
       "            console.log(&quot;clicked&quot;, f);\n",
       "            var keylength = Object.keys(f.properties).length;\n",
       "            var payload = {type:&quot;select&quot;, targetDivId: &quot;&quot; };\n",
       "\n",
       "            for (var key in f.properties) {\n",
       "                payload[key] = f.properties[key];\n",
       "            }\n",
       "\n",
       "            if (window.triggerPDEvent) {\n",
       "                window.triggerPDEvent(payload);\n",
       "            }\n",
       "        }\n",
       "    });\n",
       "        \n",
       "    map.on(&quot;load&quot;, function() {\n",
       "        \n",
       "        mapdata={&quot;type&quot;: &quot;FeatureCollection&quot;, &quot;features&quot;: [{&quot;type&quot;: &quot;Feature&quot;, &quot;properties&quot;: {&quot;Gage_Height(feet)&quot;: &quot;17.34&quot;, &quot;site_no&quot;: 8075770, &quot;Discharge(cfs)&quot;: &quot;10&quot;}, &quot;geometry&quot;: {&quot;type&quot;: &quot;Point&quot;, &quot;coordinates&quot;: [&quot;-95.313056&quot;, 29.808611]}}, {&quot;type&quot;: &quot;Feature&quot;, &quot;properties&quot;: {&quot;Gage_Height(feet)&quot;: &quot;17.36&quot;, &quot;site_no&quot;: 8075770, &quot;Discharge(cfs)&quot;: &quot;10.4&quot;}, &quot;geometry&quot;: {&quot;type&quot;: &quot;Point&quot;, &quot;coordinates&quot;: [&quot;-95.313056&quot;, 29.808611]}}, {&quot;type&quot;: &quot;Feature&quot;, &quot;properties&quot;: {&quot;Gage_Height(feet)&quot;: &quot;17.37&quot;, &quot;site_no&quot;: 8075770, &quot;Discharge(cfs)&quot;: &quot;10.6&quot;}, &quot;geometry&quot;: {&quot;type&quot;: &quot;Point&quot;, &quot;coordinates&quot;: [&quot;-95.313056&quot;, 29.808611]}}, {&quot;type&quot;: &quot;Feature&quot;, &quot;properties&quot;: {&quot;Gage_Height(feet)&quot;: &quot;27.11&quot;, &quot;site_no&quot;: 8075770, &quot;Discharge(cfs)&quot;: &quot;1050&quot;}, &quot;geometry&quot;: {&quot;type&quot;: &quot;Point&quot;, &quot;coordinates&quot;: [&quot;-95.313056&quot;, 29.808611]}}, {&quot;type&quot;: &quot;Feature&quot;, &quot;properties&quot;: {&quot;Gage_Height(feet)&quot;: &quot;27.27&quot;, &quot;site_no&quot;: 8075770, &quot;Discharge(cfs)&quot;: &quot;1090&quot;}, &quot;geometry&quot;: {&quot;type&quot;: &quot;Point&quot;, &quot;coordinates&quot;: [&quot;-95.313056&quot;, 29.808611]}}, {&quot;type&quot;: &quot;Feature&quot;, &quot;properties&quot;: {&quot;Gage_Height(feet)&quot;: &quot;17.4&quot;, &quot;site_no&quot;: 8075770, &quot;Discharge(cfs)&quot;: &quot;11.3&quot;}, &quot;geometry&quot;: {&quot;type&quot;: &quot;Point&quot;, &quot;coordinates&quot;: [&quot;-95.313056&quot;, 29.808611]}}, {&quot;type&quot;: &quot;Feature&quot;, &quot;properties&quot;: {&quot;Gage_Height(feet)&quot;: &quot;20.58&quot;, &quot;site_no&quot;: 8075770, &quot;Discharge(cfs)&quot;: &quot;113&quot;}, &quot;geometry&quot;: {&quot;type&quot;: &quot;Point&quot;, &quot;coordinates&quot;: [&quot;-95.313056&quot;, 29.808611]}}, {&quot;type&quot;: &quot;Feature&quot;, &quot;properties&quot;: {&quot;Gage_Height(feet)&quot;: &quot;17.48&quot;, &quot;site_no&quot;: 8075770, &quot;Discharge(cfs)&quot;: &quot;13.2&quot;}, &quot;geometry&quot;: {&quot;type&quot;: &quot;Point&quot;, &quot;coordinates&quot;: [&quot;-95.313056&quot;, 29.808611]}}, {&quot;type&quot;: &quot;Feature&quot;, &quot;properties&quot;: {&quot;Gage_Height(feet)&quot;: &quot;28.15&quot;, &quot;site_no&quot;: 8075770, &quot;Discharge(cfs)&quot;: &quot;1310&quot;}, &quot;geometry&quot;: {&quot;type&quot;: &quot;Point&quot;, &quot;coordinates&quot;: [&quot;-95.313056&quot;, 29.808611]}}, {&quot;type&quot;: &quot;Feature&quot;, &quot;properties&quot;: {&quot;Gage_Height(feet)&quot;: &quot;20.-95&quot;, &quot;site_no&quot;: 8075770, &quot;Discharge(cfs)&quot;: &quot;138&quot;}, &quot;geometry&quot;: {&quot;type&quot;: &quot;Point&quot;, &quot;coordinates&quot;: [&quot;-95.313056&quot;, 29.808611]}}, {&quot;type&quot;: &quot;Feature&quot;, &quot;properties&quot;: {&quot;Gage_Height(feet)&quot;: &quot;17.52&quot;, &quot;site_no&quot;: 8075770, &quot;Discharge(cfs)&quot;: &quot;14.1&quot;}, &quot;geometry&quot;: {&quot;type&quot;: &quot;Point&quot;, &quot;coordinates&quot;: [&quot;-95.313056&quot;, 29.808611]}}, {&quot;type&quot;: &quot;Feature&quot;, &quot;properties&quot;: {&quot;Gage_Height(feet)&quot;: &quot;17.52&quot;, &quot;site_no&quot;: 8075770, &quot;Discharge(cfs)&quot;: &quot;14.1&quot;}, &quot;geometry&quot;: {&quot;type&quot;: &quot;Point&quot;, &quot;coordinates&quot;: [&quot;-95.313056&quot;, 29.808611]}}, {&quot;type&quot;: &quot;Feature&quot;, &quot;properties&quot;: {&quot;Gage_Height(feet)&quot;: &quot;17.55&quot;, &quot;site_no&quot;: 8075770, &quot;Discharge(cfs)&quot;: &quot;14.6&quot;}, &quot;geometry&quot;: {&quot;type&quot;: &quot;Point&quot;, &quot;coordinates&quot;: [&quot;-95.313056&quot;, 29.808611]}}, {&quot;type&quot;: &quot;Feature&quot;, &quot;properties&quot;: {&quot;Gage_Height(feet)&quot;: &quot;28.53&quot;, &quot;site_no&quot;: 8075770, &quot;Discharge(cfs)&quot;: &quot;1420&quot;}, &quot;geometry&quot;: {&quot;type&quot;: &quot;Point&quot;, &quot;coordinates&quot;: [&quot;-95.313056&quot;, 29.808611]}}, {&quot;type&quot;: &quot;Feature&quot;, &quot;properties&quot;: {&quot;Gage_Height(feet)&quot;: &quot;28.56&quot;, &quot;site_no&quot;: 8075770, &quot;Discharge(cfs)&quot;: &quot;1420&quot;}, &quot;geometry&quot;: {&quot;type&quot;: &quot;Point&quot;, &quot;coordinates&quot;: [&quot;-95.313056&quot;, 29.808611]}}, {&quot;type&quot;: &quot;Feature&quot;, &quot;properties&quot;: {&quot;Gage_Height(feet)&quot;: &quot;17.6&quot;, &quot;site_no&quot;: 8075770, &quot;Discharge(cfs)&quot;: &quot;15.6&quot;}, &quot;geometry&quot;: {&quot;type&quot;: &quot;Point&quot;, &quot;coordinates&quot;: [&quot;-95.313056&quot;, 29.808611]}}, {&quot;type&quot;: &quot;Feature&quot;, &quot;properties&quot;: {&quot;Gage_Height(feet)&quot;: &quot;21.21&quot;, &quot;site_no&quot;: 8075770, &quot;Discharge(cfs)&quot;: &quot;154&quot;}, &quot;geometry&quot;: {&quot;type&quot;: &quot;Point&quot;, &quot;coordinates&quot;: [&quot;-95.313056&quot;, 29.808611]}}, {&quot;type&quot;: &quot;Feature&quot;, &quot;properties&quot;: {&quot;Gage_Height(feet)&quot;: &quot;21.32&quot;, &quot;site_no&quot;: 8075770, &quot;Discharge(cfs)&quot;: &quot;162&quot;}, &quot;geometry&quot;: {&quot;type&quot;: &quot;Point&quot;, &quot;coordinates&quot;: [&quot;-95.313056&quot;, 29.808611]}}, {&quot;type&quot;: &quot;Feature&quot;, &quot;properties&quot;: {&quot;Gage_Height(feet)&quot;: &quot;21.53&quot;, &quot;site_no&quot;: 8075770, &quot;Discharge(cfs)&quot;: &quot;178&quot;}, &quot;geometry&quot;: {&quot;type&quot;: &quot;Point&quot;, &quot;coordinates&quot;: [&quot;-95.313056&quot;, 29.808611]}}, {&quot;type&quot;: &quot;Feature&quot;, &quot;properties&quot;: {&quot;Gage_Height(feet)&quot;: &quot;17.84&quot;, &quot;site_no&quot;: 8075770, &quot;Discharge(cfs)&quot;: &quot;20.4&quot;}, &quot;geometry&quot;: {&quot;type&quot;: &quot;Point&quot;, &quot;coordinates&quot;: [&quot;-95.313056&quot;, 29.808611]}}, {&quot;type&quot;: &quot;Feature&quot;, &quot;properties&quot;: {&quot;Gage_Height(feet)&quot;: &quot;17.88&quot;, &quot;site_no&quot;: 8075770, &quot;Discharge(cfs)&quot;: &quot;21.1&quot;}, &quot;geometry&quot;: {&quot;type&quot;: &quot;Point&quot;, &quot;coordinates&quot;: [&quot;-95.313056&quot;, 29.808611]}}, {&quot;type&quot;: &quot;Feature&quot;, &quot;properties&quot;: {&quot;Gage_Height(feet)&quot;: &quot;21.93&quot;, &quot;site_no&quot;: 8075770, &quot;Discharge(cfs)&quot;: &quot;210&quot;}, &quot;geometry&quot;: {&quot;type&quot;: &quot;Point&quot;, &quot;coordinates&quot;: [&quot;-95.313056&quot;, 29.808611]}}, {&quot;type&quot;: &quot;Feature&quot;, &quot;properties&quot;: {&quot;Gage_Height(feet)&quot;: &quot;17.97&quot;, &quot;site_no&quot;: 8075770, &quot;Discharge(cfs)&quot;: &quot;22.9&quot;}, &quot;geometry&quot;: {&quot;type&quot;: &quot;Point&quot;, &quot;coordinates&quot;: [&quot;-95.313056&quot;, 29.808611]}}, {&quot;type&quot;: &quot;Feature&quot;, &quot;properties&quot;: {&quot;Gage_Height(feet)&quot;: &quot;18&quot;, &quot;site_no&quot;: 8075770, &quot;Discharge(cfs)&quot;: &quot;23.5&quot;}, &quot;geometry&quot;: {&quot;type&quot;: &quot;Point&quot;, &quot;coordinates&quot;: [&quot;-95.313056&quot;, 29.808611]}}, {&quot;type&quot;: &quot;Feature&quot;, &quot;properties&quot;: {&quot;Gage_Height(feet)&quot;: &quot;18.02&quot;, &quot;site_no&quot;: 8075770, &quot;Discharge(cfs)&quot;: &quot;23.9&quot;}, &quot;geometry&quot;: {&quot;type&quot;: &quot;Point&quot;, &quot;coordinates&quot;: [&quot;-95.313056&quot;, 29.808611]}}, {&quot;type&quot;: &quot;Feature&quot;, &quot;properties&quot;: {&quot;Gage_Height(feet)&quot;: &quot;22.15&quot;, &quot;site_no&quot;: 8075770, &quot;Discharge(cfs)&quot;: &quot;232&quot;}, &quot;geometry&quot;: {&quot;type&quot;: &quot;Point&quot;, &quot;coordinates&quot;: [&quot;-95.313056&quot;, 29.808611]}}, {&quot;type&quot;: &quot;Feature&quot;, &quot;properties&quot;: {&quot;Gage_Height(feet)&quot;: &quot;18.04&quot;, &quot;site_no&quot;: 8075770, &quot;Discharge(cfs)&quot;: &quot;24.3&quot;}, &quot;geometry&quot;: {&quot;type&quot;: &quot;Point&quot;, &quot;coordinates&quot;: [&quot;-95.313056&quot;, 29.808611]}}, {&quot;type&quot;: &quot;Feature&quot;, &quot;properties&quot;: {&quot;Gage_Height(feet)&quot;: &quot;22.28&quot;, &quot;site_no&quot;: 8075770, &quot;Discharge(cfs)&quot;: &quot;242&quot;}, &quot;geometry&quot;: {&quot;type&quot;: &quot;Point&quot;, &quot;coordinates&quot;: [&quot;-95.313056&quot;, 29.808611]}}, {&quot;type&quot;: &quot;Feature&quot;, &quot;properties&quot;: {&quot;Gage_Height(feet)&quot;: &quot;18.07&quot;, &quot;site_no&quot;: 8075770, &quot;Discharge(cfs)&quot;: &quot;25&quot;}, &quot;geometry&quot;: {&quot;type&quot;: &quot;Point&quot;, &quot;coordinates&quot;: [&quot;-95.313056&quot;, 29.808611]}}, {&quot;type&quot;: &quot;Feature&quot;, &quot;properties&quot;: {&quot;Gage_Height(feet)&quot;: &quot;22.44&quot;, &quot;site_no&quot;: 8075770, &quot;Discharge(cfs)&quot;: &quot;258&quot;}, &quot;geometry&quot;: {&quot;type&quot;: &quot;Point&quot;, &quot;coordinates&quot;: [&quot;-95.313056&quot;, 29.808611]}}, {&quot;type&quot;: &quot;Feature&quot;, &quot;properties&quot;: {&quot;Gage_Height(feet)&quot;: &quot;31.75&quot;, &quot;site_no&quot;: 8075770, &quot;Discharge(cfs)&quot;: &quot;2700&quot;}, &quot;geometry&quot;: {&quot;type&quot;: &quot;Point&quot;, &quot;coordinates&quot;: [&quot;-95.313056&quot;, 29.808611]}}, {&quot;type&quot;: &quot;Feature&quot;, &quot;properties&quot;: {&quot;Gage_Height(feet)&quot;: &quot;32.27&quot;, &quot;site_no&quot;: 8075770, &quot;Discharge(cfs)&quot;: &quot;2970&quot;}, &quot;geometry&quot;: {&quot;type&quot;: &quot;Point&quot;, &quot;coordinates&quot;: [&quot;-95.313056&quot;, 29.808611]}}, {&quot;type&quot;: &quot;Feature&quot;, &quot;properties&quot;: {&quot;Gage_Height(feet)&quot;: &quot;32.4&quot;, &quot;site_no&quot;: 8075770, &quot;Discharge(cfs)&quot;: &quot;3040&quot;}, &quot;geometry&quot;: {&quot;type&quot;: &quot;Point&quot;, &quot;coordinates&quot;: [&quot;-95.313056&quot;, 29.808611]}}, {&quot;type&quot;: &quot;Feature&quot;, &quot;properties&quot;: {&quot;Gage_Height(feet)&quot;: &quot;22.97&quot;, &quot;site_no&quot;: 8075770, &quot;Discharge(cfs)&quot;: &quot;314&quot;}, &quot;geometry&quot;: {&quot;type&quot;: &quot;Point&quot;, &quot;coordinates&quot;: [&quot;-95.313056&quot;, 29.808611]}}, {&quot;type&quot;: &quot;Feature&quot;, &quot;properties&quot;: {&quot;Gage_Height(feet)&quot;: &quot;18.41&quot;, &quot;site_no&quot;: 8075770, &quot;Discharge(cfs)&quot;: &quot;32.2&quot;}, &quot;geometry&quot;: {&quot;type&quot;: &quot;Point&quot;, &quot;coordinates&quot;: [&quot;-95.313056&quot;, 29.808611]}}, {&quot;type&quot;: &quot;Feature&quot;, &quot;properties&quot;: {&quot;Gage_Height(feet)&quot;: &quot;33.19&quot;, &quot;site_no&quot;: 8075770, &quot;Discharge(cfs)&quot;: &quot;3490&quot;}, &quot;geometry&quot;: {&quot;type&quot;: &quot;Point&quot;, &quot;coordinates&quot;: [&quot;-95.313056&quot;, 29.808611]}}, {&quot;type&quot;: &quot;Feature&quot;, &quot;properties&quot;: {&quot;Gage_Height(feet)&quot;: &quot;18.55&quot;, &quot;site_no&quot;: 8075770, &quot;Discharge(cfs)&quot;: &quot;35.5&quot;}, &quot;geometry&quot;: {&quot;type&quot;: &quot;Point&quot;, &quot;coordinates&quot;: [&quot;-95.313056&quot;, 29.808611]}}, {&quot;type&quot;: &quot;Feature&quot;, &quot;properties&quot;: {&quot;Gage_Height(feet)&quot;: &quot;23.31&quot;, &quot;site_no&quot;: 8075770, &quot;Discharge(cfs)&quot;: &quot;354&quot;}, &quot;geometry&quot;: {&quot;type&quot;: &quot;Point&quot;, &quot;coordinates&quot;: [&quot;-95.313056&quot;, 29.808611]}}, {&quot;type&quot;: &quot;Feature&quot;, &quot;properties&quot;: {&quot;Gage_Height(feet)&quot;: &quot;18.64&quot;, &quot;site_no&quot;: 8075770, &quot;Discharge(cfs)&quot;: &quot;37.7&quot;}, &quot;geometry&quot;: {&quot;type&quot;: &quot;Point&quot;, &quot;coordinates&quot;: [&quot;-95.313056&quot;, 29.808611]}}, {&quot;type&quot;: &quot;Feature&quot;, &quot;properties&quot;: {&quot;Gage_Height(feet)&quot;: &quot;34.07&quot;, &quot;site_no&quot;: 8075770, &quot;Discharge(cfs)&quot;: &quot;4050&quot;}, &quot;geometry&quot;: {&quot;type&quot;: &quot;Point&quot;, &quot;coordinates&quot;: [&quot;-95.313056&quot;, 29.808611]}}, {&quot;type&quot;: &quot;Feature&quot;, &quot;properties&quot;: {&quot;Gage_Height(feet)&quot;: &quot;18.79&quot;, &quot;site_no&quot;: 8075770, &quot;Discharge(cfs)&quot;: &quot;41.5&quot;}, &quot;geometry&quot;: {&quot;type&quot;: &quot;Point&quot;, &quot;coordinates&quot;: [&quot;-95.313056&quot;, 29.808611]}}, {&quot;type&quot;: &quot;Feature&quot;, &quot;properties&quot;: {&quot;Gage_Height(feet)&quot;: &quot;23.87&quot;, &quot;site_no&quot;: 8075770, &quot;Discharge(cfs)&quot;: &quot;427&quot;}, &quot;geometry&quot;: {&quot;type&quot;: &quot;Point&quot;, &quot;coordinates&quot;: [&quot;-95.313056&quot;, 29.808611]}}, {&quot;type&quot;: &quot;Feature&quot;, &quot;properties&quot;: {&quot;Gage_Height(feet)&quot;: &quot;34.48&quot;, &quot;site_no&quot;: 8075770, &quot;Discharge(cfs)&quot;: &quot;4330&quot;}, &quot;geometry&quot;: {&quot;type&quot;: &quot;Point&quot;, &quot;coordinates&quot;: [&quot;-95.313056&quot;, 29.808611]}}, {&quot;type&quot;: &quot;Feature&quot;, &quot;properties&quot;: {&quot;Gage_Height(feet)&quot;: &quot;34.5&quot;, &quot;site_no&quot;: 8075770, &quot;Discharge(cfs)&quot;: &quot;4340&quot;}, &quot;geometry&quot;: {&quot;type&quot;: &quot;Point&quot;, &quot;coordinates&quot;: [&quot;-95.313056&quot;, 29.808611]}}, {&quot;type&quot;: &quot;Feature&quot;, &quot;properties&quot;: {&quot;Gage_Height(feet)&quot;: &quot;18.9&quot;, &quot;site_no&quot;: 8075770, &quot;Discharge(cfs)&quot;: &quot;44.6&quot;}, &quot;geometry&quot;: {&quot;type&quot;: &quot;Point&quot;, &quot;coordinates&quot;: [&quot;-95.313056&quot;, 29.808611]}}, {&quot;type&quot;: &quot;Feature&quot;, &quot;properties&quot;: {&quot;Gage_Height(feet)&quot;: &quot;34.73&quot;, &quot;site_no&quot;: 8075770, &quot;Discharge(cfs)&quot;: &quot;4500&quot;}, &quot;geometry&quot;: {&quot;type&quot;: &quot;Point&quot;, &quot;coordinates&quot;: [&quot;-95.313056&quot;, 29.808611]}}, {&quot;type&quot;: &quot;Feature&quot;, &quot;properties&quot;: {&quot;Gage_Height(feet)&quot;: &quot;35.07&quot;, &quot;site_no&quot;: 8075770, &quot;Discharge(cfs)&quot;: &quot;4750&quot;}, &quot;geometry&quot;: {&quot;type&quot;: &quot;Point&quot;, &quot;coordinates&quot;: [&quot;-95.313056&quot;, 29.808611]}}, {&quot;type&quot;: &quot;Feature&quot;, &quot;properties&quot;: {&quot;Gage_Height(feet)&quot;: &quot;19.07&quot;, &quot;site_no&quot;: 8075770, &quot;Discharge(cfs)&quot;: &quot;48.6&quot;}, &quot;geometry&quot;: {&quot;type&quot;: &quot;Point&quot;, &quot;coordinates&quot;: [&quot;-95.313056&quot;, 29.808611]}}, {&quot;type&quot;: &quot;Feature&quot;, &quot;properties&quot;: {&quot;Gage_Height(feet)&quot;: &quot;35.23&quot;, &quot;site_no&quot;: 8075770, &quot;Discharge(cfs)&quot;: &quot;4870&quot;}, &quot;geometry&quot;: {&quot;type&quot;: &quot;Point&quot;, &quot;coordinates&quot;: [&quot;-95.313056&quot;, 29.808611]}}, {&quot;type&quot;: &quot;Feature&quot;, &quot;properties&quot;: {&quot;Gage_Height(feet)&quot;: &quot;35.31&quot;, &quot;site_no&quot;: 8075770, &quot;Discharge(cfs)&quot;: &quot;4930&quot;}, &quot;geometry&quot;: {&quot;type&quot;: &quot;Point&quot;, &quot;coordinates&quot;: [&quot;-95.313056&quot;, 29.808611]}}, {&quot;type&quot;: &quot;Feature&quot;, &quot;properties&quot;: {&quot;Gage_Height(feet)&quot;: &quot;19.13&quot;, &quot;site_no&quot;: 8075770, &quot;Discharge(cfs)&quot;: &quot;51.2&quot;}, &quot;geometry&quot;: {&quot;type&quot;: &quot;Point&quot;, &quot;coordinates&quot;: [&quot;-95.313056&quot;, 29.808611]}}, {&quot;type&quot;: &quot;Feature&quot;, &quot;properties&quot;: {&quot;Gage_Height(feet)&quot;: &quot;19.16&quot;, &quot;site_no&quot;: 8075770, &quot;Discharge(cfs)&quot;: &quot;52.1&quot;}, &quot;geometry&quot;: {&quot;type&quot;: &quot;Point&quot;, &quot;coordinates&quot;: [&quot;-95.313056&quot;, 29.808611]}}, {&quot;type&quot;: &quot;Feature&quot;, &quot;properties&quot;: {&quot;Gage_Height(feet)&quot;: &quot;19.17&quot;, &quot;site_no&quot;: 8075770, &quot;Discharge(cfs)&quot;: &quot;52.5&quot;}, &quot;geometry&quot;: {&quot;type&quot;: &quot;Point&quot;, &quot;coordinates&quot;: [&quot;-95.313056&quot;, 29.808611]}}, {&quot;type&quot;: &quot;Feature&quot;, &quot;properties&quot;: {&quot;Gage_Height(feet)&quot;: &quot;35.66&quot;, &quot;site_no&quot;: 8075770, &quot;Discharge(cfs)&quot;: &quot;5200&quot;}, &quot;geometry&quot;: {&quot;type&quot;: &quot;Point&quot;, &quot;coordinates&quot;: [&quot;-95.313056&quot;, 29.808611]}}, {&quot;type&quot;: &quot;Feature&quot;, &quot;properties&quot;: {&quot;Gage_Height(feet)&quot;: &quot;36.07&quot;, &quot;site_no&quot;: 8075770, &quot;Discharge(cfs)&quot;: &quot;5530&quot;}, &quot;geometry&quot;: {&quot;type&quot;: &quot;Point&quot;, &quot;coordinates&quot;: [&quot;-95.313056&quot;, 29.808611]}}, {&quot;type&quot;: &quot;Feature&quot;, &quot;properties&quot;: {&quot;Gage_Height(feet)&quot;: &quot;36.1&quot;, &quot;site_no&quot;: 8075770, &quot;Discharge(cfs)&quot;: &quot;5560&quot;}, &quot;geometry&quot;: {&quot;type&quot;: &quot;Point&quot;, &quot;coordinates&quot;: [&quot;-95.313056&quot;, 29.808611]}}, {&quot;type&quot;: &quot;Feature&quot;, &quot;properties&quot;: {&quot;Gage_Height(feet)&quot;: &quot;36.24&quot;, &quot;site_no&quot;: 8075770, &quot;Discharge(cfs)&quot;: &quot;5680&quot;}, &quot;geometry&quot;: {&quot;type&quot;: &quot;Point&quot;, &quot;coordinates&quot;: [&quot;-95.313056&quot;, 29.808611]}}, {&quot;type&quot;: &quot;Feature&quot;, &quot;properties&quot;: {&quot;Gage_Height(feet)&quot;: &quot;36.47&quot;, &quot;site_no&quot;: 8075770, &quot;Discharge(cfs)&quot;: &quot;5880&quot;}, &quot;geometry&quot;: {&quot;type&quot;: &quot;Point&quot;, &quot;coordinates&quot;: [&quot;-95.313056&quot;, 29.808611]}}, {&quot;type&quot;: &quot;Feature&quot;, &quot;properties&quot;: {&quot;Gage_Height(feet)&quot;: &quot;17.17&quot;, &quot;site_no&quot;: 8075770, &quot;Discharge(cfs)&quot;: &quot;6.92&quot;}, &quot;geometry&quot;: {&quot;type&quot;: &quot;Point&quot;, &quot;coordinates&quot;: [&quot;-95.313056&quot;, 29.808611]}}, {&quot;type&quot;: &quot;Feature&quot;, &quot;properties&quot;: {&quot;Gage_Height(feet)&quot;: &quot;17.17&quot;, &quot;site_no&quot;: 8075770, &quot;Discharge(cfs)&quot;: &quot;6.92&quot;}, &quot;geometry&quot;: {&quot;type&quot;: &quot;Point&quot;, &quot;coordinates&quot;: [&quot;-95.313056&quot;, 29.808611]}}, {&quot;type&quot;: &quot;Feature&quot;, &quot;properties&quot;: {&quot;Gage_Height(feet)&quot;: &quot;17.17&quot;, &quot;site_no&quot;: 8075770, &quot;Discharge(cfs)&quot;: &quot;6.92&quot;}, &quot;geometry&quot;: {&quot;type&quot;: &quot;Point&quot;, &quot;coordinates&quot;: [&quot;-95.313056&quot;, 29.808611]}}, {&quot;type&quot;: &quot;Feature&quot;, &quot;properties&quot;: {&quot;Gage_Height(feet)&quot;: &quot;19.47&quot;, &quot;site_no&quot;: 8075770, &quot;Discharge(cfs)&quot;: &quot;61.9&quot;}, &quot;geometry&quot;: {&quot;type&quot;: &quot;Point&quot;, &quot;coordinates&quot;: [&quot;-95.313056&quot;, 29.808611]}}, {&quot;type&quot;: &quot;Feature&quot;, &quot;properties&quot;: {&quot;Gage_Height(feet)&quot;: &quot;36.78&quot;, &quot;site_no&quot;: 8075770, &quot;Discharge(cfs)&quot;: &quot;6230&quot;}, &quot;geometry&quot;: {&quot;type&quot;: &quot;Point&quot;, &quot;coordinates&quot;: [&quot;-95.313056&quot;, 29.808611]}}, {&quot;type&quot;: &quot;Feature&quot;, &quot;properties&quot;: {&quot;Gage_Height(feet)&quot;: &quot;36.8&quot;, &quot;site_no&quot;: 8075770, &quot;Discharge(cfs)&quot;: &quot;6250&quot;}, &quot;geometry&quot;: {&quot;type&quot;: &quot;Point&quot;, &quot;coordinates&quot;: [&quot;-95.313056&quot;, 29.808611]}}, {&quot;type&quot;: &quot;Feature&quot;, &quot;properties&quot;: {&quot;Gage_Height(feet)&quot;: &quot;36.81&quot;, &quot;site_no&quot;: 8075770, &quot;Discharge(cfs)&quot;: &quot;6260&quot;}, &quot;geometry&quot;: {&quot;type&quot;: &quot;Point&quot;, &quot;coordinates&quot;: [&quot;-95.313056&quot;, 29.808611]}}, {&quot;type&quot;: &quot;Feature&quot;, &quot;properties&quot;: {&quot;Gage_Height(feet)&quot;: &quot;36.84&quot;, &quot;site_no&quot;: 8075770, &quot;Discharge(cfs)&quot;: &quot;6300&quot;}, &quot;geometry&quot;: {&quot;type&quot;: &quot;Point&quot;, &quot;coordinates&quot;: [&quot;-95.313056&quot;, 29.808611]}}, {&quot;type&quot;: &quot;Feature&quot;, &quot;properties&quot;: {&quot;Gage_Height(feet)&quot;: &quot;36.-95&quot;, &quot;site_no&quot;: 8075770, &quot;Discharge(cfs)&quot;: &quot;6410&quot;}, &quot;geometry&quot;: {&quot;type&quot;: &quot;Point&quot;, &quot;coordinates&quot;: [&quot;-95.313056&quot;, 29.808611]}}, {&quot;type&quot;: &quot;Feature&quot;, &quot;properties&quot;: {&quot;Gage_Height(feet)&quot;: &quot;25.25&quot;, &quot;site_no&quot;: 8075770, &quot;Discharge(cfs)&quot;: &quot;646&quot;}, &quot;geometry&quot;: {&quot;type&quot;: &quot;Point&quot;, &quot;coordinates&quot;: [&quot;-95.313056&quot;, 29.808611]}}, {&quot;type&quot;: &quot;Feature&quot;, &quot;properties&quot;: {&quot;Gage_Height(feet)&quot;: &quot;36.99&quot;, &quot;site_no&quot;: 8075770, &quot;Discharge(cfs)&quot;: &quot;6460&quot;}, &quot;geometry&quot;: {&quot;type&quot;: &quot;Point&quot;, &quot;coordinates&quot;: [&quot;-95.313056&quot;, 29.808611]}}, {&quot;type&quot;: &quot;Feature&quot;, &quot;properties&quot;: {&quot;Gage_Height(feet)&quot;: &quot;37.02&quot;, &quot;site_no&quot;: 8075770, &quot;Discharge(cfs)&quot;: &quot;6510&quot;}, &quot;geometry&quot;: {&quot;type&quot;: &quot;Point&quot;, &quot;coordinates&quot;: [&quot;-95.313056&quot;, 29.808611]}}, {&quot;type&quot;: &quot;Feature&quot;, &quot;properties&quot;: {&quot;Gage_Height(feet)&quot;: &quot;37.04&quot;, &quot;site_no&quot;: 8075770, &quot;Discharge(cfs)&quot;: &quot;6540&quot;}, &quot;geometry&quot;: {&quot;type&quot;: &quot;Point&quot;, &quot;coordinates&quot;: [&quot;-95.313056&quot;, 29.808611]}}, {&quot;type&quot;: &quot;Feature&quot;, &quot;properties&quot;: {&quot;Gage_Height(feet)&quot;: &quot;37.08&quot;, &quot;site_no&quot;: 8075770, &quot;Discharge(cfs)&quot;: &quot;6610&quot;}, &quot;geometry&quot;: {&quot;type&quot;: &quot;Point&quot;, &quot;coordinates&quot;: [&quot;-95.313056&quot;, 29.808611]}}, {&quot;type&quot;: &quot;Feature&quot;, &quot;properties&quot;: {&quot;Gage_Height(feet)&quot;: &quot;37.1&quot;, &quot;site_no&quot;: 8075770, &quot;Discharge(cfs)&quot;: &quot;6640&quot;}, &quot;geometry&quot;: {&quot;type&quot;: &quot;Point&quot;, &quot;coordinates&quot;: [&quot;-95.313056&quot;, 29.808611]}}, {&quot;type&quot;: &quot;Feature&quot;, &quot;properties&quot;: {&quot;Gage_Height(feet)&quot;: &quot;19.67&quot;, &quot;site_no&quot;: 8075770, &quot;Discharge(cfs)&quot;: &quot;69.5&quot;}, &quot;geometry&quot;: {&quot;type&quot;: &quot;Point&quot;, &quot;coordinates&quot;: [&quot;-95.313056&quot;, 29.808611]}}, {&quot;type&quot;: &quot;Feature&quot;, &quot;properties&quot;: {&quot;Gage_Height(feet)&quot;: &quot;25.49&quot;, &quot;site_no&quot;: 8075770, &quot;Discharge(cfs)&quot;: &quot;693&quot;}, &quot;geometry&quot;: {&quot;type&quot;: &quot;Point&quot;, &quot;coordinates&quot;: [&quot;-95.313056&quot;, 29.808611]}}, {&quot;type&quot;: &quot;Feature&quot;, &quot;properties&quot;: {&quot;Gage_Height(feet)&quot;: &quot;17.18&quot;, &quot;site_no&quot;: 8075770, &quot;Discharge(cfs)&quot;: &quot;7.08&quot;}, &quot;geometry&quot;: {&quot;type&quot;: &quot;Point&quot;, &quot;coordinates&quot;: [&quot;-95.313056&quot;, 29.808611]}}, {&quot;type&quot;: &quot;Feature&quot;, &quot;properties&quot;: {&quot;Gage_Height(feet)&quot;: &quot;17.18&quot;, &quot;site_no&quot;: 8075770, &quot;Discharge(cfs)&quot;: &quot;7.08&quot;}, &quot;geometry&quot;: {&quot;type&quot;: &quot;Point&quot;, &quot;coordinates&quot;: [&quot;-95.313056&quot;, 29.808611]}}, {&quot;type&quot;: &quot;Feature&quot;, &quot;properties&quot;: {&quot;Gage_Height(feet)&quot;: &quot;17.19&quot;, &quot;site_no&quot;: 8075770, &quot;Discharge(cfs)&quot;: &quot;7.24&quot;}, &quot;geometry&quot;: {&quot;type&quot;: &quot;Point&quot;, &quot;coordinates&quot;: [&quot;-95.313056&quot;, 29.808611]}}, {&quot;type&quot;: &quot;Feature&quot;, &quot;properties&quot;: {&quot;Gage_Height(feet)&quot;: &quot;17.19&quot;, &quot;site_no&quot;: 8075770, &quot;Discharge(cfs)&quot;: &quot;7.24&quot;}, &quot;geometry&quot;: {&quot;type&quot;: &quot;Point&quot;, &quot;coordinates&quot;: [&quot;-95.313056&quot;, 29.808611]}}, {&quot;type&quot;: &quot;Feature&quot;, &quot;properties&quot;: {&quot;Gage_Height(feet)&quot;: &quot;17.2&quot;, &quot;site_no&quot;: 8075770, &quot;Discharge(cfs)&quot;: &quot;7.41&quot;}, &quot;geometry&quot;: {&quot;type&quot;: &quot;Point&quot;, &quot;coordinates&quot;: [&quot;-95.313056&quot;, 29.808611]}}, {&quot;type&quot;: &quot;Feature&quot;, &quot;properties&quot;: {&quot;Gage_Height(feet)&quot;: &quot;17.21&quot;, &quot;site_no&quot;: 8075770, &quot;Discharge(cfs)&quot;: &quot;7.57&quot;}, &quot;geometry&quot;: {&quot;type&quot;: &quot;Point&quot;, &quot;coordinates&quot;: [&quot;-95.313056&quot;, 29.808611]}}, {&quot;type&quot;: &quot;Feature&quot;, &quot;properties&quot;: {&quot;Gage_Height(feet)&quot;: &quot;17.21&quot;, &quot;site_no&quot;: 8075770, &quot;Discharge(cfs)&quot;: &quot;7.57&quot;}, &quot;geometry&quot;: {&quot;type&quot;: &quot;Point&quot;, &quot;coordinates&quot;: [&quot;-95.313056&quot;, 29.808611]}}, {&quot;type&quot;: &quot;Feature&quot;, &quot;properties&quot;: {&quot;Gage_Height(feet)&quot;: &quot;17.22&quot;, &quot;site_no&quot;: 8075770, &quot;Discharge(cfs)&quot;: &quot;7.74&quot;}, &quot;geometry&quot;: {&quot;type&quot;: &quot;Point&quot;, &quot;coordinates&quot;: [&quot;-95.313056&quot;, 29.808611]}}, {&quot;type&quot;: &quot;Feature&quot;, &quot;properties&quot;: {&quot;Gage_Height(feet)&quot;: &quot;17.23&quot;, &quot;site_no&quot;: 8075770, &quot;Discharge(cfs)&quot;: &quot;7.92&quot;}, &quot;geometry&quot;: {&quot;type&quot;: &quot;Point&quot;, &quot;coordinates&quot;: [&quot;-95.313056&quot;, 29.808611]}}, {&quot;type&quot;: &quot;Feature&quot;, &quot;properties&quot;: {&quot;Gage_Height(feet)&quot;: &quot;17.23&quot;, &quot;site_no&quot;: 8075770, &quot;Discharge(cfs)&quot;: &quot;7.92&quot;}, &quot;geometry&quot;: {&quot;type&quot;: &quot;Point&quot;, &quot;coordinates&quot;: [&quot;-95.313056&quot;, 29.808611]}}, {&quot;type&quot;: &quot;Feature&quot;, &quot;properties&quot;: {&quot;Gage_Height(feet)&quot;: &quot;17.23&quot;, &quot;site_no&quot;: 8075770, &quot;Discharge(cfs)&quot;: &quot;7.92&quot;}, &quot;geometry&quot;: {&quot;type&quot;: &quot;Point&quot;, &quot;coordinates&quot;: [&quot;-95.313056&quot;, 29.808611]}}, {&quot;type&quot;: &quot;Feature&quot;, &quot;properties&quot;: {&quot;Gage_Height(feet)&quot;: &quot;17.23&quot;, &quot;site_no&quot;: 8075770, &quot;Discharge(cfs)&quot;: &quot;7.92&quot;}, &quot;geometry&quot;: {&quot;type&quot;: &quot;Point&quot;, &quot;coordinates&quot;: [&quot;-95.313056&quot;, 29.808611]}}, {&quot;type&quot;: &quot;Feature&quot;, &quot;properties&quot;: {&quot;Gage_Height(feet)&quot;: &quot;19.75&quot;, &quot;site_no&quot;: 8075770, &quot;Discharge(cfs)&quot;: &quot;72.7&quot;}, &quot;geometry&quot;: {&quot;type&quot;: &quot;Point&quot;, &quot;coordinates&quot;: [&quot;-95.313056&quot;, 29.808611]}}, {&quot;type&quot;: &quot;Feature&quot;, &quot;properties&quot;: {&quot;Gage_Height(feet)&quot;: &quot;26&quot;, &quot;site_no&quot;: 8075770, &quot;Discharge(cfs)&quot;: &quot;799&quot;}, &quot;geometry&quot;: {&quot;type&quot;: &quot;Point&quot;, &quot;coordinates&quot;: [&quot;-95.313056&quot;, 29.808611]}}, {&quot;type&quot;: &quot;Feature&quot;, &quot;properties&quot;: {&quot;Gage_Height(feet)&quot;: &quot;17.24&quot;, &quot;site_no&quot;: 8075770, &quot;Discharge(cfs)&quot;: &quot;8.09&quot;}, &quot;geometry&quot;: {&quot;type&quot;: &quot;Point&quot;, &quot;coordinates&quot;: [&quot;-95.313056&quot;, 29.808611]}}, {&quot;type&quot;: &quot;Feature&quot;, &quot;properties&quot;: {&quot;Gage_Height(feet)&quot;: &quot;17.24&quot;, &quot;site_no&quot;: 8075770, &quot;Discharge(cfs)&quot;: &quot;8.09&quot;}, &quot;geometry&quot;: {&quot;type&quot;: &quot;Point&quot;, &quot;coordinates&quot;: [&quot;-95.313056&quot;, 29.808611]}}, {&quot;type&quot;: &quot;Feature&quot;, &quot;properties&quot;: {&quot;Gage_Height(feet)&quot;: &quot;17.24&quot;, &quot;site_no&quot;: 8075770, &quot;Discharge(cfs)&quot;: &quot;8.09&quot;}, &quot;geometry&quot;: {&quot;type&quot;: &quot;Point&quot;, &quot;coordinates&quot;: [&quot;-95.313056&quot;, 29.808611]}}, {&quot;type&quot;: &quot;Feature&quot;, &quot;properties&quot;: {&quot;Gage_Height(feet)&quot;: &quot;17.25&quot;, &quot;site_no&quot;: 8075770, &quot;Discharge(cfs)&quot;: &quot;8.27&quot;}, &quot;geometry&quot;: {&quot;type&quot;: &quot;Point&quot;, &quot;coordinates&quot;: [&quot;-95.313056&quot;, 29.808611]}}, {&quot;type&quot;: &quot;Feature&quot;, &quot;properties&quot;: {&quot;Gage_Height(feet)&quot;: &quot;17.26&quot;, &quot;site_no&quot;: 8075770, &quot;Discharge(cfs)&quot;: &quot;8.46&quot;}, &quot;geometry&quot;: {&quot;type&quot;: &quot;Point&quot;, &quot;coordinates&quot;: [&quot;-95.313056&quot;, 29.808611]}}, {&quot;type&quot;: &quot;Feature&quot;, &quot;properties&quot;: {&quot;Gage_Height(feet)&quot;: &quot;19.-95&quot;, &quot;site_no&quot;: 8075770, &quot;Discharge(cfs)&quot;: &quot;81.1&quot;}, &quot;geometry&quot;: {&quot;type&quot;: &quot;Point&quot;, &quot;coordinates&quot;: [&quot;-95.313056&quot;, 29.808611]}}, {&quot;type&quot;: &quot;Feature&quot;, &quot;properties&quot;: {&quot;Gage_Height(feet)&quot;: &quot;26.25&quot;, &quot;site_no&quot;: 8075770, &quot;Discharge(cfs)&quot;: &quot;854&quot;}, &quot;geometry&quot;: {&quot;type&quot;: &quot;Point&quot;, &quot;coordinates&quot;: [&quot;-95.313056&quot;, 29.808611]}}, {&quot;type&quot;: &quot;Feature&quot;, &quot;properties&quot;: {&quot;Gage_Height(feet)&quot;: &quot;26.28&quot;, &quot;site_no&quot;: 8075770, &quot;Discharge(cfs)&quot;: &quot;861&quot;}, &quot;geometry&quot;: {&quot;type&quot;: &quot;Point&quot;, &quot;coordinates&quot;: [&quot;-95.313056&quot;, 29.808611]}}, {&quot;type&quot;: &quot;Feature&quot;, &quot;properties&quot;: {&quot;Gage_Height(feet)&quot;: &quot;17.3&quot;, &quot;site_no&quot;: 8075770, &quot;Discharge(cfs)&quot;: &quot;9.22&quot;}, &quot;geometry&quot;: {&quot;type&quot;: &quot;Point&quot;, &quot;coordinates&quot;: [&quot;-95.313056&quot;, 29.808611]}}, {&quot;type&quot;: &quot;Feature&quot;, &quot;properties&quot;: {&quot;Gage_Height(feet)&quot;: &quot;26.79&quot;, &quot;site_no&quot;: 8075770, &quot;Discharge(cfs)&quot;: &quot;980&quot;}, &quot;geometry&quot;: {&quot;type&quot;: &quot;Point&quot;, &quot;coordinates&quot;: [&quot;-95.313056&quot;, 29.808611]}}, {&quot;type&quot;: &quot;Feature&quot;, &quot;properties&quot;: {&quot;Gage_Height(feet)&quot;: &quot;20.33&quot;, &quot;site_no&quot;: 8075770, &quot;Discharge(cfs)&quot;: &quot;99.6&quot;}, &quot;geometry&quot;: {&quot;type&quot;: &quot;Point&quot;, &quot;coordinates&quot;: [&quot;-95.313056&quot;, 29.808611]}}]};\n",
       "        geomtype = divineGeometryType(mapdata);\n",
       "        \n",
       "            var ds = {\n",
       "                &quot;type&quot;:&quot;geojson&quot;,\n",
       "                &quot;data&quot;:mapdata\n",
       "            };\n",
       "            var clusterme = false;\n",
       "            if (geomtype.substr(-5,5) == &quot;Point&quot;) {\n",
       "                \n",
       "                    clusterme = true;\n",
       "                    ds[&quot;cluster&quot;] = true;\n",
       "                    ds[&quot;clusterMaxZoom&quot;] = 14;\n",
       "                    ds[&quot;clusterRadius&quot;] = 20;\n",
       "                    console.log(&quot;IM CLUSTERED&quot;);\n",
       "                \n",
       "            }\n",
       "            map.addSource(&quot;pxdatasource&quot;, ds);\n",
       "\n",
       "            var maplayertype = &quot;circle&quot;;\n",
       "            if (geomtype.substr(-7,7) == &quot;Polygon&quot;) \n",
       "                maplayertype = &quot;fill&quot;;\n",
       "            else if (geomtype.substr(-10,10) == &quot;LineString&quot;)\n",
       "                maplayertype = &quot;line&quot;;\n",
       "            map.addLayer({\n",
       "                &quot;id&quot;:&quot;pxlayer&quot;,\n",
       "                &quot;type&quot;:maplayertype, \n",
       "                &quot;source&quot;: &quot;pxdatasource&quot;, \n",
       "                &quot;paint&quot;: {&quot;circle-opacity&quot;: 0.25, &quot;circle-color&quot;: {&quot;property&quot;: &quot;site_no&quot;, &quot;stops&quot;: [[8075770.0, &quot;#ffffcc&quot;], [8075770.0, &quot;#acf98d&quot;], [8075770.0, &quot;#56ec97&quot;], [8075770.0, &quot;#26bdd7&quot;], [8075770.0, &quot;#253494&quot;]]}, &quot;circle-radius&quot;: 12}\n",
       "            });\n",
       "            \n",
       "            if (clusterme &amp;&amp; geomtype.substr(-5,5) == &quot;Point&quot;) {\n",
       "                map.addLayer({\n",
       "                    &quot;id&quot;: &quot;cluster-count-labels&quot;, \n",
       "                    &quot;type&quot;: &quot;symbol&quot;, \n",
       "                    &quot;source&quot;: &quot;pxdatasource&quot;, \n",
       "                    &quot;paint&quot;: {\n",
       "                        &quot;text-color&quot;: &quot;#FFF&quot;\n",
       "                    },\n",
       "                    &quot;layout&quot;: {\n",
       "                        &quot;text-field&quot;: &quot;{point_count}&quot;, \n",
       "                        &quot;text-font&quot;: [\n",
       "                            &quot;DIN Offc Pro Medium&quot;, \n",
       "                            &quot;Arial Unicode MS Bold&quot;\n",
       "                        ],\n",
       "                        &quot;text-size&quot;: 12\n",
       "                    }\n",
       "                });\n",
       "            }\n",
       "        \n",
       "        \n",
       "\n",
       "        comment = &quot;Add user layers&quot;;\n",
       "        var layers = [];\n",
       "        \n",
       "        layers.sort(function(a,b) {\n",
       "            return a[1] - b[1];\n",
       "        });\n",
       "        for (layersi=layers.length-1; layersi>=0; layersi--) {\n",
       "            map.addLayer(layers[layersi][0]);\n",
       "            comment = &quot;User layer legend&quot;;\n",
       "            \n",
       "        }\n",
       "        \n",
       "        map.fitBounds([[&quot;-95.313056&quot;, 29.808611], [&quot;-95.313056&quot;, 29.808611]]);\n",
       "        \n",
       "        \n",
       "    });\n",
       "</script>\n",
       "</body>\n",
       "</html>\" onload=\"iframeLoaded(this)\"></iframe>\n",
       "<script>\n",
       "  var iframe = document.getElementById('mapframeaae979a0');\n",
       "  iframe.setAttribute('srcdoc', atob('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'));\n",
       "</script>\n",
       "\n",
       "        </div>"
      ],
      "text/plain": [
       "<IPython.core.display.HTML object>"
      ]
     },
     "metadata": {},
     "output_type": "display_data"
    }
   ],
   "source": [
    "display(train)"
   ]
  }
 ],
 "metadata": {
  "kernelspec": {
   "display_name": "Python 3.5",
   "language": "python",
   "name": "python3"
  },
  "language_info": {
   "codemirror_mode": {
    "name": "ipython",
    "version": 3
   },
   "file_extension": ".py",
   "mimetype": "text/x-python",
   "name": "python",
   "nbconvert_exporter": "python",
   "pygments_lexer": "ipython3",
   "version": "3.5.5"
  }
 },
 "nbformat": 4,
 "nbformat_minor": 1
}
