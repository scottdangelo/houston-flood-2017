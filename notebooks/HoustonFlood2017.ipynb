{
 "cells": [
  {
   "cell_type": "markdown",
   "metadata": {
    "collapsed": true
   },
   "source": [
    "# STSA Python pattern: Houston Flood data\n",
    "\n",
    "\n",
    "![Hurricane Harvey](https://github.com/scottdangelo/houston-flood-2017/blob/master/doc/source/images/Harvey.png)\n",
    "\n",
    "NASA TERRA MODIS INFRARED IMAGE OF HARVEY AT 0419 UTC 26 AUGUST 2017 JUST AFTER LANDFALL AS A\n",
    "CATEGORY 4 HURRICANE IN TEXAS. IMAGE COURTESY OF UW/CIMSS. g"
   ]
  },
  {
   "cell_type": "markdown",
   "metadata": {},
   "source": [
    "## 1.0 Install dependencies and import packages"
   ]
  },
  {
   "cell_type": "markdown",
   "metadata": {},
   "source": [
    "### 1.1 Install pixiedust\n",
    "\n",
    "We install the prerequisites using the `!pip install` syntax here.\n",
    "In some cases, running pip install from a notebook may require a one-time kernel restart. Check the output for messages.\n",
    "If instructed to restart the kernel, from the notebook toolbar menu: • Go to > Kernel > Restart • Click Restart in the confirmation dialog\n",
    "> Note: The status of the kernel briefly flashes near the upper right corner, alerting when it is Not Connected, Restarting, Ready, etc. "
   ]
  },
  {
   "cell_type": "code",
   "execution_count": 1,
   "metadata": {},
   "outputs": [
    {
     "name": "stdout",
     "output_type": "stream",
     "text": [
      "Requirement already up-to-date: pixiedust in /gpfs/global_fs01/sym_shared/YPProdSpark/user/s49d-fa6eebe94d4691-2ef1a5e3ed71/.local/lib/python3.5/site-packages (1.1.15)\n",
      "Requirement not upgraded as not directly required: colour in /usr/local/src/conda3_runtime.v51/home/envs/DSX-Python35-Spark/lib/python3.5/site-packages (from pixiedust) (0.1.5)\n",
      "Requirement not upgraded as not directly required: lxml in /usr/local/src/conda3_runtime.v51/home/envs/DSX-Python35-Spark/lib/python3.5/site-packages (from pixiedust) (4.1.0)\n",
      "Requirement not upgraded as not directly required: geojson in /usr/local/src/conda3_runtime.v51/home/envs/DSX-Python35-Spark/lib/python3.5/site-packages (from pixiedust) (1.3.5)\n",
      "Requirement not upgraded as not directly required: astunparse in /usr/local/src/conda3_runtime.v51/home/envs/DSX-Python35-Spark/lib/python3.5/site-packages (from pixiedust) (1.5.0)\n",
      "Requirement not upgraded as not directly required: requests in /usr/local/src/conda3_runtime.v51/home/envs/DSX-Python35-Spark/lib/python3.5/site-packages (from pixiedust) (2.18.4)\n",
      "Requirement not upgraded as not directly required: markdown in /usr/local/src/conda3_runtime.v51/home/envs/DSX-Python35-Spark/lib/python3.5/site-packages (from pixiedust) (2.6.9)\n",
      "Requirement not upgraded as not directly required: mpld3 in /usr/local/src/conda3_runtime.v51/home/envs/DSX-Python35-Spark/lib/python3.5/site-packages (from pixiedust) (0.3)\n",
      "Requirement not upgraded as not directly required: wheel<1.0,>=0.23.0 in /usr/local/src/conda3_runtime.v51/home/envs/DSX-Python35-Spark/lib/python3.5/site-packages (from astunparse->pixiedust) (0.31.1)\n",
      "Requirement not upgraded as not directly required: six<2.0,>=1.6.1 in /usr/local/src/conda3_runtime.v51/home/envs/DSX-Python35-Spark/lib/python3.5/site-packages (from astunparse->pixiedust) (1.11.0)\n",
      "Requirement not upgraded as not directly required: chardet<3.1.0,>=3.0.2 in /usr/local/src/conda3_runtime.v51/home/envs/DSX-Python35-Spark/lib/python3.5/site-packages (from requests->pixiedust) (3.0.4)\n",
      "Requirement not upgraded as not directly required: idna<2.7,>=2.5 in /usr/local/src/conda3_runtime.v51/home/envs/DSX-Python35-Spark/lib/python3.5/site-packages (from requests->pixiedust) (2.6)\n",
      "Requirement not upgraded as not directly required: urllib3<1.23,>=1.21.1 in /usr/local/src/conda3_runtime.v51/home/envs/DSX-Python35-Spark/lib/python3.5/site-packages (from requests->pixiedust) (1.22)\n",
      "Requirement not upgraded as not directly required: certifi>=2017.4.17 in /usr/local/src/conda3_runtime.v51/home/envs/DSX-Python35-Spark/lib/python3.5/site-packages (from requests->pixiedust) (2018.11.29)\n",
      "\u001b[31mnotebook 5.0.0 requires nbconvert, which is not installed.\u001b[0m\n",
      "\u001b[31mipywidgets 6.0.0 requires widgetsnbextension~=2.0.0, which is not installed.\u001b[0m\n",
      "\u001b[31mtensorflow 1.3.0 requires tensorflow-tensorboard<0.2.0,>=0.1.0, which is not installed.\u001b[0m\n"
     ]
    }
   ],
   "source": [
    "!pip install --upgrade pixiedust"
   ]
  },
  {
   "cell_type": "markdown",
   "metadata": {},
   "source": [
    "### 1.2 Import the packages\n",
    "Numpy is a package for scientific computing in Python.  \n",
    "Pandas helps with data structures.  \n",
    "[Pixiedust](https://pixiedust.github.io/pixiedust/) is a Python helper library for Jupyter notebooks."
   ]
  },
  {
   "cell_type": "code",
   "execution_count": 2,
   "metadata": {},
   "outputs": [
    {
     "name": "stdout",
     "output_type": "stream",
     "text": [
      "Pixiedust database opened successfully\n"
     ]
    },
    {
     "data": {
      "text/html": [
       "\n",
       "        <div style=\"margin:10px\">\n",
       "            <a href=\"https://github.com/ibm-watson-data-lab/pixiedust\" target=\"_new\">\n",
       "                <img src=\"https://github.com/ibm-watson-data-lab/pixiedust/raw/master/docs/_static/pd_icon32.png\" style=\"float:left;margin-right:10px\"/>\n",
       "            </a>\n",
       "            <span>Pixiedust version 1.1.15</span>\n",
       "        </div>\n",
       "        "
      ],
      "text/plain": [
       "<IPython.core.display.HTML object>"
      ]
     },
     "metadata": {},
     "output_type": "display_data"
    }
   ],
   "source": [
    "import pandas as pd\n",
    "import numpy as np\n",
    "import pixiedust"
   ]
  },
  {
   "cell_type": "markdown",
   "metadata": {},
   "source": [
    "## 2.0 Obtain and curate data"
   ]
  },
  {
   "cell_type": "markdown",
   "metadata": {},
   "source": [
    "In order to do data science, or data engineering, we'll need some data.\n",
    "So, what problem are we trying to solve?\n",
    "\n",
    "### Where in Houston does flooding occur, and which specific adresses are vulnerable?"
   ]
  },
  {
   "cell_type": "markdown",
   "metadata": {},
   "source": [
    "### 2.1 Search for data\n",
    "We are interested in the flooding in Houston on August, 2017, as a result of Hurricane Harvey.\n",
    "Using a search engine, we can try `houston flood 2017 data`.  \n",
    "That gave many results, mostly news stories. But there are some promising sites, many from US government agencies:  \n",
    "* https://www.weather.gov\n",
    "* https://txpub.usgs.gov/floodwatch/#page-top\n",
    "* https://water.weather.gov/ahps2/index.php?wfo=hgx\n",
    "* https://www.nhc.noaa.gov/data/tcr/AL092017_Harvey.pdf\n",
    "* https://stn.wim.usgs.gov/STNDataPortal/#\n",
    "* https://streamstats.usgs.gov/ss/\n",
    "\n",
    "That's just the beginning, but hopefully it can lead to some data we can use."
   ]
  },
  {
   "cell_type": "markdown",
   "metadata": {},
   "source": [
    "### 2.2 Download and examine data\n",
    "We'll look at some data from stream gauges in Houston, gathering historical data from the dates 8/23/2017 - 8/31/2017.  \n",
    "I've grabbed the data for one stream gauge in the Houston Beltway area, Hunting Bayou, from the [waterdata.usgs.gov](https://waterdata.usgs.gov/nwis/nwismap/?site_no=08075763&agency_cd=USGS) site."
   ]
  },
  {
   "cell_type": "code",
   "execution_count": 5,
   "metadata": {},
   "outputs": [
    {
     "name": "stdout",
     "output_type": "stream",
     "text": [
      "--2019-03-06 10:59:31--  https://www.dropbox.com/s/ozxzpxwpmjp0ke6/HuntingtonBayou08075770?dl=0\n",
      "Resolving www.dropbox.com (www.dropbox.com)... 162.125.8.1, 2620:100:601b:1::a27d:801\n",
      "Connecting to www.dropbox.com (www.dropbox.com)|162.125.8.1|:443... connected.\n",
      "HTTP request sent, awaiting response... 301 Moved Permanently\n",
      "Location: /s/raw/ozxzpxwpmjp0ke6/HuntingtonBayou08075770 [following]\n",
      "--2019-03-06 10:59:31--  https://www.dropbox.com/s/raw/ozxzpxwpmjp0ke6/HuntingtonBayou08075770\n",
      "Reusing existing connection to www.dropbox.com:443.\n",
      "HTTP request sent, awaiting response... 302 Found\n",
      "Location: https://uccf3944b85993cf6587c6ed0474.dl.dropboxusercontent.com/cd/0/inline/AcnAgixy4P48EQt5knncQQgKyZQiPm85Q6UHetl2pJEXXGniZtUBXPedTejq1xrIC1YvAHQC6gppJTnvpewbgoGnzwkfvI8xNape_TgeMwAyg6D2wFnS4_UnrjVsubGvW_E/file# [following]\n",
      "--2019-03-06 10:59:31--  https://uccf3944b85993cf6587c6ed0474.dl.dropboxusercontent.com/cd/0/inline/AcnAgixy4P48EQt5knncQQgKyZQiPm85Q6UHetl2pJEXXGniZtUBXPedTejq1xrIC1YvAHQC6gppJTnvpewbgoGnzwkfvI8xNape_TgeMwAyg6D2wFnS4_UnrjVsubGvW_E/file\n",
      "Resolving uccf3944b85993cf6587c6ed0474.dl.dropboxusercontent.com (uccf3944b85993cf6587c6ed0474.dl.dropboxusercontent.com)... 162.125.8.6, 2620:100:601b:6::a27d:806\n",
      "Connecting to uccf3944b85993cf6587c6ed0474.dl.dropboxusercontent.com (uccf3944b85993cf6587c6ed0474.dl.dropboxusercontent.com)|162.125.8.6|:443... connected.\n",
      "HTTP request sent, awaiting response... 200 OK\n",
      "Length: 43511 (42K) [text/plain]\n",
      "Saving to: ‘HuntingtonBayou08075770?dl=0’\n",
      "\n",
      "100%[======================================>] 43,511      --.-K/s   in 0.001s  \n",
      "\n",
      "2019-03-06 10:59:32 (54.0 MB/s) - ‘HuntingtonBayou08075770?dl=0’ saved [43511/43511]\n",
      "\n",
      "additional_feedback_data.json\t\tHuntingBayou\t  WhiteoakBayou.csv\n",
      "german_credit_data_biased_training.csv\tHuntingBayou.csv\n",
      "german_credit_feed.json\t\t\tmaxFlood.csv\n"
     ]
    }
   ],
   "source": [
    "!wget \"https://www.dropbox.com/s/ozxzpxwpmjp0ke6/HuntingtonBayou08075770?dl=0\"\n",
    "!mv HuntingtonBayou08075770?dl=0 HuntingBayou\n",
    "!ls"
   ]
  },
  {
   "cell_type": "markdown",
   "metadata": {},
   "source": [
    "#### 2.3 First, let's look at the header to the file (which I've peeked at in an editor). This gives us some info on the contents:"
   ]
  },
  {
   "cell_type": "code",
   "execution_count": 16,
   "metadata": {},
   "outputs": [
    {
     "name": "stdout",
     "output_type": "stream",
     "text": [
      "# ---------------------------------- WARNING ----------------------------------------\r\n",
      "# Some of the data that you have obtained from this U.S. Geological Survey database\r\n",
      "# may not have received Director's approval. Any such data values are qualified\r\n",
      "# as provisional and are subject to revision. Provisional data are released on the\r\n",
      "# condition that neither the USGS nor the United States Government may be held liable\r\n",
      "# for any damages resulting from its use.\r\n",
      "#\r\n",
      "# Additional info: https://help.waterdata.usgs.gov/policies/provisional-data-statement\r\n",
      "#\r\n",
      "# File-format description:  https://help.waterdata.usgs.gov/faq/about-tab-delimited-output\r\n",
      "# Automated-retrieval info: https://help.waterdata.usgs.gov/faq/automated-retrievals\r\n",
      "#\r\n",
      "# Contact:   gs-w_support_nwisweb@usgs.gov\r\n",
      "# retrieved: 2019-02-27 16:27:28 EST       (nadww01)\r\n",
      "#\r\n",
      "# Data for the following 1 site(s) are contained in this file\r\n",
      "#    USGS 08075770 Hunting Bayou at IH 610, Houston, TX\r\n",
      "# -----------------------------------------------------------------------------------\r\n",
      "#\r\n",
      "# Data provided for site 08075770\r\n",
      "#            TS   parameter     Description\r\n",
      "#        140488       00060     Discharge, cubic feet per second\r\n",
      "#        140489       00065     Gage height, feet\r\n",
      "#\r\n",
      "# Data-value qualification codes included in this output:\r\n",
      "#\r\n",
      "#     A  Approved for publication -- Processing and review completed.\r\n",
      "#     e  Value has been estimated.\r\n",
      "#\r\n",
      "agency_cd\tsite_no\tdatetime\ttz_cd\t140488_00060\t140488_00060_cd\t140489_00065\t140489_00065_cd\r\n",
      "5s\t15s\t20d\t6s\t14n\t10s\t14n\t10s\r\n",
      "USGS\t08075770\t2017-08-23 00:00\tCDT\t7.92\tA\t17.23\tA\r\n",
      "USGS\t08075770\t2017-08-23 00:15\tCDT\t7.92\tA\t17.23\tA\r\n",
      "USGS\t08075770\t2017-08-23 00:30\tCDT\t7.92\tA\t17.23\tA\r\n",
      "USGS\t08075770\t2017-08-23 00:45\tCDT\t7.92\tA\t17.23\tA\r\n"
     ]
    }
   ],
   "source": [
    "! head -n 35 HuntingBayou"
   ]
  },
  {
   "cell_type": "markdown",
   "metadata": {},
   "source": [
    "#### 2.4 Now we'll look at the pandas dataframe itself. I see from the header that I need to skip the first 29 rows (rows 0-28), that the data is tab separated, and the header begins on the 30th line (line 29)."
   ]
  },
  {
   "cell_type": "code",
   "execution_count": 9,
   "metadata": {},
   "outputs": [],
   "source": [
    "df = pd.read_csv('HuntingBayou',sep='\\t',skiprows=(0-28),header=(29))"
   ]
  },
  {
   "cell_type": "code",
   "execution_count": 17,
   "metadata": {
    "scrolled": true
   },
   "outputs": [
    {
     "data": {
      "text/html": [
       "<div>\n",
       "<style scoped>\n",
       "    .dataframe tbody tr th:only-of-type {\n",
       "        vertical-align: middle;\n",
       "    }\n",
       "\n",
       "    .dataframe tbody tr th {\n",
       "        vertical-align: top;\n",
       "    }\n",
       "\n",
       "    .dataframe thead th {\n",
       "        text-align: right;\n",
       "    }\n",
       "</style>\n",
       "<table border=\"1\" class=\"dataframe\">\n",
       "  <thead>\n",
       "    <tr style=\"text-align: right;\">\n",
       "      <th></th>\n",
       "      <th>agency_cd</th>\n",
       "      <th>site_no</th>\n",
       "      <th>datetime</th>\n",
       "      <th>tz_cd</th>\n",
       "      <th>140488_00060</th>\n",
       "      <th>140488_00060_cd</th>\n",
       "      <th>140489_00065</th>\n",
       "      <th>140489_00065_cd</th>\n",
       "    </tr>\n",
       "  </thead>\n",
       "  <tbody>\n",
       "    <tr>\n",
       "      <th>0</th>\n",
       "      <td>5s</td>\n",
       "      <td>15s</td>\n",
       "      <td>20d</td>\n",
       "      <td>6s</td>\n",
       "      <td>14n</td>\n",
       "      <td>10s</td>\n",
       "      <td>14n</td>\n",
       "      <td>10s</td>\n",
       "    </tr>\n",
       "    <tr>\n",
       "      <th>1</th>\n",
       "      <td>USGS</td>\n",
       "      <td>08075770</td>\n",
       "      <td>2017-08-23 00:00</td>\n",
       "      <td>CDT</td>\n",
       "      <td>7.92</td>\n",
       "      <td>A</td>\n",
       "      <td>17.23</td>\n",
       "      <td>A</td>\n",
       "    </tr>\n",
       "    <tr>\n",
       "      <th>2</th>\n",
       "      <td>USGS</td>\n",
       "      <td>08075770</td>\n",
       "      <td>2017-08-23 00:15</td>\n",
       "      <td>CDT</td>\n",
       "      <td>7.92</td>\n",
       "      <td>A</td>\n",
       "      <td>17.23</td>\n",
       "      <td>A</td>\n",
       "    </tr>\n",
       "    <tr>\n",
       "      <th>3</th>\n",
       "      <td>USGS</td>\n",
       "      <td>08075770</td>\n",
       "      <td>2017-08-23 00:30</td>\n",
       "      <td>CDT</td>\n",
       "      <td>7.92</td>\n",
       "      <td>A</td>\n",
       "      <td>17.23</td>\n",
       "      <td>A</td>\n",
       "    </tr>\n",
       "    <tr>\n",
       "      <th>4</th>\n",
       "      <td>USGS</td>\n",
       "      <td>08075770</td>\n",
       "      <td>2017-08-23 00:45</td>\n",
       "      <td>CDT</td>\n",
       "      <td>7.92</td>\n",
       "      <td>A</td>\n",
       "      <td>17.23</td>\n",
       "      <td>A</td>\n",
       "    </tr>\n",
       "  </tbody>\n",
       "</table>\n",
       "</div>"
      ],
      "text/plain": [
       "  agency_cd   site_no          datetime tz_cd 140488_00060 140488_00060_cd  \\\n",
       "0        5s       15s               20d    6s          14n             10s   \n",
       "1      USGS  08075770  2017-08-23 00:00   CDT         7.92               A   \n",
       "2      USGS  08075770  2017-08-23 00:15   CDT         7.92               A   \n",
       "3      USGS  08075770  2017-08-23 00:30   CDT         7.92               A   \n",
       "4      USGS  08075770  2017-08-23 00:45   CDT         7.92               A   \n",
       "\n",
       "  140489_00065 140489_00065_cd  \n",
       "0          14n             10s  \n",
       "1        17.23               A  \n",
       "2        17.23               A  \n",
       "3        17.23               A  \n",
       "4        17.23               A  "
      ]
     },
     "execution_count": 17,
     "metadata": {},
     "output_type": "execute_result"
    }
   ],
   "source": [
    "df.head()"
   ]
  },
  {
   "cell_type": "markdown",
   "metadata": {},
   "source": [
    "#### 2.4 Do some data frame cleanup\n",
    "What's with the extra fields on line 0? Let's delete that line."
   ]
  },
  {
   "cell_type": "code",
   "execution_count": 23,
   "metadata": {},
   "outputs": [],
   "source": [
    "df = df.drop(0)"
   ]
  },
  {
   "cell_type": "markdown",
   "metadata": {},
   "source": [
    "We can rename those obscure column names, to give them a name that represents the data:"
   ]
  },
  {
   "cell_type": "code",
   "execution_count": 27,
   "metadata": {},
   "outputs": [],
   "source": [
    "df.rename(columns={'140488_00060': 'Discharge(cfs)', '140489_00065': 'GuageHeight(feet)'}, inplace=True)"
   ]
  },
  {
   "cell_type": "markdown",
   "metadata": {},
   "source": [
    "Let's replace the `site_no` with a `site_name` for `HuntingBayou`:"
   ]
  },
  {
   "cell_type": "code",
   "execution_count": 31,
   "metadata": {},
   "outputs": [],
   "source": [
    "df.rename(columns={'site_no': 'site_name'}, inplace=True)\n",
    "df['site_name'].replace(\"08075770\", \"HuntingBayou\", inplace=True)"
   ]
  },
  {
   "cell_type": "markdown",
   "metadata": {},
   "source": [
    "We don't care about the first `agency_cd` column, which is `USGS`, so let's drop it. The same goes for the `140488_00060_cd`, `140489_00065_cd`, and `tz_cd` columns. The `axis=1` denotes that this is a column."
   ]
  },
  {
   "cell_type": "code",
   "execution_count": 36,
   "metadata": {},
   "outputs": [],
   "source": [
    "df.drop('agency_cd', axis=1, inplace=True)\n",
    "df.drop('140488_00060_cd', axis=1, inplace=True)\n",
    "df.drop('140489_00065_cd', axis=1, inplace=True)\n",
    "df.drop('tz_cd', axis=1, inplace=True)"
   ]
  },
  {
   "cell_type": "markdown",
   "metadata": {},
   "source": [
    "Our `Discharge` and `GuageHeight` data are strings, but we need them to be floats. We'll convert them"
   ]
  },
  {
   "cell_type": "code",
   "execution_count": 43,
   "metadata": {},
   "outputs": [
    {
     "name": "stderr",
     "output_type": "stream",
     "text": [
      "/usr/local/src/conda3_runtime/home/envs/DSX-Python35-Spark/lib/python3.5/site-packages/ipykernel/__main__.py:1: FutureWarning: convert_objects is deprecated.  To re-infer data dtypes for object columns, use Series.infer_objects()\n",
      "For all other conversions use the data-type specific converters pd.to_datetime, pd.to_timedelta and pd.to_numeric.\n",
      "  if __name__ == '__main__':\n",
      "/usr/local/src/conda3_runtime/home/envs/DSX-Python35-Spark/lib/python3.5/site-packages/ipykernel/__main__.py:2: FutureWarning: convert_objects is deprecated.  To re-infer data dtypes for object columns, use Series.infer_objects()\n",
      "For all other conversions use the data-type specific converters pd.to_datetime, pd.to_timedelta and pd.to_numeric.\n",
      "  from ipykernel import kernelapp as app\n"
     ]
    }
   ],
   "source": [
    "df['GuageHeight(feet)'] = df['GuageHeight(feet)'].convert_objects(convert_numeric=True)\n",
    "df['Discharge(cfs)'] = df['Discharge(cfs)'].convert_objects(convert_numeric=True)"
   ]
  },
  {
   "cell_type": "markdown",
   "metadata": {},
   "source": [
    "Our datetime has the year 2017 for all fields, but our graphs will be cleaner if we skip it"
   ]
  },
  {
   "cell_type": "code",
   "execution_count": 51,
   "metadata": {},
   "outputs": [],
   "source": [
    "df['datetime'] = df['datetime'].map(lambda x: x.lstrip('2017-'))"
   ]
  },
  {
   "cell_type": "markdown",
   "metadata": {},
   "source": [
    "And finally, we can get the latitude and longitude for this stream gauge at Hunting Bayou, so let's add a couple columnns with that data, to allow this to show up on a map."
   ]
  },
  {
   "cell_type": "code",
   "execution_count": 38,
   "metadata": {},
   "outputs": [],
   "source": [
    "df['latitude']='29.808611'\n",
    "df['longitude']='-95.313056'"
   ]
  },
  {
   "cell_type": "markdown",
   "metadata": {},
   "source": [
    "Now we can see our results."
   ]
  },
  {
   "cell_type": "code",
   "execution_count": 52,
   "metadata": {
    "scrolled": true
   },
   "outputs": [
    {
     "data": {
      "text/html": [
       "<div>\n",
       "<style scoped>\n",
       "    .dataframe tbody tr th:only-of-type {\n",
       "        vertical-align: middle;\n",
       "    }\n",
       "\n",
       "    .dataframe tbody tr th {\n",
       "        vertical-align: top;\n",
       "    }\n",
       "\n",
       "    .dataframe thead th {\n",
       "        text-align: right;\n",
       "    }\n",
       "</style>\n",
       "<table border=\"1\" class=\"dataframe\">\n",
       "  <thead>\n",
       "    <tr style=\"text-align: right;\">\n",
       "      <th></th>\n",
       "      <th>site_name</th>\n",
       "      <th>datetime</th>\n",
       "      <th>tz_cd</th>\n",
       "      <th>Discharge(cfs)</th>\n",
       "      <th>GuageHeight(feet)</th>\n",
       "      <th>latitude</th>\n",
       "      <th>longitude</th>\n",
       "    </tr>\n",
       "  </thead>\n",
       "  <tbody>\n",
       "    <tr>\n",
       "      <th>1</th>\n",
       "      <td>HuntingBayou</td>\n",
       "      <td>8-23 00:00</td>\n",
       "      <td>CDT</td>\n",
       "      <td>7.92</td>\n",
       "      <td>17.23</td>\n",
       "      <td>29.808611</td>\n",
       "      <td>-95.313056</td>\n",
       "    </tr>\n",
       "    <tr>\n",
       "      <th>2</th>\n",
       "      <td>HuntingBayou</td>\n",
       "      <td>8-23 00:15</td>\n",
       "      <td>CDT</td>\n",
       "      <td>7.92</td>\n",
       "      <td>17.23</td>\n",
       "      <td>29.808611</td>\n",
       "      <td>-95.313056</td>\n",
       "    </tr>\n",
       "    <tr>\n",
       "      <th>3</th>\n",
       "      <td>HuntingBayou</td>\n",
       "      <td>8-23 00:30</td>\n",
       "      <td>CDT</td>\n",
       "      <td>7.92</td>\n",
       "      <td>17.23</td>\n",
       "      <td>29.808611</td>\n",
       "      <td>-95.313056</td>\n",
       "    </tr>\n",
       "    <tr>\n",
       "      <th>4</th>\n",
       "      <td>HuntingBayou</td>\n",
       "      <td>8-23 00:45</td>\n",
       "      <td>CDT</td>\n",
       "      <td>7.92</td>\n",
       "      <td>17.23</td>\n",
       "      <td>29.808611</td>\n",
       "      <td>-95.313056</td>\n",
       "    </tr>\n",
       "    <tr>\n",
       "      <th>5</th>\n",
       "      <td>HuntingBayou</td>\n",
       "      <td>8-23 01:00</td>\n",
       "      <td>CDT</td>\n",
       "      <td>7.92</td>\n",
       "      <td>17.23</td>\n",
       "      <td>29.808611</td>\n",
       "      <td>-95.313056</td>\n",
       "    </tr>\n",
       "  </tbody>\n",
       "</table>\n",
       "</div>"
      ],
      "text/plain": [
       "      site_name    datetime tz_cd  Discharge(cfs)  GuageHeight(feet)  \\\n",
       "1  HuntingBayou  8-23 00:00   CDT            7.92              17.23   \n",
       "2  HuntingBayou  8-23 00:15   CDT            7.92              17.23   \n",
       "3  HuntingBayou  8-23 00:30   CDT            7.92              17.23   \n",
       "4  HuntingBayou  8-23 00:45   CDT            7.92              17.23   \n",
       "5  HuntingBayou  8-23 01:00   CDT            7.92              17.23   \n",
       "\n",
       "    latitude   longitude  \n",
       "1  29.808611  -95.313056  \n",
       "2  29.808611  -95.313056  \n",
       "3  29.808611  -95.313056  \n",
       "4  29.808611  -95.313056  \n",
       "5  29.808611  -95.313056  "
      ]
     },
     "execution_count": 52,
     "metadata": {},
     "output_type": "execute_result"
    }
   ],
   "source": [
    "df.head()"
   ]
  },
  {
   "cell_type": "markdown",
   "metadata": {},
   "source": [
    "### 2.5 Use pixiedust `display()` to  explore the schema and browse the data\n",
    "\n",
    "#### 2.5.1 Select _DataFrame Table_ icon in the display widget to see the data in tabular form\n",
    "\n",
    "![pixiedust dataframe icon](https://github.com/scottdangelo/houston-flood-2017/blob/master/doc/source/images/pixieDataFrameIcon.png)\n",
    "\n",
    "#### 2.5.2 Select the chart icon to pull down and choose `line chart`. Click the `Options` button, and then for `Keys` drag and drop `datetime` and for `Values` drag and drop `Discharge`. This will display the water discharge at this stream gauge in cubic feet per second.\n",
    "\n",
    "![pixie choose line chart](https://github.com/scottdangelo/houston-flood-2017/blob/master/doc/source/images/pixieChooseLineChart.png)\n",
    "\n",
    "![pixie options datetime discharge](https://github.com/scottdangelo/houston-flood-2017/blob/master/doc/source/images/pixieOptionsDatetimeDischarge.png)\n",
    "\n",
    "\n",
    "#### 2.5.4  Click the `Options` button, and then for `Keys` drag and drop `datetime` and for `Values` drag and drop `Gauge_Height`. This will display the height of the water at this stream gauge, in feet.\n"
   ]
  },
  {
   "cell_type": "code",
   "execution_count": 32,
   "metadata": {},
   "outputs": [
    {
     "name": "stdout",
     "output_type": "stream",
     "text": [
      "--2019-03-04 22:51:10--  https://www.dropbox.com/s/smvfax2br0ez4bv/houston.geojson?dl=0\n",
      "Resolving www.dropbox.com (www.dropbox.com)... 162.125.8.1, 2620:100:601b:1::a27d:801\n",
      "Connecting to www.dropbox.com (www.dropbox.com)|162.125.8.1|:443... connected.\n",
      "HTTP request sent, awaiting response... 301 Moved Permanently\n",
      "Location: /s/raw/smvfax2br0ez4bv/houston.geojson [following]\n",
      "--2019-03-04 22:51:10--  https://www.dropbox.com/s/raw/smvfax2br0ez4bv/houston.geojson\n",
      "Reusing existing connection to www.dropbox.com:443.\n",
      "HTTP request sent, awaiting response... 302 Found\n",
      "Location: https://ucb5aa3231d428ba9a083d935362.dl.dropboxusercontent.com/cd/0/inline/Ace3OaGOa-MvTP-RRKl9R50cPRd34Jm06achR9AfHnKTNLQ2hj0RdykUelFesZWlvER5J-6rf36BU8KcPBC6XOKG3sNC8ITZBm2Vf4sDAPwjyt5dqwZzHp7QJZxm95SDX3E/file# [following]\n",
      "--2019-03-04 22:51:11--  https://ucb5aa3231d428ba9a083d935362.dl.dropboxusercontent.com/cd/0/inline/Ace3OaGOa-MvTP-RRKl9R50cPRd34Jm06achR9AfHnKTNLQ2hj0RdykUelFesZWlvER5J-6rf36BU8KcPBC6XOKG3sNC8ITZBm2Vf4sDAPwjyt5dqwZzHp7QJZxm95SDX3E/file\n",
      "Resolving ucb5aa3231d428ba9a083d935362.dl.dropboxusercontent.com (ucb5aa3231d428ba9a083d935362.dl.dropboxusercontent.com)... 162.125.8.6, 2620:100:601b:6::a27d:806\n",
      "Connecting to ucb5aa3231d428ba9a083d935362.dl.dropboxusercontent.com (ucb5aa3231d428ba9a083d935362.dl.dropboxusercontent.com)|162.125.8.6|:443... connected.\n",
      "HTTP request sent, awaiting response... 200 OK\n",
      "Length: 942513 (920K) [text/plain]\n",
      "Saving to: ‘houston.geojson?dl=0’\n",
      "\n",
      "100%[======================================>] 942,513     --.-K/s   in 0.008s  \n",
      "\n",
      "2019-03-04 22:51:11 (107 MB/s) - ‘houston.geojson?dl=0’ saved [942513/942513]\n",
      "\n"
     ]
    }
   ],
   "source": [
    "!wget \"https://www.dropbox.com/s/smvfax2br0ez4bv/houston.geojson?dl=0\""
   ]
  },
  {
   "cell_type": "code",
   "execution_count": 54,
   "metadata": {
    "pixiedust": {
     "displayParams": {
      "aggregation": "MAX",
      "chartsize": "100",
      "filter": "{}",
      "handlerId": "lineChart",
      "keyFields": "datetime",
      "mapboxtoken": "pk.eyJ1IjoibWFwYm94IiwiYSI6ImNpejY4M29iazA2Z2gycXA4N2pmbDZmangifQ.-g_vE53SD2WrJ6tFX7QHmA",
      "no_margin": "true",
      "rendererId": "matplotlib",
      "timeseries": "true",
      "valueFields": "GuageHeight(feet)"
     }
    },
    "scrolled": true
   },
   "outputs": [
    {
     "data": {
      "text/html": [
       "<style type=\"text/css\">.pd_warning{display:none;}</style><div class=\"pd_warning\"><em>Hey, there's something awesome here! To see it, open this notebook outside GitHub, in a viewer like Jupyter</em></div>\n",
       "        <div class=\"pd_save is-viewer-good\" style=\"padding-right:10px;text-align: center;line-height:initial !important;font-size: xx-large;font-weight: 500;color: coral;\">\n",
       "            \n",
       "        </div>\n",
       "    <div id=\"chartFigure336ef241\" class=\"pd_save is-viewer-good\" style=\"overflow-x:auto\">\n",
       "            \n",
       "                    \n",
       "                            <center><img style=\"max-width:initial !important\" src=\"data:image/png;base64,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\" class=\"pd_save\"></center>\n",
       "                        \n",
       "                    \n",
       "                \n",
       "        </div>"
      ],
      "text/plain": [
       "<IPython.core.display.HTML object>"
      ]
     },
     "metadata": {},
     "output_type": "display_data"
    }
   ],
   "source": [
    "hunting = df\n",
    "display(hunting)"
   ]
  },
  {
   "cell_type": "markdown",
   "metadata": {},
   "source": [
    "### 2.x Gather data for Max stream flows\n",
    "#### We have already:\n",
    "* Found data we can use\n",
    "* Cleaned the data\n",
    "* Displayed the data\n",
    "\n",
    "Next, let's aggregate stream Gauge Maximums for `Gauge Height` and `Discharge` so that we can put them on a map.\n",
    "This is done offline, manually using a text editor after downloading from various stream gauges, and then put into a single file."
   ]
  },
  {
   "cell_type": "markdown",
   "metadata": {},
   "source": [
    "## 3.0 Create Pixie App"
   ]
  },
  {
   "cell_type": "code",
   "execution_count": null,
   "metadata": {},
   "outputs": [],
   "source": [
    "\n",
    "\n",
    "!wget \"https://www.dropbox.com/s/smvfax2br0ez4bv/houston.geojson?dl=0\""
   ]
  },
  {
   "cell_type": "code",
   "execution_count": 34,
   "metadata": {},
   "outputs": [
    {
     "name": "stdout",
     "output_type": "stream",
     "text": [
      "fHuntingBayou.csv?dl=0\thouston.geojson   WhiteoakBayou.csv\r\n",
      "foo.csv\t\t\tHuntingBayou.csv\r\n"
     ]
    }
   ],
   "source": [
    "!mv houston.geojson?dl=0 houston.geojson\n",
    "!ls"
   ]
  },
  {
   "cell_type": "code",
   "execution_count": 18,
   "metadata": {},
   "outputs": [
    {
     "name": "stdout",
     "output_type": "stream",
     "text": [
      "--2019-03-05 17:38:24--  https://www.dropbox.com/s/dxr0fis01iudpog/maxFlood.csv?dl=0\n",
      "Resolving www.dropbox.com (www.dropbox.com)... 162.125.8.1, 2620:100:601b:1::a27d:801\n",
      "Connecting to www.dropbox.com (www.dropbox.com)|162.125.8.1|:443... connected.\n",
      "HTTP request sent, awaiting response... 301 Moved Permanently\n",
      "Location: /s/raw/dxr0fis01iudpog/maxFlood.csv [following]\n",
      "--2019-03-05 17:38:24--  https://www.dropbox.com/s/raw/dxr0fis01iudpog/maxFlood.csv\n",
      "Reusing existing connection to www.dropbox.com:443.\n",
      "HTTP request sent, awaiting response... 302 Found\n",
      "Location: https://ucc5d188295eff93c4c809cb9325.dl.dropboxusercontent.com/cd/0/inline/AcgQOdG_zp_mQLnExh1Tp6jalnRHmfctuK9k6otmRWlXZRe9BxbPJNvh5M_ndochKHuVRBwOHkTkkCW-kM1V5PUacQQA8ni4yCTWF9QxFMB5ZXeV7xnk6UxDF3G7PHdHAHU/file# [following]\n",
      "--2019-03-05 17:38:25--  https://ucc5d188295eff93c4c809cb9325.dl.dropboxusercontent.com/cd/0/inline/AcgQOdG_zp_mQLnExh1Tp6jalnRHmfctuK9k6otmRWlXZRe9BxbPJNvh5M_ndochKHuVRBwOHkTkkCW-kM1V5PUacQQA8ni4yCTWF9QxFMB5ZXeV7xnk6UxDF3G7PHdHAHU/file\n",
      "Resolving ucc5d188295eff93c4c809cb9325.dl.dropboxusercontent.com (ucc5d188295eff93c4c809cb9325.dl.dropboxusercontent.com)... 162.125.8.6, 2620:100:601b:6::a27d:806\n",
      "Connecting to ucc5d188295eff93c4c809cb9325.dl.dropboxusercontent.com (ucc5d188295eff93c4c809cb9325.dl.dropboxusercontent.com)|162.125.8.6|:443... connected.\n",
      "HTTP request sent, awaiting response... 200 OK\n",
      "Length: 229 [text/plain]\n",
      "Saving to: ‘maxFlood.csv?dl=0’\n",
      "\n",
      "100%[======================================>] 229         --.-K/s   in 0s      \n",
      "\n",
      "2019-03-05 17:38:25 (39.0 MB/s) - ‘maxFlood.csv?dl=0’ saved [229/229]\n",
      "\n"
     ]
    }
   ],
   "source": [
    "!wget \"https://www.dropbox.com/s/dxr0fis01iudpog/maxFlood.csv?dl=0\""
   ]
  },
  {
   "cell_type": "code",
   "execution_count": 19,
   "metadata": {},
   "outputs": [
    {
     "name": "stdout",
     "output_type": "stream",
     "text": [
      "additional_feedback_data.json\t\tHuntingBayou.csv\r\n",
      "german_credit_data_biased_training.csv\tmaxFlood.csv\r\n",
      "german_credit_feed.json\t\t\tWhiteoakBayou.csv\r\n"
     ]
    }
   ],
   "source": [
    "!mv maxFlood.csv?dl=0 maxFlood.csv\n",
    "!ls"
   ]
  },
  {
   "cell_type": "code",
   "execution_count": 20,
   "metadata": {},
   "outputs": [],
   "source": [
    "maxFlood = pd.read_csv('maxFlood.csv')"
   ]
  },
  {
   "cell_type": "code",
   "execution_count": 21,
   "metadata": {},
   "outputs": [
    {
     "data": {
      "text/html": [
       "<div>\n",
       "<style scoped>\n",
       "    .dataframe tbody tr th:only-of-type {\n",
       "        vertical-align: middle;\n",
       "    }\n",
       "\n",
       "    .dataframe tbody tr th {\n",
       "        vertical-align: top;\n",
       "    }\n",
       "\n",
       "    .dataframe thead th {\n",
       "        text-align: right;\n",
       "    }\n",
       "</style>\n",
       "<table border=\"1\" class=\"dataframe\">\n",
       "  <thead>\n",
       "    <tr style=\"text-align: right;\">\n",
       "      <th></th>\n",
       "      <th>site_no</th>\n",
       "      <th>date</th>\n",
       "      <th>time</th>\n",
       "      <th>tz_cd</th>\n",
       "      <th>Discharge(cfs)</th>\n",
       "      <th>Gage_Height(feet)</th>\n",
       "      <th>location_name</th>\n",
       "      <th>latitude</th>\n",
       "      <th>longitude</th>\n",
       "    </tr>\n",
       "  </thead>\n",
       "  <tbody>\n",
       "    <tr>\n",
       "      <th>0</th>\n",
       "      <td>8075770</td>\n",
       "      <td>8/27/17</td>\n",
       "      <td>7:30</td>\n",
       "      <td>CDT</td>\n",
       "      <td>6640</td>\n",
       "      <td>37.10</td>\n",
       "      <td>HuntingBayou</td>\n",
       "      <td>29.808611</td>\n",
       "      <td>-95.313056</td>\n",
       "    </tr>\n",
       "    <tr>\n",
       "      <th>1</th>\n",
       "      <td>8074500</td>\n",
       "      <td>8/27/17</td>\n",
       "      <td>5:30</td>\n",
       "      <td>CDT</td>\n",
       "      <td>30700</td>\n",
       "      <td>39.54</td>\n",
       "      <td>WhiteoakBayou</td>\n",
       "      <td>29.775000</td>\n",
       "      <td>-95.396944</td>\n",
       "    </tr>\n",
       "  </tbody>\n",
       "</table>\n",
       "</div>"
      ],
      "text/plain": [
       "   site_no     date   time tz_cd  Discharge(cfs)  Gage_Height(feet)  \\\n",
       "0  8075770  8/27/17   7:30   CDT            6640              37.10   \n",
       "1  8074500  8/27/17   5:30   CDT           30700              39.54   \n",
       "\n",
       "   location_name   latitude  longitude  \n",
       "0   HuntingBayou  29.808611 -95.313056  \n",
       "1  WhiteoakBayou  29.775000 -95.396944  "
      ]
     },
     "execution_count": 21,
     "metadata": {},
     "output_type": "execute_result"
    }
   ],
   "source": [
    "maxFlood"
   ]
  },
  {
   "cell_type": "code",
   "execution_count": 25,
   "metadata": {
    "pixiedust": {
     "displayParams": {
      "coloropacity": "100",
      "colorrampname": "Green to Purple",
      "handlerId": "mapView",
      "keyFields": "latitude,longitude",
      "kind": "simple",
      "mapboxtoken": "pk.eyJ1IjoibWFwYm94IiwiYSI6ImNpejY4M29iazA2Z2gycXA4N2pmbDZmangifQ.-g_vE53SD2WrJ6tFX7QHmA",
      "valueFields": "Gage_Height(feet),Discharge(cfs),date,time"
     }
    }
   },
   "outputs": [
    {
     "data": {
      "text/html": [
       "<style type=\"text/css\">.pd_warning{display:none;}</style><div class=\"pd_warning\"><em>Hey, there's something awesome here! To see it, open this notebook outside GitHub, in a viewer like Jupyter</em></div>"
      ],
      "text/plain": [
       "<IPython.core.display.HTML object>"
      ]
     },
     "metadata": {},
     "output_type": "display_data"
    }
   ],
   "source": [
    "display(maxFlood)"
   ]
  },
  {
   "cell_type": "code",
   "execution_count": 27,
   "metadata": {
    "pixiedust": {
     "displayParams": {}
    }
   },
   "outputs": [
    {
     "data": {
      "text/html": [
       "<style type=\"text/css\">.pd_warning{display:none;}</style><div class=\"pd_warning\"><em>Hey, there's something awesome here! To see it, open this notebook outside GitHub, in a viewer like Jupyter</em></div>"
      ],
      "text/plain": [
       "<IPython.core.display.HTML object>"
      ]
     },
     "metadata": {},
     "output_type": "display_data"
    }
   ],
   "source": [
    "from pixiedust.display.app import *\n",
    "from pixiedust.apps.mapboxBase import MapboxBase\n",
    "\n",
    "@PixieApp\n",
    "class HoustonDashboard(MapboxBase):\n",
    "    def setup(self):\n",
    "        self.mapJSONOptions = {\n",
    "      \"colorrampname\": \"Green to Purple\",\n",
    "      \"coloropacity\": \"100\",\n",
    "      \"handlerId\": \"mapView\",\n",
    "      \"kind\": \"simple\",\n",
    "      \"mapboxtoken\": \"pk.eyJ1IjoibWFwYm94IiwiYSI6ImNpejY4M29iazA2Z2gycXA4N2pmbDZmangifQ.-g_vE53SD2WrJ6tFX7QHmA\",\n",
    "      \"keyFields\": \"latitude,longitude\",\n",
    "      \"valueFields\": \"Gage_Height(feet),Discharge(cfs),date,time\"\n",
    "    }\n",
    "        \n",
    "\n",
    "        self.setLayers([\n",
    "        {\n",
    "            \"name\": \"Houston Flood\",\n",
    "            \"url\": \"https://www.dropbox.com/s/smvfax2br0ez4bv/houston.geojson?dl=0\",\n",
    "            \"type\": \"LineString\"\n",
    "        }\n",
    "        ])\n",
    "    def formatOptions(self,options):\n",
    "        return ';'.join([\"{}={}\".format(key,value) for (key, value) in iteritems(options)])\n",
    "\n",
    "    @route()\n",
    "    def mainScreen(self):\n",
    "        return \"\"\"\n",
    "<div class=\"well\">\n",
    "    <center><span style=\"font-size:x-large\">Analyzing Houston Flood data with PixieDust</span></center>\n",
    "</div>\n",
    "<div class=\"row\">\n",
    "    <div class=\"form-group col-sm-2\" style=\"padding-right:10px;\">\n",
    "        <div><strong>Layers</strong></div>\n",
    "        {% for layer in this.layers %}\n",
    "        <div class=\"rendererOpt checkbox checkbox-primary\">\n",
    "            <input type=\"checkbox\" pd_refresh=\"map{{prefix}}\" pd_script=\"self.toggleLayer({{loop.index0}})\">\n",
    "            <label>{{layer[\"name\"]}}</label>\n",
    "        </div>\n",
    "        {%endfor%}\n",
    "    </div>\n",
    "    <div class=\"form-group col-sm-10\">\n",
    "        <div id=\"map{{prefix}}\" pd_entity pd_options=\"{{this.formatOptions(this.mapJSONOptions)}}\"/>\n",
    "    </div>\n",
    "</div>\n",
    "\"\"\"\n",
    "\n",
    "HoustonDashboard().run(maxFlood,runInDialog=\"false\")\n"
   ]
  }
 ],
 "metadata": {
  "kernelspec": {
   "display_name": "Python 3.5 with Spark 2.1",
   "language": "python",
   "name": "python3-spark21"
  },
  "language_info": {
   "codemirror_mode": {
    "name": "ipython",
    "version": 3
   },
   "file_extension": ".py",
   "mimetype": "text/x-python",
   "name": "python",
   "nbconvert_exporter": "python",
   "pygments_lexer": "ipython3",
   "version": "3.5.4"
  }
 },
 "nbformat": 4,
 "nbformat_minor": 1
}
